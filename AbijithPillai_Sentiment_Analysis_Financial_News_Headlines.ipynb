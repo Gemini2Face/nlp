{
 "cells": [
  {
   "cell_type": "markdown",
   "metadata": {
    "id": "jU77E-fz2SIy"
   },
   "source": [
    "# Sentiment Analysis of Financial News Headlines\n",
    "## This task tests your ability to apply NLP techniques you've learnt to classify a news headline containing financial information into either one of the sentiments (Positive, Negative or Neutral)"
   ]
  },
  {
   "cell_type": "markdown",
   "metadata": {
    "id": "heHq_0G22SI0"
   },
   "source": [
    "### Dataset:\n",
    "https://raw.githubusercontent.com/subashgandyer/datasets/main/financial_news_headlines_sentiment.csv"
   ]
  },
  {
   "cell_type": "markdown",
   "metadata": {
    "id": "sLrgFVPo2SI1"
   },
   "source": [
    "## Max Marks without Bonus attempted: 80 points\n",
    "## Max Marks with Bonus: 100 points\n",
    "- ### Bonus: 20 points"
   ]
  },
  {
   "cell_type": "markdown",
   "metadata": {
    "id": "TKaGoMw72SI1"
   },
   "source": [
    "### Steps\n",
    "- 1. Download the dataset\n",
    "- 2. Load the dataset\n",
    "- 3. Explore the dataset (Exploratory Data Analysis)\n",
    "- 4. Clean the data\n",
    "- 5. Apply SMOTE for imbalanced data [Optional] --> Carries Bonus Marks\n",
    "- 6. Build a BoW model\n",
    "- 7. Build a Tf-Idf model\n",
    "- 8. Split train and test data\n",
    "- 9. Use one ML Classifying algorithm to classify the finanical news headline data\n",
    "- 10. Use another ML classifying algorithm to classify them\n",
    "- 11. Plot Confusion matrix"
   ]
  },
  {
   "cell_type": "code",
   "execution_count": 2,
   "metadata": {
    "id": "2COtFH6r2SI2",
    "ExecuteTime": {
     "end_time": "2023-11-25T01:41:46.740750Z",
     "start_time": "2023-11-25T01:41:46.443497500Z"
    }
   },
   "outputs": [],
   "source": [
    "import pandas as pd\n",
    "from sklearn.model_selection import train_test_split\n",
    "from sklearn.feature_extraction.text import CountVectorizer, TfidfVectorizer\n",
    "from sklearn.ensemble import RandomForestClassifier\n",
    "from sklearn.naive_bayes import MultinomialNB\n",
    "from sklearn.metrics import accuracy_score, classification_report, confusion_matrix\n",
    "import matplotlib.pyplot as plt\n",
    "import seaborn as sns\n",
    "from imblearn.over_sampling import SMOTE\n",
    "from sklearn.pipeline import make_pipeline\n",
    "from sklearn.preprocessing import LabelEncoder"
   ]
  },
  {
   "cell_type": "markdown",
   "metadata": {
    "id": "dJrANQmy2SI2"
   },
   "source": [
    "## 1. Download the dataset [1 point]"
   ]
  },
  {
   "cell_type": "code",
   "source": [
    "url = \"https://raw.githubusercontent.com/subashgandyer/datasets/main/financial_news_headlines_sentiment.csv\""
   ],
   "metadata": {
    "id": "odNNfXKj2Yvj",
    "ExecuteTime": {
     "end_time": "2023-11-25T01:41:46.745762300Z",
     "start_time": "2023-11-25T01:41:46.740750Z"
    }
   },
   "execution_count": 3,
   "outputs": []
  },
  {
   "cell_type": "markdown",
   "metadata": {
    "id": "xQHMAm9M2SI2"
   },
   "source": [
    "## 2. Load the dataset [1 point]"
   ]
  },
  {
   "cell_type": "code",
   "execution_count": 4,
   "metadata": {
    "colab": {
     "base_uri": "https://localhost:8080/"
    },
    "id": "fdzN31CA2SI3",
    "outputId": "c622dae9-be32-4d34-b838-554609a22e87",
    "ExecuteTime": {
     "end_time": "2023-11-25T01:41:46.875046700Z",
     "start_time": "2023-11-25T01:41:46.748975800Z"
    }
   },
   "outputs": [
    {
     "name": "stdout",
     "output_type": "stream",
     "text": [
      "       neutral  \\\n",
      "0      neutral   \n",
      "1     negative   \n",
      "2     positive   \n",
      "3     positive   \n",
      "4     positive   \n",
      "...        ...   \n",
      "4840  negative   \n",
      "4841   neutral   \n",
      "4842  negative   \n",
      "4843  negative   \n",
      "4844  negative   \n",
      "\n",
      "     According to Gran , the company has no plans to move all production to Russia , although that is where the company is growing .  \n",
      "0     Technopolis plans to develop in stages an area...                                                                               \n",
      "1     The international electronic industry company ...                                                                               \n",
      "2     With the new production plant the company woul...                                                                               \n",
      "3     According to the company 's updated strategy f...                                                                               \n",
      "4     FINANCING OF ASPOCOMP 'S GROWTH Aspocomp is ag...                                                                               \n",
      "...                                                 ...                                                                               \n",
      "4840  LONDON MarketWatch -- Share prices ended lower...                                                                               \n",
      "4841  Rinkuskiai 's beer sales fell by 6.5 per cent ...                                                                               \n",
      "4842  Operating profit fell to EUR 35.4 mn from EUR ...                                                                               \n",
      "4843  Net sales of the Paper segment decreased to EU...                                                                               \n",
      "4844  Sales in Finland decreased by 10.5 % in Januar...                                                                               \n",
      "\n",
      "[4845 rows x 2 columns]\n"
     ]
    }
   ],
   "source": [
    "data = pd.read_csv(url, encoding='latin1')\n",
    "print(data)"
   ]
  },
  {
   "cell_type": "markdown",
   "metadata": {
    "id": "IQYQW3JG2SI3"
   },
   "source": [
    "## 3. Explore the dataset [10 points]"
   ]
  },
  {
   "cell_type": "code",
   "execution_count": 5,
   "metadata": {
    "colab": {
     "base_uri": "https://localhost:8080/"
    },
    "id": "ST2slKro2SI3",
    "outputId": "7d224360-5590-44c9-b703-2523eacc87b5",
    "ExecuteTime": {
     "end_time": "2023-11-25T01:41:46.878037200Z",
     "start_time": "2023-11-25T01:41:46.875046700Z"
    }
   },
   "outputs": [
    {
     "name": "stdout",
     "output_type": "stream",
     "text": [
      "    neutral  \\\n",
      "0   neutral   \n",
      "1  negative   \n",
      "2  positive   \n",
      "3  positive   \n",
      "4  positive   \n",
      "\n",
      "  According to Gran , the company has no plans to move all production to Russia , although that is where the company is growing .  \n",
      "0  Technopolis plans to develop in stages an area...                                                                               \n",
      "1  The international electronic industry company ...                                                                               \n",
      "2  With the new production plant the company woul...                                                                               \n",
      "3  According to the company 's updated strategy f...                                                                               \n",
      "4  FINANCING OF ASPOCOMP 'S GROWTH Aspocomp is ag...                                                                               \n"
     ]
    }
   ],
   "source": [
    "print(data.head())"
   ]
  },
  {
   "cell_type": "code",
   "source": [
    "print(data.info())"
   ],
   "metadata": {
    "colab": {
     "base_uri": "https://localhost:8080/"
    },
    "id": "MYEDIInh4KXs",
    "outputId": "0cea5a1a-9d6f-4f4b-8c9d-2d6c1023315f",
    "ExecuteTime": {
     "end_time": "2023-11-25T01:41:46.893027400Z",
     "start_time": "2023-11-25T01:41:46.878037200Z"
    }
   },
   "execution_count": 6,
   "outputs": [
    {
     "name": "stdout",
     "output_type": "stream",
     "text": [
      "<class 'pandas.core.frame.DataFrame'>\n",
      "RangeIndex: 4845 entries, 0 to 4844\n",
      "Data columns (total 2 columns):\n",
      " #   Column                                                                                                                           Non-Null Count  Dtype \n",
      "---  ------                                                                                                                           --------------  ----- \n",
      " 0   neutral                                                                                                                          4845 non-null   object\n",
      " 1   According to Gran , the company has no plans to move all production to Russia , although that is where the company is growing .  4845 non-null   object\n",
      "dtypes: object(2)\n",
      "memory usage: 75.8+ KB\n",
      "None\n"
     ]
    }
   ]
  },
  {
   "cell_type": "code",
   "source": [
    "print(data.describe())"
   ],
   "metadata": {
    "colab": {
     "base_uri": "https://localhost:8080/"
    },
    "id": "Zd-Ah0hp4Mgc",
    "outputId": "1afa280f-bca8-4c6d-853f-2ba873dd1c0b",
    "ExecuteTime": {
     "end_time": "2023-11-25T01:41:46.969843200Z",
     "start_time": "2023-11-25T01:41:46.893027400Z"
    }
   },
   "execution_count": 7,
   "outputs": [
    {
     "name": "stdout",
     "output_type": "stream",
     "text": [
      "        neutral  \\\n",
      "count      4845   \n",
      "unique        3   \n",
      "top     neutral   \n",
      "freq       2878   \n",
      "\n",
      "       According to Gran , the company has no plans to move all production to Russia , although that is where the company is growing .  \n",
      "count                                                4845                                                                               \n",
      "unique                                               4837                                                                               \n",
      "top     TELECOMWORLDWIRE-7 April 2006-TJ Group Plc sel...                                                                               \n",
      "freq                                                    2                                                                               \n"
     ]
    }
   ]
  },
  {
   "cell_type": "markdown",
   "metadata": {
    "id": "EcbA2uPG2SI4"
   },
   "source": [
    "## 4. Clean the data [5 points]"
   ]
  },
  {
   "cell_type": "code",
   "execution_count": 8,
   "metadata": {
    "colab": {
     "base_uri": "https://localhost:8080/"
    },
    "id": "-13Ihzbp2SI4",
    "outputId": "9ddb138b-e787-476e-cc77-f504ad41d106",
    "ExecuteTime": {
     "end_time": "2023-11-25T01:41:46.969843200Z",
     "start_time": "2023-11-25T01:41:46.907208600Z"
    }
   },
   "outputs": [
    {
     "name": "stdout",
     "output_type": "stream",
     "text": [
      "  sentiment                                           headline\n",
      "0   neutral  Technopolis plans to develop in stages an area...\n",
      "1  negative  The international electronic industry company ...\n",
      "2  positive  With the new production plant the company woul...\n",
      "3  positive  According to the company 's updated strategy f...\n",
      "4  positive  FINANCING OF ASPOCOMP 'S GROWTH Aspocomp is ag...\n"
     ]
    }
   ],
   "source": [
    "data.columns = ['sentiment', 'headline']\n",
    "print(data.head())"
   ]
  },
  {
   "cell_type": "code",
   "source": [
    "data.drop_duplicates(inplace=True)\n",
    "print(data.describe())\n",
    "print(data['sentiment'].value_counts())"
   ],
   "metadata": {
    "colab": {
     "base_uri": "https://localhost:8080/"
    },
    "id": "EKfcLnv65cdA",
    "outputId": "a2a67869-62bf-4816-aa48-d5fa9b842699",
    "ExecuteTime": {
     "end_time": "2023-11-25T01:41:46.969843200Z",
     "start_time": "2023-11-25T01:41:46.914295400Z"
    }
   },
   "execution_count": 9,
   "outputs": [
    {
     "name": "stdout",
     "output_type": "stream",
     "text": [
      "       sentiment                                           headline\n",
      "count       4839                                               4839\n",
      "unique         3                                               4837\n",
      "top      neutral  TELECOMWORLDWIRE-7 April 2006-TJ Group Plc sel...\n",
      "freq        2872                                                  2\n",
      "sentiment\n",
      "neutral     2872\n",
      "positive    1363\n",
      "negative     604\n",
      "Name: count, dtype: int64\n"
     ]
    }
   ]
  },
  {
   "cell_type": "markdown",
   "metadata": {
    "id": "YoBT4GVQ2SI4"
   },
   "source": [
    "## 5. SMOTE (Imbalanced dataset) [OPTIONAL] BONUS [20 points]\n",
    "Hint: Use **imblearn** library"
   ]
  },
  {
   "cell_type": "code",
   "execution_count": 10,
   "metadata": {
    "id": "B0Nt9XtY2SI4",
    "ExecuteTime": {
     "end_time": "2023-11-25T01:41:46.969843200Z",
     "start_time": "2023-11-25T01:41:46.928495100Z"
    }
   },
   "outputs": [],
   "source": [
    "#label_encoder = LabelEncoder()\n",
    "#y = label_encoder.fit_transform(y)"
   ]
  },
  {
   "cell_type": "code",
   "source": [
    "#X_train, X_test, y_train, y_test = train_test_split(X, y, test_size=0.2, random_state=42)"
   ],
   "metadata": {
    "id": "SoseN2EE8xdN",
    "ExecuteTime": {
     "end_time": "2023-11-25T01:41:46.969843200Z",
     "start_time": "2023-11-25T01:41:46.933272800Z"
    }
   },
   "execution_count": 11,
   "outputs": []
  },
  {
   "cell_type": "code",
   "source": [
    "#smote = SMOTE(random_state=42)\n",
    "#X_resampled, y_resampled = smote.fit_resample(X_train.values.reshape(-1, 1), y_train)"
   ],
   "metadata": {
    "id": "D6Y1u72-84VJ",
    "ExecuteTime": {
     "end_time": "2023-11-25T01:41:46.969843200Z",
     "start_time": "2023-11-25T01:41:46.938569Z"
    }
   },
   "execution_count": 12,
   "outputs": []
  },
  {
   "cell_type": "markdown",
   "metadata": {
    "id": "U0Z8Zhjo2SI4"
   },
   "source": [
    "## 6. BoW model [15 points]"
   ]
  },
  {
   "cell_type": "code",
   "execution_count": 13,
   "metadata": {
    "id": "Bad7cZoh2SI5",
    "ExecuteTime": {
     "end_time": "2023-11-25T01:41:47.048909Z",
     "start_time": "2023-11-25T01:41:46.944913300Z"
    }
   },
   "outputs": [],
   "source": [
    "vectorizer = CountVectorizer()\n",
    "X_bow = vectorizer.fit_transform(data['headline'])"
   ]
  },
  {
   "cell_type": "markdown",
   "metadata": {
    "id": "i4FJcXAj2SI5"
   },
   "source": [
    "## 7. Tf-idf model [15 points]"
   ]
  },
  {
   "cell_type": "code",
   "execution_count": 14,
   "metadata": {
    "id": "mfDZitzt2SI5",
    "ExecuteTime": {
     "end_time": "2023-11-25T01:41:47.099697900Z",
     "start_time": "2023-11-25T01:41:47.022428300Z"
    }
   },
   "outputs": [],
   "source": [
    "tfidf_vectorizer = TfidfVectorizer()\n",
    "X_tfidf = tfidf_vectorizer.fit_transform(data['headline'])"
   ]
  },
  {
   "cell_type": "markdown",
   "metadata": {
    "id": "Ecd_ybtD2SI5"
   },
   "source": [
    "## 8. Split train test data [3 points]"
   ]
  },
  {
   "cell_type": "code",
   "execution_count": 15,
   "metadata": {
    "id": "zrro06fT2SI6",
    "ExecuteTime": {
     "end_time": "2023-11-25T01:41:47.107447900Z",
     "start_time": "2023-11-25T01:41:47.099697900Z"
    }
   },
   "outputs": [],
   "source": [
    "X_train_bow, X_test_bow, y_train, y_test = train_test_split(X_bow, data['sentiment'], test_size=0.2, random_state=42)\n",
    "X_train_tfidf, X_test_tfidf, _, _ = train_test_split(X_tfidf, data['sentiment'], test_size=0.2, random_state=42)"
   ]
  },
  {
   "cell_type": "markdown",
   "metadata": {
    "id": "bDyI99p32SI6"
   },
   "source": [
    "## 9. Classification Algorithm [10 points]\n",
    "- Train\n",
    "- Predict"
   ]
  },
  {
   "cell_type": "code",
   "execution_count": 16,
   "metadata": {
    "id": "CQiFemew2SI6",
    "ExecuteTime": {
     "end_time": "2023-11-25T01:42:00.871002200Z",
     "start_time": "2023-11-25T01:41:47.107447900Z"
    }
   },
   "outputs": [],
   "source": [
    "# Using Random forest algorithm and BOW\n",
    "classifier_rb = RandomForestClassifier()\n",
    "classifier_rb.fit(X_train_bow, y_train)\n",
    "predictions_rb = classifier_rb.predict(X_test_bow)"
   ]
  },
  {
   "cell_type": "code",
   "source": [
    "# Using Random forest algorithm and TFIDF\n",
    "classifier_rb_tfidf = RandomForestClassifier()\n",
    "classifier_rb_tfidf.fit(X_train_bow, y_train)\n",
    "predictions_rb_tfidf = classifier_rb_tfidf.predict(X_test_tfidf)"
   ],
   "metadata": {
    "id": "W8fFUq5wCAfQ",
    "ExecuteTime": {
     "end_time": "2023-11-25T01:42:13.826668400Z",
     "start_time": "2023-11-25T01:42:00.871002200Z"
    }
   },
   "execution_count": 17,
   "outputs": []
  },
  {
   "cell_type": "markdown",
   "metadata": {
    "id": "4EPLNTSl2SI6"
   },
   "source": [
    "## 10. Another Classification Algorithm [10 points]\n",
    "- Train\n",
    "- Predict"
   ]
  },
  {
   "cell_type": "code",
   "source": [
    "# Using Naive Bayes Classifier and TFIDF\n",
    "classifier_nb_tfidf = MultinomialNB()\n",
    "classifier_nb_tfidf.fit(X_train_bow, y_train)\n",
    "predictions_nb_tfidf = classifier_nb_tfidf.predict(X_test_tfidf)"
   ],
   "metadata": {
    "id": "6x69ftmUCLRM",
    "ExecuteTime": {
     "end_time": "2023-11-25T01:42:13.836202800Z",
     "start_time": "2023-11-25T01:42:13.826668400Z"
    }
   },
   "execution_count": 18,
   "outputs": []
  },
  {
   "cell_type": "code",
   "execution_count": 19,
   "metadata": {
    "id": "uPq1hseV2SI7",
    "ExecuteTime": {
     "end_time": "2023-11-25T01:42:13.851841300Z",
     "start_time": "2023-11-25T01:42:13.836202800Z"
    }
   },
   "outputs": [],
   "source": [
    "# Naive Bayes Classifier and BOW\n",
    "classifier_nb = MultinomialNB()\n",
    "classifier_nb.fit(X_train_tfidf, y_train)\n",
    "predictions_nb = classifier_nb.predict(X_test_bow)"
   ]
  },
  {
   "cell_type": "code",
   "execution_count": 20,
   "metadata": {
    "colab": {
     "base_uri": "https://localhost:8080/"
    },
    "id": "mNad_sTJ2SI7",
    "outputId": "8865c68d-aa1b-4d57-8ac1-6b14d4b27b2a",
    "ExecuteTime": {
     "end_time": "2023-11-25T01:42:13.899057300Z",
     "start_time": "2023-11-25T01:42:13.851841300Z"
    }
   },
   "outputs": [
    {
     "name": "stdout",
     "output_type": "stream",
     "text": [
      "Accuracy for RF and BOW: 0.7417355371900827\n",
      "Analysis for for RFand BOW :\n",
      "               precision    recall  f1-score   support\n",
      "\n",
      "    negative       0.85      0.38      0.53       120\n",
      "     neutral       0.72      0.98      0.83       571\n",
      "    positive       0.80      0.41      0.54       277\n",
      "\n",
      "    accuracy                           0.74       968\n",
      "   macro avg       0.79      0.59      0.63       968\n",
      "weighted avg       0.76      0.74      0.71       968\n",
      "\n",
      "Accuracy for RF and TFIDF : 0.5909090909090909\n",
      "Analysis for for RF and TFIDF:\n",
      "               precision    recall  f1-score   support\n",
      "\n",
      "    negative       0.00      0.00      0.00       120\n",
      "     neutral       0.59      1.00      0.74       571\n",
      "    positive       1.00      0.00      0.01       277\n",
      "\n",
      "    accuracy                           0.59       968\n",
      "   macro avg       0.53      0.33      0.25       968\n",
      "weighted avg       0.63      0.59      0.44       968\n"
     ]
    },
    {
     "name": "stderr",
     "output_type": "stream",
     "text": [
      "C:\\Users\\abhis\\AppData\\Local\\Programs\\Python\\Python311\\Lib\\site-packages\\sklearn\\metrics\\_classification.py:1469: UndefinedMetricWarning: Precision and F-score are ill-defined and being set to 0.0 in labels with no predicted samples. Use `zero_division` parameter to control this behavior.\n",
      "  _warn_prf(average, modifier, msg_start, len(result))\n",
      "C:\\Users\\abhis\\AppData\\Local\\Programs\\Python\\Python311\\Lib\\site-packages\\sklearn\\metrics\\_classification.py:1469: UndefinedMetricWarning: Precision and F-score are ill-defined and being set to 0.0 in labels with no predicted samples. Use `zero_division` parameter to control this behavior.\n",
      "  _warn_prf(average, modifier, msg_start, len(result))\n",
      "C:\\Users\\abhis\\AppData\\Local\\Programs\\Python\\Python311\\Lib\\site-packages\\sklearn\\metrics\\_classification.py:1469: UndefinedMetricWarning: Precision and F-score are ill-defined and being set to 0.0 in labels with no predicted samples. Use `zero_division` parameter to control this behavior.\n",
      "  _warn_prf(average, modifier, msg_start, len(result))\n"
     ]
    }
   ],
   "source": [
    "# Random Forest - Performance - BOW\n",
    "print(\"Accuracy for RF and BOW:\", accuracy_score(y_test, predictions_rb))\n",
    "print(\"Analysis for for RFand BOW :\\n\", classification_report(y_test, predictions_rb))\n",
    "# Random Forest - Performance - TFIDF\n",
    "print(\"Accuracy for RF and TFIDF :\", accuracy_score(y_test, predictions_rb_tfidf))\n",
    "print(\"Analysis for for RF and TFIDF:\\n\", classification_report(y_test, predictions_rb_tfidf))"
   ]
  },
  {
   "cell_type": "code",
   "source": [
    "# Naive Bayes  - Performance - TFIDF\n",
    "print(\"Accuracy for Naive bayes - TFIDF:\", accuracy_score(y_test, predictions_nb_tfidf))\n",
    "print(\"Analysis for Naive bayes - TFIDF:\\n\", classification_report(y_test, predictions_nb_tfidf))\n",
    "# Naive Bayes  - Performance - BOW\n",
    "print(\"Accuracy for Naive bayes-BOW:\", accuracy_score(y_test, predictions_nb))\n",
    "print(\"Analysis for Naive bayes-BOW:\\n\", classification_report(y_test, predictions_nb))"
   ],
   "metadata": {
    "colab": {
     "base_uri": "https://localhost:8080/"
    },
    "id": "sZOWidwl9o_9",
    "outputId": "cfdc2f66-7139-4324-eadd-f858e2c1d0e8",
    "ExecuteTime": {
     "end_time": "2023-11-25T01:42:13.928562Z",
     "start_time": "2023-11-25T01:42:13.899057300Z"
    }
   },
   "execution_count": 21,
   "outputs": [
    {
     "name": "stdout",
     "output_type": "stream",
     "text": [
      "Accuracy for Naive bayes - TFIDF: 0.7035123966942148\n",
      "Analysis for Naive bayes - TFIDF:\n",
      "               precision    recall  f1-score   support\n",
      "\n",
      "    negative       0.86      0.36      0.51       120\n",
      "     neutral       0.72      0.89      0.80       571\n",
      "    positive       0.60      0.46      0.52       277\n",
      "\n",
      "    accuracy                           0.70       968\n",
      "   macro avg       0.73      0.57      0.61       968\n",
      "weighted avg       0.70      0.70      0.68       968\n",
      "\n",
      "Accuracy for Naive bayes-BOW: 0.6683884297520661\n",
      "Analysis for Naive bayes-BOW:\n",
      "               precision    recall  f1-score   support\n",
      "\n",
      "    negative       1.00      0.05      0.10       120\n",
      "     neutral       0.68      0.97      0.80       571\n",
      "    positive       0.58      0.31      0.41       277\n",
      "\n",
      "    accuracy                           0.67       968\n",
      "   macro avg       0.76      0.44      0.43       968\n",
      "weighted avg       0.69      0.67      0.60       968\n"
     ]
    }
   ]
  },
  {
   "cell_type": "markdown",
   "metadata": {
    "id": "RZyc3ADZ2SI7"
   },
   "source": [
    "## 11. Confusion Matrixes for two classification algorithms and two feature extractor methods [10 points]"
   ]
  },
  {
   "cell_type": "code",
   "source": [
    "def confusion_matrix_analysis(y_true, y_pred, title):\n",
    "    cmatrix = confusion_matrix(y_true, y_pred)\n",
    "    plt.figure(figsize=(6, 6))\n",
    "    sns.heatmap(cmatrix, annot=True, fmt=\"d\", cmap=\"Blues\", cbar=False)\n",
    "    plt.title(title)\n",
    "    plt.xlabel(\"Predicted\")\n",
    "    plt.ylabel(\"Actual\")\n",
    "    plt.show()"
   ],
   "metadata": {
    "id": "vjlTWE509uUE",
    "ExecuteTime": {
     "end_time": "2023-11-25T01:42:13.930565900Z",
     "start_time": "2023-11-25T01:42:13.924157200Z"
    }
   },
   "execution_count": 22,
   "outputs": []
  },
  {
   "cell_type": "code",
   "source": [
    "confusion_matrix_analysis(y_test, predictions_rb, \"Random Forest : Confusion Matrix -BOW\")"
   ],
   "metadata": {
    "colab": {
     "base_uri": "https://localhost:8080/",
     "height": 564
    },
    "id": "E48H9VJx9ywd",
    "outputId": "c92fdf5c-7ad0-4e48-dd02-2159fc95f954",
    "ExecuteTime": {
     "end_time": "2023-11-25T01:42:14.042324100Z",
     "start_time": "2023-11-25T01:42:13.930565900Z"
    }
   },
   "execution_count": 23,
   "outputs": [
    {
     "data": {
      "text/plain": "<Figure size 600x600 with 1 Axes>",
      "image/png": "[encoded data removed]"
     },
     "metadata": {},
     "output_type": "display_data"
    }
   ]
  },
  {
   "cell_type": "code",
   "source": [
    "confusion_matrix_analysis(y_test, predictions_rb_tfidf, \"Random Forest : Confusion Matrix-TFIDF\")"
   ],
   "metadata": {
    "colab": {
     "base_uri": "https://localhost:8080/",
     "height": 564
    },
    "id": "lj5eQhloDfFG",
    "outputId": "3f099760-6f2f-4c51-a78c-2b3352613d07",
    "ExecuteTime": {
     "end_time": "2023-11-25T01:42:14.126936800Z",
     "start_time": "2023-11-25T01:42:14.042324100Z"
    }
   },
   "execution_count": 24,
   "outputs": [
    {
     "data": {
      "text/plain": "<Figure size 600x600 with 1 Axes>",
      "image/png": "[encoded data removed]"
     },
     "metadata": {},
     "output_type": "display_data"
    }
   ]
  },
  {
   "cell_type": "code",
   "source": [
    "confusion_matrix_analysis(y_test, predictions_nb, \"Naive Bayes : Confusion Matrix:BOW\")"
   ],
   "metadata": {
    "colab": {
     "base_uri": "https://localhost:8080/",
     "height": 564
    },
    "id": "Cbe6NIbB92EH",
    "outputId": "876374f0-8d7d-45d2-d1d1-734e371c59e9",
    "ExecuteTime": {
     "end_time": "2023-11-25T01:42:14.289061100Z",
     "start_time": "2023-11-25T01:42:14.130942300Z"
    }
   },
   "execution_count": 25,
   "outputs": [
    {
     "data": {
      "text/plain": "<Figure size 600x600 with 1 Axes>",
      "image/png": "[encoded data removed]"
     },
     "metadata": {},
     "output_type": "display_data"
    }
   ]
  },
  {
   "cell_type": "code",
   "source": [
    "confusion_matrix_analysis(y_test, predictions_nb_tfidf, \"Naive Bayes : Confusion Matrix:tfidf\")"
   ],
   "metadata": {
    "colab": {
     "base_uri": "https://localhost:8080/",
     "height": 564
    },
    "id": "I-UaGT-1Di7S",
    "outputId": "780e295b-50a8-49a9-85ae-d63cbedac796",
    "ExecuteTime": {
     "end_time": "2023-11-25T01:42:14.304921800Z",
     "start_time": "2023-11-25T01:42:14.288466900Z"
    }
   },
   "execution_count": 26,
   "outputs": [
    {
     "data": {
      "text/plain": "<Figure size 600x600 with 1 Axes>",
      "image/png": "[encoded data removed]"
     },
     "metadata": {},
     "output_type": "display_data"
    }
   ]
  }
 ],
 "metadata": {
  "kernelspec": {
   "name": "python3",
   "language": "python",
   "display_name": "Python 3 (ipykernel)"
  },
  "language_info": {
   "codemirror_mode": {
    "name": "ipython",
    "version": 3
   },
   "file_extension": ".py",
   "mimetype": "text/x-python",
   "name": "python",
   "nbconvert_exporter": "python",
   "pygments_lexer": "ipython3",
   "version": "3.8.5"
  },
  "colab": {
   "provenance": []
  }
 },
 "nbformat": 4,
 "nbformat_minor": 0
}
