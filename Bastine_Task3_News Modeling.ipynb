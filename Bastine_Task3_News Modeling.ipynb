{
 "cells": [
  {
   "cell_type": "markdown",
   "metadata": {},
   "source": [
    "# News Modeling\n",
    "\n",
    "Topic modeling involves **extracting features from document terms** and using\n",
    "mathematical structures and frameworks like matrix factorization and SVD to generate **clusters or groups of terms** that are distinguishable from each other and these clusters of words form topics or concepts\n",
    "\n",
    "Topic modeling is a method for **unsupervised classification** of documents, similar to clustering on numeric data\n",
    "\n",
    "These concepts can be used to interpret the main **themes** of a corpus and also make **semantic connections among words that co-occur together** frequently in various documents\n",
    "\n",
    "Topic modeling can help in the following areas:\n",
    "- discovering the **hidden themes** in the collection\n",
    "- **classifying** the documents into the discovered themes\n",
    "- using the classification to **organize/summarize/search** the documents\n",
    "\n",
    "Frameworks and algorithms to build topic models:\n",
    "- Latent semantic indexing\n",
    "- Latent Dirichlet allocation\n",
    "- Non-negative matrix factorization"
   ]
  },
  {
   "cell_type": "markdown",
   "metadata": {},
   "source": [
    "## Latent Dirichlet Allocation (LDA)\n",
    "The latent Dirichlet allocation (LDA) technique is a **generative probabilistic model** where each **document is assumed to have a combination of topics** similar to a probabilistic latent semantic indexing model\n",
    "\n",
    "In simple words, the idea behind LDA is that of two folds:\n",
    "- each **document** can be described by a **distribution of topics**\n",
    "- each **topic** can be described by a **distribution of words**"
   ]
  },
  {
   "cell_type": "markdown",
   "metadata": {},
   "source": [
    "### LDA Algorithm\n",
    "\n",
    "- 1. For each document, **randomly initialize each word to one of the K topics** (k is chosen beforehand)\n",
    "- 2. For each document D, go through each word w and compute:\n",
    "    - **P(T |D)** , which is a proportion of words in D assigned to topic T\n",
    "    - **P(W |T )** , which is a proportion of assignments to topic T over all documents having the word W\n",
    "- **Reassign word W with topic T** with probability P(T |D)´ P(W |T ) considering all other words and their topic assignments\n",
    "\n",
    "![LDA](https://raw.githubusercontent.com/subashgandyer/datasets/main/images/LDA.png)"
   ]
  },
  {
   "cell_type": "markdown",
   "metadata": {},
   "source": [
    "### Steps\n",
    "- Install the necessary library\n",
    "- Import the necessary libraries\n",
    "- Download the dataset\n",
    "- Load the dataset\n",
    "- Pre-process the dataset\n",
    "    - Stop words removal\n",
    "    - Email removal\n",
    "    - Non-alphabetic words removal\n",
    "    - Tokenize\n",
    "    - Lowercase\n",
    "    - BiGrams & TriGrams\n",
    "    - Lemmatization\n",
    "- Create a dictionary for the document\n",
    "- Filter low frequency words\n",
    "- Create an Index to word dictionary\n",
    "- Train the Topic Model\n",
    "- Predict on the dataset\n",
    "- Evaluate the Topic Model\n",
    "    - Model Perplexity\n",
    "    - Topic Coherence\n",
    "- Visualize the topics"
   ]
  },
  {
   "cell_type": "markdown",
   "metadata": {},
   "source": [
    "### Install the necessary library"
   ]
  },
  {
   "cell_type": "code",
   "execution_count": 1,
   "metadata": {},
   "outputs": [],
   "source": [
    "# ! pip install pyLDAvis gensim spacy"
   ]
  },
  {
   "cell_type": "markdown",
   "metadata": {},
   "source": [
    "### Import the libraries"
   ]
  },
  {
   "cell_type": "code",
   "execution_count": 2,
   "metadata": {},
   "outputs": [],
   "source": [
    "import pandas as pd\n",
    "from gensim import corpora\n",
    "from gensim.models import LdaModel\n",
    "from gensim.models import CoherenceModel\n",
    "from nltk.corpus import stopwords\n",
    "from nltk.tokenize import word_tokenize\n",
    "from nltk.stem import WordNetLemmatizer\n",
    "from nltk.util import ngrams\n",
    "import string\n",
    "import re\n",
    "import matplotlib.pyplot as plt"
   ]
  },
  {
   "cell_type": "markdown",
   "metadata": {},
   "source": [
    "### Download the dataset\n",
    "Dataset: https://raw.githubusercontent.com/subashgandyer/datasets/main/newsgroups.json\n",
    "\n",
    "#### 20-Newsgroups dataset\n",
    "- 11K newsgroups posts\n",
    "- 20 news topics"
   ]
  },
  {
   "cell_type": "code",
   "execution_count": 3,
   "metadata": {},
   "outputs": [],
   "source": [
    "import pandas as pd\n",
    "import requests\n",
    "\n",
    "# URL of the dataset\n",
    "url = \"https://raw.githubusercontent.com/subashgandyer/datasets/main/newsgroups.json\"\n",
    "\n",
    "# Send a GET request to the URL\n",
    "response = requests.get(url)\n",
    "with open(\"newsgroups.json\", \"wb\") as f:\n",
    "    f.write(response.content)"
   ]
  },
  {
   "cell_type": "markdown",
   "metadata": {},
   "source": [
    "### Load the dataset"
   ]
  },
  {
   "cell_type": "code",
   "execution_count": 4,
   "metadata": {},
   "outputs": [
    {
     "data": {
      "text/html": [
       "<div>\n",
       "<style scoped>\n",
       "    .dataframe tbody tr th:only-of-type {\n",
       "        vertical-align: middle;\n",
       "    }\n",
       "\n",
       "    .dataframe tbody tr th {\n",
       "        vertical-align: top;\n",
       "    }\n",
       "\n",
       "    .dataframe thead th {\n",
       "        text-align: right;\n",
       "    }\n",
       "</style>\n",
       "<table border=\"1\" class=\"dataframe\">\n",
       "  <thead>\n",
       "    <tr style=\"text-align: right;\">\n",
       "      <th></th>\n",
       "      <th>content</th>\n",
       "      <th>target</th>\n",
       "      <th>target_names</th>\n",
       "    </tr>\n",
       "  </thead>\n",
       "  <tbody>\n",
       "    <tr>\n",
       "      <th>0</th>\n",
       "      <td>From: lerxst@wam.umd.edu (where's my thing)\\nS...</td>\n",
       "      <td>7</td>\n",
       "      <td>rec.autos</td>\n",
       "    </tr>\n",
       "    <tr>\n",
       "      <th>1</th>\n",
       "      <td>From: guykuo@carson.u.washington.edu (Guy Kuo)...</td>\n",
       "      <td>4</td>\n",
       "      <td>comp.sys.mac.hardware</td>\n",
       "    </tr>\n",
       "    <tr>\n",
       "      <th>2</th>\n",
       "      <td>From: twillis@ec.ecn.purdue.edu (Thomas E Will...</td>\n",
       "      <td>4</td>\n",
       "      <td>comp.sys.mac.hardware</td>\n",
       "    </tr>\n",
       "    <tr>\n",
       "      <th>3</th>\n",
       "      <td>From: jgreen@amber (Joe Green)\\nSubject: Re: W...</td>\n",
       "      <td>1</td>\n",
       "      <td>comp.graphics</td>\n",
       "    </tr>\n",
       "    <tr>\n",
       "      <th>4</th>\n",
       "      <td>From: jcm@head-cfa.harvard.edu (Jonathan McDow...</td>\n",
       "      <td>14</td>\n",
       "      <td>sci.space</td>\n",
       "    </tr>\n",
       "  </tbody>\n",
       "</table>\n",
       "</div>"
      ],
      "text/plain": [
       "                                             content  target  \\\n",
       "0  From: lerxst@wam.umd.edu (where's my thing)\\nS...       7   \n",
       "1  From: guykuo@carson.u.washington.edu (Guy Kuo)...       4   \n",
       "2  From: twillis@ec.ecn.purdue.edu (Thomas E Will...       4   \n",
       "3  From: jgreen@amber (Joe Green)\\nSubject: Re: W...       1   \n",
       "4  From: jcm@head-cfa.harvard.edu (Jonathan McDow...      14   \n",
       "\n",
       "            target_names  \n",
       "0              rec.autos  \n",
       "1  comp.sys.mac.hardware  \n",
       "2  comp.sys.mac.hardware  \n",
       "3          comp.graphics  \n",
       "4              sci.space  "
      ]
     },
     "execution_count": 4,
     "metadata": {},
     "output_type": "execute_result"
    }
   ],
   "source": [
    "# Replace 'newsgroups.json' with the actual filename if you used a different name\n",
    "json_file = \"newsgroups.json\"\n",
    "\n",
    "# Load the JSON file into a DataFrame\n",
    "df = pd.read_json(json_file)\n",
    "\n",
    "# Display the first few rows of the DataFrame\n",
    "df.head()"
   ]
  },
  {
   "cell_type": "markdown",
   "metadata": {},
   "source": [
    "# Preprocess the data"
   ]
  },
  {
   "cell_type": "markdown",
   "metadata": {},
   "source": [
    "### Email Removal"
   ]
  },
  {
   "cell_type": "code",
   "execution_count": 5,
   "metadata": {},
   "outputs": [],
   "source": [
    "# Define functions for preprocessing\n",
    "def remove_emails(text):\n",
    "    # Use regex to remove emails\n",
    "    return re.sub(r'\\S+@\\S+', '', text)"
   ]
  },
  {
   "cell_type": "code",
   "execution_count": 6,
   "metadata": {},
   "outputs": [],
   "source": [
    "df['content'] = df['content'].apply(remove_emails)"
   ]
  },
  {
   "cell_type": "markdown",
   "metadata": {},
   "source": [
    "### Newline Removal"
   ]
  },
  {
   "cell_type": "code",
   "execution_count": 7,
   "metadata": {},
   "outputs": [],
   "source": [
    "def remove_newlines(text):\n",
    "    # Remove newline characters\n",
    "    return text.replace('\\n', ' ')"
   ]
  },
  {
   "cell_type": "code",
   "execution_count": 8,
   "metadata": {},
   "outputs": [],
   "source": [
    "df['content'] = df['content'].apply(remove_newlines)"
   ]
  },
  {
   "cell_type": "markdown",
   "metadata": {},
   "source": [
    "### Single Quotes Removal"
   ]
  },
  {
   "cell_type": "code",
   "execution_count": 9,
   "metadata": {},
   "outputs": [],
   "source": [
    "def remove_single_quotes(text):\n",
    "    # Remove single quotes\n",
    "    return text.replace(\"'\", '')"
   ]
  },
  {
   "cell_type": "code",
   "execution_count": 10,
   "metadata": {},
   "outputs": [],
   "source": [
    "df['content'] = df['content'].apply(remove_single_quotes)"
   ]
  },
  {
   "cell_type": "markdown",
   "metadata": {},
   "source": [
    "### Tokenize\n",
    "- Create **sent_to_words()** \n",
    "    - Use **gensim.utils.simple_preprocess**\n",
    "    - Use **generator** instead of an usual function"
   ]
  },
  {
   "cell_type": "code",
   "execution_count": 11,
   "metadata": {},
   "outputs": [
    {
     "name": "stdout",
     "output_type": "stream",
     "text": [
      "Tokenized Data:\n",
      "[['from', 'wheres', 'my', 'thing', 'subject', 'what', 'car', 'is', 'this', 'nntp', 'posting', 'host', 'rac', 'wam', 'umd', 'edu', 'organization', 'university', 'of', 'maryland', 'college', 'park', 'lines', 'was', 'wondering', 'if', 'anyone', 'out', 'there', 'could', 'enlighten', 'me', 'on', 'this', 'car', 'saw', 'the', 'other', 'day', 'it', 'was', 'door', 'sports', 'car', 'looked', 'to', 'be', 'from', 'the', 'late', 'early', 'it', 'was', 'called', 'bricklin', 'the', 'doors', 'were', 'really', 'small', 'in', 'addition', 'the', 'front', 'bumper', 'was', 'separate', 'from', 'the', 'rest', 'of', 'the', 'body', 'this', 'is', 'all', 'know', 'if', 'anyone', 'can', 'tellme', 'model', 'name', 'engine', 'specs', 'years', 'of', 'production', 'where', 'this', 'car', 'is', 'made', 'history', 'or', 'whatever', 'info', 'you', 'have', 'on', 'this', 'funky', 'looking', 'car', 'please', 'mail', 'thanks', 'il', 'brought', 'to', 'you', 'by', 'your', 'neighborhood', 'lerxst'], ['from', 'guy', 'kuo', 'subject', 'si', 'clock', 'poll', 'final', 'call', 'summary', 'final', 'call', 'for', 'si', 'clock', 'reports', 'keywords', 'si', 'acceleration', 'clock', 'upgrade', 'article', 'shelley', 'qvfo', 'innc', 'organization', 'university', 'of', 'washington', 'lines', 'nntp', 'posting', 'host', 'carson', 'washington', 'edu', 'fair', 'number', 'of', 'brave', 'souls', 'who', 'upgraded', 'their', 'si', 'clock', 'oscillator', 'have', 'shared', 'their', 'experiences', 'for', 'this', 'poll', 'please', 'send', 'brief', 'message', 'detailing', 'your', 'experiences', 'with', 'the', 'procedure', 'top', 'speed', 'attained', 'cpu', 'rated', 'speed', 'add', 'on', 'cards', 'and', 'adapters', 'heat', 'sinks', 'hour', 'of', 'usage', 'per', 'day', 'floppy', 'disk', 'functionality', 'with', 'and', 'floppies', 'are', 'especially', 'requested', 'will', 'be', 'summarizing', 'in', 'the', 'next', 'two', 'days', 'so', 'please', 'add', 'to', 'the', 'network', 'knowledge', 'base', 'if', 'you', 'have', 'done', 'the', 'clock', 'upgrade', 'and', 'havent', 'answered', 'this', 'poll', 'thanks', 'guy', 'kuo'], ['from', 'thomas', 'willis', 'subject', 'pb', 'questions', 'organization', 'purdue', 'university', 'engineering', 'computer', 'network', 'distribution', 'usa', 'lines', 'well', 'folks', 'my', 'mac', 'plus', 'finally', 'gave', 'up', 'the', 'ghost', 'this', 'weekend', 'after', 'starting', 'life', 'as', 'way', 'back', 'in', 'sooo', 'im', 'in', 'the', 'market', 'for', 'new', 'machine', 'bit', 'sooner', 'than', 'intended', 'to', 'be', 'im', 'looking', 'into', 'picking', 'up', 'powerbook', 'or', 'maybe', 'and', 'have', 'bunch', 'of', 'questions', 'that', 'hopefully', 'somebody', 'can', 'answer', 'does', 'anybody', 'know', 'any', 'dirt', 'on', 'when', 'the', 'next', 'round', 'of', 'powerbook', 'introductions', 'are', 'expected', 'id', 'heard', 'the', 'was', 'supposed', 'to', 'make', 'an', 'appearence', 'this', 'summer', 'but', 'havent', 'heard', 'anymore', 'on', 'it', 'and', 'since', 'dont', 'have', 'access', 'to', 'macleak', 'was', 'wondering', 'if', 'anybody', 'out', 'there', 'had', 'more', 'info', 'has', 'anybody', 'heard', 'rumors', 'about', 'price', 'drops', 'to', 'the', 'powerbook', 'line', 'like', 'the', 'ones', 'the', 'duos', 'just', 'went', 'through', 'recently', 'whats', 'the', 'impression', 'of', 'the', 'display', 'on', 'the', 'could', 'probably', 'swing', 'if', 'got', 'the', 'mb', 'disk', 'rather', 'than', 'the', 'but', 'dont', 'really', 'have', 'feel', 'for', 'how', 'much', 'better', 'the', 'display', 'is', 'yea', 'it', 'looks', 'great', 'in', 'the', 'store', 'but', 'is', 'that', 'all', 'wow', 'or', 'is', 'it', 'really', 'that', 'good', 'could', 'solicit', 'some', 'opinions', 'of', 'people', 'who', 'use', 'the', 'and', 'day', 'to', 'day', 'on', 'if', 'its', 'worth', 'taking', 'the', 'disk', 'size', 'and', 'money', 'hit', 'to', 'get', 'the', 'active', 'display', 'realize', 'this', 'is', 'real', 'subjective', 'question', 'but', 'ive', 'only', 'played', 'around', 'with', 'the', 'machines', 'in', 'computer', 'store', 'breifly', 'and', 'figured', 'the', 'opinions', 'of', 'somebody', 'who', 'actually', 'uses', 'the', 'machine', 'daily', 'might', 'prove', 'helpful', 'how', 'well', 'does', 'hellcats', 'perform', 'thanks', 'bunch', 'in', 'advance', 'for', 'any', 'info', 'if', 'you', 'could', 'email', 'ill', 'post', 'summary', 'news', 'reading', 'time', 'is', 'at', 'premium', 'with', 'finals', 'just', 'around', 'the', 'corner', 'tom', 'willis', 'purdue', 'electrical', 'engineering', 'convictions', 'are', 'more', 'dangerous', 'enemies', 'of', 'truth', 'than', 'lies', 'nietzsche'], ['from', 'joe', 'green', 'subject', 're', 'weitek', 'organization', 'harris', 'computer', 'systems', 'division', 'lines', 'distribution', 'world', 'nntp', 'posting', 'host', 'amber', 'ssd', 'csd', 'harris', 'com', 'newsreader', 'tin', 'version', 'pl', 'robert', 'kyanko', 'wrote', 'writes', 'in', 'article', 'anyone', 'know', 'about', 'the', 'weitek', 'graphics', 'chip', 'as', 'far', 'as', 'the', 'low', 'level', 'stuff', 'goes', 'it', 'looks', 'pretty', 'nice', 'its', 'got', 'this', 'quadrilateral', 'fill', 'command', 'that', 'requires', 'just', 'the', 'four', 'points', 'do', 'you', 'have', 'weiteks', 'address', 'phone', 'number', 'id', 'like', 'to', 'get', 'some', 'information', 'about', 'this', 'chip', 'joe', 'green', 'harris', 'corporation', 'computer', 'systems', 'division', 'the', 'only', 'thing', 'that', 'really', 'scares', 'me', 'is', 'person', 'with', 'no', 'sense', 'of', 'humor', 'jonathan', 'winters'], ['from', 'jonathan', 'mcdowell', 'subject', 're', 'shuttle', 'launch', 'question', 'organization', 'smithsonian', 'astrophysical', 'observatory', 'cambridge', 'ma', 'usa', 'distribution', 'sci', 'lines', 'from', 'article', 'by', 'tom', 'baker', 'in', 'article', 'pack', 'rat', 'writes', 'clear', 'caution', 'warning', 'memory', 'verify', 'no', 'unexpected', 'errors', 'am', 'wondering', 'what', 'an', 'expected', 'error', 'might', 'be', 'sorry', 'if', 'this', 'is', 'really', 'dumb', 'question', 'but', 'parity', 'errors', 'in', 'memory', 'or', 'previously', 'known', 'conditions', 'that', 'were', 'waivered', 'yes', 'that', 'is', 'an', 'error', 'but', 'we', 'already', 'knew', 'about', 'it', 'id', 'be', 'curious', 'as', 'to', 'what', 'the', 'real', 'meaning', 'of', 'the', 'quote', 'is', 'tom', 'my', 'understanding', 'is', 'that', 'the', 'expected', 'errors', 'are', 'basically', 'known', 'bugs', 'in', 'the', 'warning', 'system', 'software', 'things', 'are', 'checked', 'that', 'dont', 'have', 'the', 'right', 'values', 'in', 'yet', 'because', 'they', 'arent', 'set', 'till', 'after', 'launch', 'and', 'suchlike', 'rather', 'than', 'fix', 'the', 'code', 'and', 'possibly', 'introduce', 'new', 'bugs', 'they', 'just', 'tell', 'the', 'crew', 'ok', 'if', 'you', 'see', 'warning', 'no', 'before', 'liftoff', 'ignore', 'it', 'jonathan']]\n"
     ]
    }
   ],
   "source": [
    "from gensim.utils import simple_preprocess\n",
    "\n",
    "# Define the generator function\n",
    "def sent_to_words(sentences):\n",
    "    for sentence in sentences:\n",
    "        # Use gensim.utils.simple_preprocess to tokenize the sentence\n",
    "        yield simple_preprocess(sentence, deacc=True)  # deacc=True removes punctuations\n",
    "\n",
    "# Example usage:\n",
    "text_data = df['content'].values  # Assuming 'content' is the column name in your DataFrame\n",
    "\n",
    "# Tokenize the text using the sent_to_words generator\n",
    "tokenized_data = list(sent_to_words(text_data))\n",
    "\n",
    "# Display the tokenized data for the first few rows\n",
    "print(\"Tokenized Data:\")\n",
    "print(tokenized_data[:5])"
   ]
  },
  {
   "cell_type": "markdown",
   "metadata": {},
   "source": [
    "### Stop words Removal\n",
    "- Extend the stop words corpus with the following words\n",
    "    - from\n",
    "    - subject\n",
    "    - re\n",
    "    - edu\n",
    "    - use"
   ]
  },
  {
   "cell_type": "code",
   "execution_count": 12,
   "metadata": {},
   "outputs": [],
   "source": [
    "from gensim.parsing.preprocessing import STOPWORDS\n",
    "\n",
    "# Define additional stop words\n",
    "additional_stop_words = {'from', 'subject', 're', 'edu', 'use'}\n",
    "\n",
    "# Extend the stop words corpus\n",
    "stop_words = STOPWORDS.union(additional_stop_words)"
   ]
  },
  {
   "cell_type": "markdown",
   "metadata": {},
   "source": [
    "#### remove_stopwords( )"
   ]
  },
  {
   "cell_type": "code",
   "execution_count": 13,
   "metadata": {},
   "outputs": [
    {
     "name": "stdout",
     "output_type": "stream",
     "text": [
      "Tokenized Data without Stopwords:\n",
      "[['wheres', 'thing', 'car', 'nntp', 'posting', 'host', 'rac', 'wam', 'umd', 'organization', 'university', 'maryland', 'college', 'park', 'lines', 'wondering', 'enlighten', 'car', 'saw', 'day', 'door', 'sports', 'car', 'looked', 'late', 'early', 'called', 'bricklin', 'doors', 'small', 'addition', 'bumper', 'separate', 'rest', 'body', 'know', 'tellme', 'model', 'engine', 'specs', 'years', 'production', 'car', 'history', 'info', 'funky', 'looking', 'car', 'mail', 'thanks', 'il', 'brought', 'neighborhood', 'lerxst'], ['guy', 'kuo', 'si', 'clock', 'poll', 'final', 'summary', 'final', 'si', 'clock', 'reports', 'keywords', 'si', 'acceleration', 'clock', 'upgrade', 'article', 'shelley', 'qvfo', 'innc', 'organization', 'university', 'washington', 'lines', 'nntp', 'posting', 'host', 'carson', 'washington', 'fair', 'number', 'brave', 'souls', 'upgraded', 'si', 'clock', 'oscillator', 'shared', 'experiences', 'poll', 'send', 'brief', 'message', 'detailing', 'experiences', 'procedure', 'speed', 'attained', 'cpu', 'rated', 'speed', 'add', 'cards', 'adapters', 'heat', 'sinks', 'hour', 'usage', 'day', 'floppy', 'disk', 'functionality', 'floppies', 'especially', 'requested', 'summarizing', 'days', 'add', 'network', 'knowledge', 'base', 'clock', 'upgrade', 'havent', 'answered', 'poll', 'thanks', 'guy', 'kuo'], ['thomas', 'willis', 'pb', 'questions', 'organization', 'purdue', 'university', 'engineering', 'network', 'distribution', 'usa', 'lines', 'folks', 'mac', 'plus', 'finally', 'gave', 'ghost', 'weekend', 'starting', 'life', 'way', 'sooo', 'im', 'market', 'new', 'machine', 'bit', 'sooner', 'intended', 'im', 'looking', 'picking', 'powerbook', 'maybe', 'bunch', 'questions', 'hopefully', 'somebody', 'answer', 'anybody', 'know', 'dirt', 'round', 'powerbook', 'introductions', 'expected', 'id', 'heard', 'supposed', 'appearence', 'summer', 'havent', 'heard', 'anymore', 'dont', 'access', 'macleak', 'wondering', 'anybody', 'info', 'anybody', 'heard', 'rumors', 'price', 'drops', 'powerbook', 'line', 'like', 'ones', 'duos', 'went', 'recently', 'whats', 'impression', 'display', 'probably', 'swing', 'got', 'mb', 'disk', 'dont', 'feel', 'better', 'display', 'yea', 'looks', 'great', 'store', 'wow', 'good', 'solicit', 'opinions', 'people', 'day', 'day', 'worth', 'taking', 'disk', 'size', 'money', 'hit', 'active', 'display', 'realize', 'real', 'subjective', 'question', 'ive', 'played', 'machines', 'store', 'breifly', 'figured', 'opinions', 'somebody', 'actually', 'uses', 'machine', 'daily', 'prove', 'helpful', 'hellcats', 'perform', 'thanks', 'bunch', 'advance', 'info', 'email', 'ill', 'post', 'summary', 'news', 'reading', 'time', 'premium', 'finals', 'corner', 'tom', 'willis', 'purdue', 'electrical', 'engineering', 'convictions', 'dangerous', 'enemies', 'truth', 'lies', 'nietzsche'], ['joe', 'green', 'weitek', 'organization', 'harris', 'systems', 'division', 'lines', 'distribution', 'world', 'nntp', 'posting', 'host', 'amber', 'ssd', 'csd', 'harris', 'com', 'newsreader', 'tin', 'version', 'pl', 'robert', 'kyanko', 'wrote', 'writes', 'article', 'know', 'weitek', 'graphics', 'chip', 'far', 'low', 'level', 'stuff', 'goes', 'looks', 'pretty', 'nice', 'got', 'quadrilateral', 'command', 'requires', 'points', 'weiteks', 'address', 'phone', 'number', 'id', 'like', 'information', 'chip', 'joe', 'green', 'harris', 'corporation', 'systems', 'division', 'thing', 'scares', 'person', 'sense', 'humor', 'jonathan', 'winters'], ['jonathan', 'mcdowell', 'shuttle', 'launch', 'question', 'organization', 'smithsonian', 'astrophysical', 'observatory', 'cambridge', 'ma', 'usa', 'distribution', 'sci', 'lines', 'article', 'tom', 'baker', 'article', 'pack', 'rat', 'writes', 'clear', 'caution', 'warning', 'memory', 'verify', 'unexpected', 'errors', 'wondering', 'expected', 'error', 'sorry', 'dumb', 'question', 'parity', 'errors', 'memory', 'previously', 'known', 'conditions', 'waivered', 'yes', 'error', 'knew', 'id', 'curious', 'real', 'meaning', 'quote', 'tom', 'understanding', 'expected', 'errors', 'basically', 'known', 'bugs', 'warning', 'software', 'things', 'checked', 'dont', 'right', 'values', 'arent', 'set', 'till', 'launch', 'suchlike', 'fix', 'code', 'possibly', 'introduce', 'new', 'bugs', 'tell', 'crew', 'ok', 'warning', 'liftoff', 'ignore', 'jonathan']]\n"
     ]
    }
   ],
   "source": [
    "def remove_stopwords(texts):\n",
    "    # Remove stop words from each list of tokens\n",
    "    result = []\n",
    "    for doc in texts:\n",
    "        filtered_tokens = []\n",
    "        for word in doc:\n",
    "            if word not in stop_words:\n",
    "                filtered_tokens.append(word)\n",
    "        result.append(filtered_tokens)\n",
    "    return result\n",
    "\n",
    "# Example usage:\n",
    "tokenized_data_without_stopwords = remove_stopwords(tokenized_data)\n",
    "\n",
    "# Display the tokenized data without stop words for the first few rows\n",
    "print(\"Tokenized Data without Stopwords:\")\n",
    "print(tokenized_data_without_stopwords[:5])\n"
   ]
  },
  {
   "cell_type": "markdown",
   "metadata": {},
   "source": [
    "### Bigrams\n",
    "- Use **gensim.models.Phrases**\n",
    "- 100 as threshold"
   ]
  },
  {
   "cell_type": "code",
   "execution_count": 14,
   "metadata": {},
   "outputs": [
    {
     "name": "stdout",
     "output_type": "stream",
     "text": [
      "data_words_bigrams:\n",
      "[['from', 'wheres', 'my', 'thing', 'subject', 'what', 'car', 'is', 'this', 'nntp_posting', 'host', 'rac_wam', 'umd_edu', 'organization', 'university', 'of', 'maryland_college', 'park', 'lines', 'was', 'wondering', 'if', 'anyone', 'out', 'there', 'could', 'enlighten', 'me', 'on', 'this', 'car', 'saw', 'the', 'other', 'day', 'it', 'was', 'door', 'sports', 'car', 'looked', 'to', 'be', 'from', 'the', 'late', 'early', 'it', 'was', 'called', 'bricklin', 'the', 'doors', 'were', 'really', 'small', 'in', 'addition', 'the', 'front_bumper', 'was', 'separate', 'from', 'the', 'rest', 'of', 'the', 'body', 'this', 'is', 'all', 'know', 'if', 'anyone', 'can', 'tellme', 'model', 'name', 'engine', 'specs', 'years', 'of', 'production', 'where', 'this', 'car', 'is', 'made', 'history', 'or', 'whatever', 'info', 'you', 'have', 'on', 'this', 'funky', 'looking', 'car', 'please', 'mail', 'thanks', 'il', 'brought', 'to', 'you', 'by', 'your', 'neighborhood', 'lerxst'], ['from', 'guy_kuo', 'subject', 'si', 'clock', 'poll', 'final', 'call', 'summary', 'final', 'call', 'for', 'si', 'clock', 'reports', 'keywords', 'si', 'acceleration', 'clock', 'upgrade', 'article', 'shelley', 'qvfo', 'innc', 'organization', 'university', 'of', 'washington', 'lines', 'nntp_posting', 'host', 'carson_washington', 'edu', 'fair', 'number', 'of', 'brave', 'souls', 'who', 'upgraded', 'their', 'si', 'clock', 'oscillator', 'have', 'shared', 'their', 'experiences', 'for', 'this', 'poll', 'please', 'send', 'brief', 'message', 'detailing', 'your', 'experiences', 'with', 'the', 'procedure', 'top', 'speed', 'attained', 'cpu', 'rated', 'speed', 'add', 'on', 'cards', 'and', 'adapters', 'heat_sinks', 'hour', 'of', 'usage', 'per', 'day', 'floppy_disk', 'functionality', 'with', 'and', 'floppies', 'are', 'especially', 'requested', 'will', 'be', 'summarizing', 'in', 'the', 'next', 'two', 'days', 'so', 'please', 'add', 'to', 'the', 'network', 'knowledge', 'base', 'if', 'you', 'have', 'done', 'the', 'clock', 'upgrade', 'and', 'havent', 'answered', 'this', 'poll', 'thanks', 'guy_kuo'], ['from', 'thomas', 'willis', 'subject', 'pb', 'questions', 'organization', 'purdue_university', 'engineering', 'computer', 'network', 'distribution_usa', 'lines', 'well', 'folks', 'my', 'mac', 'plus', 'finally', 'gave', 'up', 'the', 'ghost', 'this', 'weekend', 'after', 'starting', 'life', 'as', 'way', 'back', 'in', 'sooo', 'im', 'in', 'the', 'market', 'for', 'new', 'machine', 'bit', 'sooner', 'than', 'intended', 'to', 'be', 'im', 'looking', 'into', 'picking', 'up', 'powerbook', 'or', 'maybe', 'and', 'have', 'bunch', 'of', 'questions', 'that', 'hopefully', 'somebody', 'can', 'answer', 'does', 'anybody', 'know', 'any', 'dirt', 'on', 'when', 'the', 'next', 'round', 'of', 'powerbook', 'introductions', 'are', 'expected', 'id', 'heard', 'the', 'was', 'supposed', 'to', 'make', 'an', 'appearence', 'this', 'summer', 'but', 'havent', 'heard', 'anymore', 'on', 'it', 'and', 'since', 'dont', 'have', 'access', 'to', 'macleak', 'was', 'wondering', 'if', 'anybody', 'out', 'there', 'had', 'more', 'info', 'has', 'anybody', 'heard', 'rumors', 'about', 'price', 'drops', 'to', 'the', 'powerbook', 'line', 'like', 'the', 'ones', 'the', 'duos', 'just', 'went', 'through', 'recently', 'whats', 'the', 'impression', 'of', 'the', 'display', 'on', 'the', 'could', 'probably', 'swing', 'if', 'got', 'the', 'mb', 'disk', 'rather', 'than', 'the', 'but', 'dont', 'really', 'have', 'feel', 'for', 'how', 'much', 'better', 'the', 'display', 'is', 'yea', 'it', 'looks', 'great', 'in', 'the', 'store', 'but', 'is', 'that', 'all', 'wow', 'or', 'is', 'it', 'really', 'that', 'good', 'could', 'solicit', 'some', 'opinions', 'of', 'people', 'who', 'use', 'the', 'and', 'day', 'to', 'day', 'on', 'if', 'its', 'worth', 'taking', 'the', 'disk', 'size', 'and', 'money', 'hit', 'to', 'get', 'the', 'active', 'display', 'realize', 'this', 'is', 'real', 'subjective', 'question', 'but', 'ive', 'only', 'played', 'around', 'with', 'the', 'machines', 'in', 'computer', 'store', 'breifly', 'and', 'figured', 'the', 'opinions', 'of', 'somebody', 'who', 'actually', 'uses', 'the', 'machine', 'daily', 'might', 'prove', 'helpful', 'how', 'well', 'does', 'hellcats', 'perform', 'thanks', 'bunch', 'in', 'advance', 'for', 'any', 'info', 'if', 'you', 'could', 'email', 'ill', 'post', 'summary', 'news', 'reading', 'time', 'is', 'at', 'premium', 'with', 'finals', 'just', 'around', 'the', 'corner', 'tom', 'willis', 'purdue', 'electrical_engineering', 'convictions', 'are', 'more', 'dangerous_enemies', 'of', 'truth', 'than', 'lies', 'nietzsche'], ['from', 'joe', 'green', 'subject', 're', 'weitek', 'organization', 'harris', 'computer', 'systems', 'division', 'lines', 'distribution_world', 'nntp_posting', 'host', 'amber', 'ssd_csd', 'harris_com', 'newsreader_tin', 'version_pl', 'robert_kyanko', 'wrote', 'writes', 'in', 'article', 'anyone', 'know', 'about', 'the', 'weitek', 'graphics', 'chip', 'as', 'far', 'as', 'the', 'low_level', 'stuff', 'goes', 'it', 'looks', 'pretty', 'nice', 'its', 'got', 'this', 'quadrilateral', 'fill', 'command', 'that', 'requires', 'just', 'the', 'four', 'points', 'do', 'you', 'have', 'weiteks', 'address', 'phone', 'number', 'id', 'like', 'to', 'get', 'some', 'information', 'about', 'this', 'chip', 'joe', 'green', 'harris', 'corporation', 'computer', 'systems', 'division', 'the', 'only', 'thing', 'that', 'really', 'scares', 'me', 'is', 'person', 'with', 'no', 'sense', 'of', 'humor', 'jonathan', 'winters'], ['from', 'jonathan', 'mcdowell', 'subject', 're', 'shuttle_launch', 'question', 'organization', 'smithsonian_astrophysical', 'observatory', 'cambridge_ma', 'usa', 'distribution', 'sci', 'lines', 'from', 'article', 'by', 'tom', 'baker', 'in', 'article', 'pack', 'rat', 'writes', 'clear', 'caution', 'warning', 'memory', 'verify', 'no', 'unexpected', 'errors', 'am', 'wondering', 'what', 'an', 'expected', 'error', 'might', 'be', 'sorry', 'if', 'this', 'is', 'really', 'dumb', 'question', 'but', 'parity_errors', 'in', 'memory', 'or', 'previously', 'known', 'conditions', 'that', 'were', 'waivered', 'yes', 'that', 'is', 'an', 'error', 'but', 'we', 'already', 'knew', 'about', 'it', 'id', 'be', 'curious', 'as', 'to', 'what', 'the', 'real', 'meaning', 'of', 'the', 'quote', 'is', 'tom', 'my', 'understanding', 'is', 'that', 'the', 'expected', 'errors', 'are', 'basically', 'known', 'bugs', 'in', 'the', 'warning', 'system', 'software', 'things', 'are', 'checked', 'that', 'dont', 'have', 'the', 'right', 'values', 'in', 'yet', 'because', 'they', 'arent', 'set', 'till', 'after', 'launch', 'and', 'suchlike', 'rather', 'than', 'fix', 'the', 'code', 'and', 'possibly', 'introduce', 'new', 'bugs', 'they', 'just', 'tell', 'the', 'crew', 'ok', 'if', 'you', 'see', 'warning', 'no', 'before', 'liftoff', 'ignore', 'it', 'jonathan']]\n"
     ]
    }
   ],
   "source": [
    "from gensim.models import Phrases\n",
    "\n",
    "# Create bigrams using Phrases\n",
    "bigram = Phrases(tokenized_data, threshold=100)\n",
    "\n",
    "# Apply the bigram model to the tokenized data\n",
    "data_words_bigrams = list(bigram[tokenized_data])\n",
    "\n",
    "# Display the tokenized data with bigrams for the first few rows\n",
    "print(\"data_words_bigrams:\")\n",
    "print(data_words_bigrams[:5])\n"
   ]
  },
  {
   "cell_type": "markdown",
   "metadata": {},
   "source": [
    "#### make_bigrams( )"
   ]
  },
  {
   "cell_type": "code",
   "execution_count": 15,
   "metadata": {},
   "outputs": [
    {
     "name": "stdout",
     "output_type": "stream",
     "text": [
      "Tokenized Data with Bigrams:\n",
      "[['from', 'wheres', 'my', 'thing', 'subject', 'what', 'car', 'is', 'this', 'nntp_posting', 'host', 'rac_wam', 'umd_edu', 'organization', 'university', 'of', 'maryland_college', 'park', 'lines', 'was', 'wondering', 'if', 'anyone', 'out', 'there', 'could', 'enlighten', 'me', 'on', 'this', 'car', 'saw', 'the', 'other', 'day', 'it', 'was', 'door', 'sports', 'car', 'looked', 'to', 'be', 'from', 'the', 'late', 'early', 'it', 'was', 'called', 'bricklin', 'the', 'doors', 'were', 'really', 'small', 'in', 'addition', 'the', 'front_bumper', 'was', 'separate', 'from', 'the', 'rest', 'of', 'the', 'body', 'this', 'is', 'all', 'know', 'if', 'anyone', 'can', 'tellme', 'model', 'name', 'engine', 'specs', 'years', 'of', 'production', 'where', 'this', 'car', 'is', 'made', 'history', 'or', 'whatever', 'info', 'you', 'have', 'on', 'this', 'funky', 'looking', 'car', 'please', 'mail', 'thanks', 'il', 'brought', 'to', 'you', 'by', 'your', 'neighborhood', 'lerxst'], ['from', 'guy_kuo', 'subject', 'si', 'clock', 'poll', 'final', 'call', 'summary', 'final', 'call', 'for', 'si', 'clock', 'reports', 'keywords', 'si', 'acceleration', 'clock', 'upgrade', 'article', 'shelley', 'qvfo', 'innc', 'organization', 'university', 'of', 'washington', 'lines', 'nntp_posting', 'host', 'carson_washington', 'edu', 'fair', 'number', 'of', 'brave', 'souls', 'who', 'upgraded', 'their', 'si', 'clock', 'oscillator', 'have', 'shared', 'their', 'experiences', 'for', 'this', 'poll', 'please', 'send', 'brief', 'message', 'detailing', 'your', 'experiences', 'with', 'the', 'procedure', 'top', 'speed', 'attained', 'cpu', 'rated', 'speed', 'add', 'on', 'cards', 'and', 'adapters', 'heat_sinks', 'hour', 'of', 'usage', 'per', 'day', 'floppy_disk', 'functionality', 'with', 'and', 'floppies', 'are', 'especially', 'requested', 'will', 'be', 'summarizing', 'in', 'the', 'next', 'two', 'days', 'so', 'please', 'add', 'to', 'the', 'network', 'knowledge', 'base', 'if', 'you', 'have', 'done', 'the', 'clock', 'upgrade', 'and', 'havent', 'answered', 'this', 'poll', 'thanks', 'guy_kuo'], ['from', 'thomas', 'willis', 'subject', 'pb', 'questions', 'organization', 'purdue_university', 'engineering', 'computer', 'network', 'distribution_usa', 'lines', 'well', 'folks', 'my', 'mac', 'plus', 'finally', 'gave', 'up', 'the', 'ghost', 'this', 'weekend', 'after', 'starting', 'life', 'as', 'way', 'back', 'in', 'sooo', 'im', 'in', 'the', 'market', 'for', 'new', 'machine', 'bit', 'sooner', 'than', 'intended', 'to', 'be', 'im', 'looking', 'into', 'picking', 'up', 'powerbook', 'or', 'maybe', 'and', 'have', 'bunch', 'of', 'questions', 'that', 'hopefully', 'somebody', 'can', 'answer', 'does', 'anybody', 'know', 'any', 'dirt', 'on', 'when', 'the', 'next', 'round', 'of', 'powerbook', 'introductions', 'are', 'expected', 'id', 'heard', 'the', 'was', 'supposed', 'to', 'make', 'an', 'appearence', 'this', 'summer', 'but', 'havent', 'heard', 'anymore', 'on', 'it', 'and', 'since', 'dont', 'have', 'access', 'to', 'macleak', 'was', 'wondering', 'if', 'anybody', 'out', 'there', 'had', 'more', 'info', 'has', 'anybody', 'heard', 'rumors', 'about', 'price', 'drops', 'to', 'the', 'powerbook', 'line', 'like', 'the', 'ones', 'the', 'duos', 'just', 'went', 'through', 'recently', 'whats', 'the', 'impression', 'of', 'the', 'display', 'on', 'the', 'could', 'probably', 'swing', 'if', 'got', 'the', 'mb', 'disk', 'rather', 'than', 'the', 'but', 'dont', 'really', 'have', 'feel', 'for', 'how', 'much', 'better', 'the', 'display', 'is', 'yea', 'it', 'looks', 'great', 'in', 'the', 'store', 'but', 'is', 'that', 'all', 'wow', 'or', 'is', 'it', 'really', 'that', 'good', 'could', 'solicit', 'some', 'opinions', 'of', 'people', 'who', 'use', 'the', 'and', 'day', 'to', 'day', 'on', 'if', 'its', 'worth', 'taking', 'the', 'disk', 'size', 'and', 'money', 'hit', 'to', 'get', 'the', 'active', 'display', 'realize', 'this', 'is', 'real', 'subjective', 'question', 'but', 'ive', 'only', 'played', 'around', 'with', 'the', 'machines', 'in', 'computer', 'store', 'breifly', 'and', 'figured', 'the', 'opinions', 'of', 'somebody', 'who', 'actually', 'uses', 'the', 'machine', 'daily', 'might', 'prove', 'helpful', 'how', 'well', 'does', 'hellcats', 'perform', 'thanks', 'bunch', 'in', 'advance', 'for', 'any', 'info', 'if', 'you', 'could', 'email', 'ill', 'post', 'summary', 'news', 'reading', 'time', 'is', 'at', 'premium', 'with', 'finals', 'just', 'around', 'the', 'corner', 'tom', 'willis', 'purdue', 'electrical_engineering', 'convictions', 'are', 'more', 'dangerous_enemies', 'of', 'truth', 'than', 'lies', 'nietzsche'], ['from', 'joe', 'green', 'subject', 're', 'weitek', 'organization', 'harris', 'computer', 'systems', 'division', 'lines', 'distribution_world', 'nntp_posting', 'host', 'amber', 'ssd_csd', 'harris_com', 'newsreader_tin', 'version_pl', 'robert_kyanko', 'wrote', 'writes', 'in', 'article', 'anyone', 'know', 'about', 'the', 'weitek', 'graphics', 'chip', 'as', 'far', 'as', 'the', 'low_level', 'stuff', 'goes', 'it', 'looks', 'pretty', 'nice', 'its', 'got', 'this', 'quadrilateral', 'fill', 'command', 'that', 'requires', 'just', 'the', 'four', 'points', 'do', 'you', 'have', 'weiteks', 'address', 'phone', 'number', 'id', 'like', 'to', 'get', 'some', 'information', 'about', 'this', 'chip', 'joe', 'green', 'harris', 'corporation', 'computer', 'systems', 'division', 'the', 'only', 'thing', 'that', 'really', 'scares', 'me', 'is', 'person', 'with', 'no', 'sense', 'of', 'humor', 'jonathan', 'winters'], ['from', 'jonathan', 'mcdowell', 'subject', 're', 'shuttle_launch', 'question', 'organization', 'smithsonian_astrophysical', 'observatory', 'cambridge_ma', 'usa', 'distribution', 'sci', 'lines', 'from', 'article', 'by', 'tom', 'baker', 'in', 'article', 'pack', 'rat', 'writes', 'clear', 'caution', 'warning', 'memory', 'verify', 'no', 'unexpected', 'errors', 'am', 'wondering', 'what', 'an', 'expected', 'error', 'might', 'be', 'sorry', 'if', 'this', 'is', 'really', 'dumb', 'question', 'but', 'parity_errors', 'in', 'memory', 'or', 'previously', 'known', 'conditions', 'that', 'were', 'waivered', 'yes', 'that', 'is', 'an', 'error', 'but', 'we', 'already', 'knew', 'about', 'it', 'id', 'be', 'curious', 'as', 'to', 'what', 'the', 'real', 'meaning', 'of', 'the', 'quote', 'is', 'tom', 'my', 'understanding', 'is', 'that', 'the', 'expected', 'errors', 'are', 'basically', 'known', 'bugs', 'in', 'the', 'warning', 'system', 'software', 'things', 'are', 'checked', 'that', 'dont', 'have', 'the', 'right', 'values', 'in', 'yet', 'because', 'they', 'arent', 'set', 'till', 'after', 'launch', 'and', 'suchlike', 'rather', 'than', 'fix', 'the', 'code', 'and', 'possibly', 'introduce', 'new', 'bugs', 'they', 'just', 'tell', 'the', 'crew', 'ok', 'if', 'you', 'see', 'warning', 'no', 'before', 'liftoff', 'ignore', 'it', 'jonathan']]\n"
     ]
    }
   ],
   "source": [
    "from gensim.models import Phrases\n",
    "\n",
    "def make_bigrams(texts):\n",
    "    # Create bigrams using Phrases\n",
    "    bigram = Phrases(texts, threshold=100)\n",
    "    \n",
    "    # Apply the bigram model to the tokenized data\n",
    "    return list(bigram[texts])\n",
    "\n",
    "# Example usage:\n",
    "tokenized_data_with_bigrams = make_bigrams(tokenized_data)\n",
    "\n",
    "# Display the tokenized data with bigrams for the first few rows\n",
    "print(\"Tokenized Data with Bigrams:\")\n",
    "print(tokenized_data_with_bigrams[:5])"
   ]
  },
  {
   "cell_type": "markdown",
   "metadata": {},
   "source": [
    "### Lemmatization\n",
    "- Use spacy\n",
    "    - Download spacy en model (if you have not done that before)\n",
    "    - Load the spacy model"
   ]
  },
  {
   "cell_type": "code",
   "execution_count": 24,
   "metadata": {},
   "outputs": [],
   "source": [
    "# ! python -m spacy download en"
   ]
  },
  {
   "cell_type": "code",
   "execution_count": 21,
   "metadata": {},
   "outputs": [],
   "source": [
    "import spacy\n",
    "\n",
    "# Load the spaCy model with specified components disabled\n",
    "nlp = spacy.load(\"en_core_web_sm\", disable=['parser', 'ner'])"
   ]
  },
  {
   "cell_type": "markdown",
   "metadata": {},
   "source": [
    "#### lemmatizaton( )"
   ]
  },
  {
   "cell_type": "code",
   "execution_count": 22,
   "metadata": {},
   "outputs": [],
   "source": [
    "def lemmatization(texts, allowed_postags=['NOUN', 'ADJ', 'VERB', 'ADV']):\n",
    "    \"\"\"https://spacy.io/api/annotation\"\"\"\n",
    "    texts_out = []\n",
    "    for sent in texts:\n",
    "        doc = nlp(\" \".join(sent)) \n",
    "        texts_out.append([token.lemma_ for token in doc if token.pos_ in allowed_postags])\n",
    "    return texts_out"
   ]
  },
  {
   "cell_type": "code",
   "execution_count": 23,
   "metadata": {},
   "outputs": [],
   "source": [
    "data_lemmatized = lemmatization(data_words_bigrams, allowed_postags=['NOUN', 'ADJ', 'VERB', 'ADV'])"
   ]
  },
  {
   "cell_type": "code",
   "execution_count": 25,
   "metadata": {},
   "outputs": [
    {
     "name": "stdout",
     "output_type": "stream",
     "text": [
      "[['s', 'thing', 'subject', 'car', 'nntp_poste', 'host', 'rac_wam', 'organization', 'park', 'line', 'wonder', 'out', 'there', 'enlighten', 'car', 'see', 'other', 'day', 'door', 'sport', 'car', 'look', 'late', 'early', 'call', 'door', 'really', 'small', 'addition', 'front_bumper', 'separate', 'rest', 'body', 'know', 'tellme', 'model', 'name', 'engine', 'spec', 'year', 'production', 'car', 'make', 'history', 'info', 'funky', 'look', 'car', 'mail', 'thank', 'bring', 'neighborhood', 'lerxst']]\n"
     ]
    }
   ],
   "source": [
    "print(data_lemmatized[:1])"
   ]
  },
  {
   "cell_type": "markdown",
   "metadata": {},
   "source": [
    "### Create a Dictionary"
   ]
  },
  {
   "cell_type": "code",
   "execution_count": 26,
   "metadata": {},
   "outputs": [],
   "source": [
    "from gensim.corpora import Dictionary\n",
    "\n",
    "# Create a Dictionary\n",
    "id2word = Dictionary(data_lemmatized)"
   ]
  },
  {
   "cell_type": "markdown",
   "metadata": {},
   "source": [
    "### Create Corpus"
   ]
  },
  {
   "cell_type": "code",
   "execution_count": 27,
   "metadata": {},
   "outputs": [],
   "source": [
    "# Create a Corpus\n",
    "corpus = [id2word.doc2bow(text) for text in data_lemmatized]"
   ]
  },
  {
   "cell_type": "markdown",
   "metadata": {},
   "source": [
    "### Filter low-frequency words"
   ]
  },
  {
   "cell_type": "code",
   "execution_count": 28,
   "metadata": {},
   "outputs": [],
   "source": [
    "# Filter low-frequency words (you can adjust the threshold as needed)\n",
    "id2word.filter_extremes(no_below=5, no_above=0.9)\n",
    "\n",
    "# Update the Corpus after filtering\n",
    "corpus = [id2word.doc2bow(text) for text in data_lemmatized]"
   ]
  },
  {
   "cell_type": "markdown",
   "metadata": {},
   "source": [
    "### Create Index 2 word dictionary"
   ]
  },
  {
   "cell_type": "code",
   "execution_count": 29,
   "metadata": {},
   "outputs": [
    {
     "name": "stdout",
     "output_type": "stream",
     "text": [
      "Index-to-Word Dictionary:\n",
      "{'addition': 0, 'body': 1, 'bring': 2, 'call': 3, 'car': 4}\n"
     ]
    }
   ],
   "source": [
    "# Create an Index-to-Word dictionary\n",
    "id2word_dict = {v: k for k, v in id2word.items()}\n",
    "\n",
    "# Example usage:\n",
    "# Display the first few entries in the Index-to-Word dictionary\n",
    "print(\"Index-to-Word Dictionary:\")\n",
    "print({k: id2word_dict[k] for k in list(id2word_dict)[:5]})"
   ]
  },
  {
   "cell_type": "code",
   "execution_count": 30,
   "metadata": {},
   "outputs": [
    {
     "name": "stdout",
     "output_type": "stream",
     "text": [
      "\n",
      "Corpus:\n",
      "[[(0, 1), (1, 1), (2, 1), (3, 1), (4, 5), (5, 1), (6, 2), (7, 1), (8, 1), (9, 1), (10, 1), (11, 1), (12, 1), (13, 1), (14, 1), (15, 1), (16, 1), (17, 2), (18, 1), (19, 1), (20, 1), (21, 1), (22, 1), (23, 1), (24, 1), (25, 1), (26, 1), (27, 1), (28, 1), (29, 1), (30, 1), (31, 1), (32, 1), (33, 1), (34, 1), (35, 1), (36, 1), (37, 1), (38, 1), (39, 1), (40, 1), (41, 1), (42, 1), (43, 1)], [(3, 2), (5, 2), (13, 1), (23, 1), (38, 1), (39, 1), (44, 1), (45, 1), (46, 2), (47, 1), (48, 1), (49, 1), (50, 1), (51, 1), (52, 1), (53, 1), (54, 5), (55, 1), (56, 1), (57, 1), (58, 1), (59, 1), (60, 2), (61, 1), (62, 2), (63, 1), (64, 1), (65, 1), (66, 1), (67, 1), (68, 1), (69, 1), (70, 1), (71, 1), (72, 1), (73, 1), (74, 3), (75, 1), (76, 1), (77, 1), (78, 1), (79, 1), (80, 1), (81, 3), (82, 1), (83, 1), (84, 2), (85, 1), (86, 1), (87, 1), (88, 3), (89, 1)], [(5, 2), (14, 2), (15, 1), (17, 2), (19, 1), (24, 1), (26, 1), (30, 2), (32, 1), (38, 1), (39, 1), (40, 1), (42, 1), (47, 1), (62, 1), (70, 1), (71, 1), (86, 1), (90, 1), (91, 1), (92, 1), (93, 1), (94, 1), (95, 1), (96, 1), (97, 1), (98, 2), (99, 2), (100, 1), (101, 1), (102, 1), (103, 1), (104, 1), (105, 2), (106, 3), (107, 1), (108, 1), (109, 1), (110, 1), (111, 1), (112, 1), (113, 1), (114, 1), (115, 1), (116, 1), (117, 2), (118, 1), (119, 1), (120, 1), (121, 1), (122, 1), (123, 3), (124, 1), (125, 1), (126, 1), (127, 1), (128, 1), (129, 1), (130, 1), (131, 2), (132, 1), (133, 2), (134, 1), (135, 3), (136, 1), (137, 1), (138, 1), (139, 1), (140, 2), (141, 1), (142, 1), (143, 1), (144, 1), (145, 1), (146, 2), (147, 1), (148, 1), (149, 1), (150, 1), (151, 1), (152, 3), (153, 1), (154, 1), (155, 1), (156, 1), (157, 1), (158, 1), (159, 3), (160, 1), (161, 1), (162, 1), (163, 1), (164, 1), (165, 1), (166, 1), (167, 1), (168, 1), (169, 1), (170, 1), (171, 2), (172, 1), (173, 1), (174, 1), (175, 1), (176, 1), (177, 1), (178, 1), (179, 1), (180, 2), (181, 1), (182, 1), (183, 3), (184, 1), (185, 1)], [(13, 1), (15, 1), (17, 1), (23, 1), (30, 1), (41, 1), (48, 1), (72, 1), (117, 2), (120, 1), (131, 1), (145, 1), (186, 1), (187, 1), (188, 2), (189, 1), (190, 1), (191, 2), (192, 1), (193, 1), (194, 1), (195, 1), (196, 1), (197, 1), (198, 1), (199, 1), (200, 1), (201, 1), (202, 1), (203, 1), (204, 1), (205, 1), (206, 1), (207, 1), (208, 2), (209, 1), (210, 1), (211, 2)], [(15, 3), (24, 1), (30, 1), (33, 1), (41, 1), (42, 1), (48, 2), (112, 1), (131, 1), (142, 1), (159, 2), (160, 1), (162, 1), (208, 1), (211, 1), (212, 1), (213, 1), (214, 2), (215, 1), (216, 1), (217, 1), (218, 1), (219, 1), (220, 1), (221, 1), (222, 1), (223, 4), (224, 1), (225, 1), (226, 1), (227, 1), (228, 1), (229, 1), (230, 1), (231, 2), (232, 1), (233, 1), (234, 1), (235, 1), (236, 1), (237, 1), (238, 1), (239, 1), (240, 1), (241, 1), (242, 1), (243, 1), (244, 1), (245, 1), (246, 1), (247, 1), (248, 1), (249, 1), (250, 1), (251, 2), (252, 1), (253, 1)]]\n"
     ]
    }
   ],
   "source": [
    "# Display the first few entries in the Corpus\n",
    "print(\"\\nCorpus:\")\n",
    "print(corpus[:5])\n"
   ]
  },
  {
   "cell_type": "markdown",
   "metadata": {},
   "source": [
    "### Build a News Topic Model\n",
    "\n",
    "#### LdaModel\n",
    "- **num_topics** : this is the number of topics you need to define beforehand\n",
    "- **chunksize** : the number of documents to be used in each training chunk\n",
    "- **alpha** : this is the hyperparameters that affect the sparsity of the topics\n",
    "- **passess** : total number of training assess"
   ]
  },
  {
   "cell_type": "code",
   "execution_count": 31,
   "metadata": {},
   "outputs": [],
   "source": [
    "from gensim.models import LdaModel\n",
    "\n",
    "# Set the parameters\n",
    "num_topics = 10  # You can adjust the number of topics based on your requirements\n",
    "chunksize = 100  # Number of documents to be used in each training chunk\n",
    "alpha = 'auto'   # Hyperparameter affecting the sparsity of the topics\n",
    "passes = 10      # Total number of training passes\n",
    "\n",
    "# Build the LdaModel\n",
    "lda_model = LdaModel(corpus=corpus,\n",
    "                     id2word=id2word,\n",
    "                     num_topics=num_topics,\n",
    "                     chunksize=chunksize,\n",
    "                     alpha=alpha,\n",
    "                     passes=passes)"
   ]
  },
  {
   "cell_type": "markdown",
   "metadata": {},
   "source": [
    "### Print the Keyword in the 10 topics"
   ]
  },
  {
   "cell_type": "code",
   "execution_count": 32,
   "metadata": {},
   "outputs": [
    {
     "name": "stdout",
     "output_type": "stream",
     "text": [
      "(0, '0.537*\"ax\" + 0.036*\"max\" + 0.016*\"choose\" + 0.013*\"brain\" + 0.012*\"encrypt\" + 0.012*\"notice\" + 0.009*\"clipper_chip\" + 0.008*\"rsa\" + 0.008*\"keyboard\" + 0.008*\"announcement\"')\n",
      "(1, '0.026*\"write\" + 0.025*\"subject\" + 0.020*\"organization\" + 0.019*\"article\" + 0.019*\"get\" + 0.015*\"know\" + 0.013*\"just\" + 0.013*\"go\" + 0.013*\"nntp_poste\" + 0.011*\"so\"')\n",
      "(2, '0.030*\"drive\" + 0.019*\"car\" + 0.015*\"buy\" + 0.014*\"new\" + 0.012*\"price\" + 0.012*\"sale\" + 0.012*\"sell\" + 0.009*\"cost\" + 0.008*\"cheap\" + 0.008*\"bike\"')\n",
      "(3, '0.022*\"say\" + 0.015*\"people\" + 0.014*\"evidence\" + 0.013*\"believe\" + 0.010*\"man\" + 0.009*\"gun\" + 0.008*\"faith\" + 0.008*\"life\" + 0.008*\"come\" + 0.008*\"claim\"')\n",
      "(4, '0.041*\"space\" + 0.023*\"science\" + 0.016*\"research\" + 0.016*\"earth\" + 0.015*\"point\" + 0.014*\"sphere\" + 0.012*\"self\" + 0.011*\"launch\" + 0.009*\"moon\" + 0.009*\"theory\"')\n",
      "(5, '0.034*\"year\" + 0.033*\"team\" + 0.033*\"game\" + 0.027*\"win\" + 0.023*\"play\" + 0.016*\"player\" + 0.010*\"first\" + 0.010*\"fan\" + 0.010*\"last\" + 0.009*\"run\"')\n",
      "(6, '0.014*\"other\" + 0.012*\"people\" + 0.011*\"more\" + 0.010*\"such\" + 0.009*\"use\" + 0.009*\"make\" + 0.008*\"state\" + 0.007*\"reason\" + 0.007*\"most\" + 0.007*\"only\"')\n",
      "(7, '0.015*\"use\" + 0.012*\"patient\" + 0.011*\"report\" + 0.010*\"pin\" + 0.010*\"hockey\" + 0.008*\"wire\" + 0.008*\"mac\" + 0.008*\"cause\" + 0.008*\"information\" + 0.007*\"dn\"')\n",
      "(8, '0.013*\"war\" + 0.012*\"armenian\" + 0.012*\"israeli\" + 0.011*\"attack\" + 0.011*\"soldier\" + 0.010*\"greek\" + 0.009*\"village\" + 0.009*\"arab\" + 0.008*\"military\" + 0.008*\"force\"')\n",
      "(9, '0.031*\"use\" + 0.016*\"system\" + 0.013*\"file\" + 0.012*\"window\" + 0.012*\"program\" + 0.010*\"key\" + 0.010*\"card\" + 0.009*\"mail\" + 0.009*\"run\" + 0.009*\"bit\"')\n"
     ]
    }
   ],
   "source": [
    "# Display the topics with their keywords\n",
    "topics = lda_model.print_topics(num_words=10)\n",
    "for topic in topics:\n",
    "    print(topic)"
   ]
  },
  {
   "cell_type": "markdown",
   "metadata": {},
   "source": [
    "## Evaluation of Topic Models\n",
    "- Model Perplexity\n",
    "- Topic Coherence\n",
    "\n",
    "### Model Perplexity\n",
    "\n",
    "Model perplexity is a measurement of **how well** a **probability distribution** or probability model **predicts a sample**"
   ]
  },
  {
   "cell_type": "code",
   "execution_count": 34,
   "metadata": {},
   "outputs": [
    {
     "name": "stdout",
     "output_type": "stream",
     "text": [
      "Model Perplexity: -7.894254729132347\n"
     ]
    }
   ],
   "source": [
    "# Calculate perplexity\n",
    "perplexity = lda_model.log_perplexity(corpus)\n",
    "print(f'Model Perplexity: {perplexity}')"
   ]
  },
  {
   "cell_type": "markdown",
   "metadata": {},
   "source": [
    "### Topic Coherence\n",
    "Topic Coherence measures score a single topic by measuring the **degree of semantic similarity** between **high scoring words** in the topic."
   ]
  },
  {
   "cell_type": "code",
   "execution_count": 33,
   "metadata": {},
   "outputs": [
    {
     "name": "stdout",
     "output_type": "stream",
     "text": [
      "Topic Coherence Score: 0.5384697421569475\n"
     ]
    }
   ],
   "source": [
    "from gensim.models import CoherenceModel\n",
    "\n",
    "# Calculate coherence score\n",
    "coherence_model = CoherenceModel(model=lda_model, texts=data_lemmatized, dictionary=id2word, coherence='c_v')\n",
    "coherence_score = coherence_model.get_coherence()\n",
    "\n",
    "print(f'Topic Coherence Score: {coherence_score}')"
   ]
  },
  {
   "cell_type": "markdown",
   "metadata": {},
   "source": [
    "### Visualize the Topic Model\n",
    "- Use **pyLDAvis**\n",
    "    - designed to help users **interpret the topics** in a topic model that has been fit to a corpus of text data\n",
    "    - extracts information from a fitted LDA topic model to inform an interactive web-based visualization"
   ]
  },
  {
   "cell_type": "code",
   "execution_count": 36,
   "metadata": {},
   "outputs": [],
   "source": [
    "# ! pip install pyldavis"
   ]
  },
  {
   "cell_type": "code",
   "execution_count": 37,
   "metadata": {},
   "outputs": [
    {
     "data": {
      "text/html": [
       "\n",
       "<link rel=\"stylesheet\" type=\"text/css\" href=\"https://cdn.jsdelivr.net/gh/bmabey/pyLDAvis@3.4.0/pyLDAvis/js/ldavis.v1.0.0.css\">\n",
       "\n",
       "\n",
       "<div id=\"ldavis_el131002022538938400561504697\" style=\"background-color:white;\"></div>\n",
       "<script type=\"text/javascript\">\n",
       "\n",
       "var ldavis_el131002022538938400561504697_data = {\"mdsDat\": {\"x\": [0.23734519421369424, 0.20743505182089503, 0.025208175074028148, 0.23362695260158003, -0.0681997242109905, -0.31542420348814987, -0.1130599262615773, -0.053558333178270884, 0.007707371473432397, -0.1610805580446412], \"y\": [0.034349746145280254, -0.028977488970335457, -0.21762085001137618, 0.13915139792028022, -0.12786792709135866, 0.2433085873290113, -0.20697080103251272, 0.12835818098651866, 0.1669323729329032, -0.13066321820841012], \"topics\": [1, 2, 3, 4, 5, 6, 7, 8, 9, 10], \"cluster\": [1, 1, 1, 1, 1, 1, 1, 1, 1, 1], \"Freq\": [30.78694536291656, 18.38945934631921, 12.352888276858627, 10.33040829957077, 6.755437604825912, 5.9127174411956185, 4.699577115172008, 4.200700982417457, 3.824690587854752, 2.7471749828691014]}, \"tinfo\": {\"Term\": [\"ax\", \"write\", \"use\", \"subject\", \"organization\", \"article\", \"max\", \"say\", \"year\", \"drive\", \"get\", \"people\", \"nntp_poste\", \"team\", \"game\", \"know\", \"space\", \"system\", \"go\", \"just\", \"m\", \"point\", \"win\", \"car\", \"believe\", \"evidence\", \"good\", \"file\", \"program\", \"host\", \"m\", \"maybe\", \"ill\", \"out\", \"internet\", \"guess\", \"friend\", \"pretty\", \"wonder\", \"nntp_poste\", \"display\", \"distribution_na\", \"tape\", \"sorry\", \"soon\", \"engineering\", \"too\", \"lebanese\", \"advance\", \"serious\", \"originator\", \"telnet\", \"secret\", \"route\", \"proof\", \"external\", \"air\", \"pull\", \"trust\", \"on\", \"organization\", \"article\", \"write\", \"subject\", \"get\", \"s\", \"really\", \"just\", \"want\", \"news\", \"back\", \"lot\", \"go\", \"do\", \"host\", \"like\", \"know\", \"reply\", \"bad\", \"hear\", \"time\", \"now\", \"so\", \"look\", \"see\", \"try\", \"here\", \"good\", \"take\", \"think\", \"there\", \"well\", \"make\", \"work\", \"say\", \"more\", \"only\", \"public\", \"discussion\", \"encryption\", \"compare\", \"security\", \"concern\", \"private\", \"clipper\", \"individual\", \"sin\", \"society\", \"american\", \"moral\", \"legal\", \"willing\", \"president\", \"prevent\", \"terrorist\", \"consistent\", \"agency\", \"convince\", \"freedom\", \"fund\", \"pgp\", \"evil\", \"animal\", \"together\", \"basic\", \"insist\", \"decision\", \"issue\", \"protect\", \"valid\", \"purpose\", \"such\", \"state\", \"consider\", \"certainly\", \"example\", \"rule\", \"situation\", \"agree\", \"government\", \"case\", \"likely\", \"reason\", \"apply\", \"other\", \"fact\", \"rather\", \"people\", \"most\", \"more\", \"group\", \"however\", \"many\", \"mean\", \"provide\", \"make\", \"right\", \"use\", \"only\", \"question\", \"as\", \"part\", \"system\", \"well\", \"think\", \"also\", \"file\", \"window\", \"card\", \"chip\", \"software\", \"machine\", \"cpu\", \"version\", \"entry\", \"memory\", \"ripem\", \"pc\", \"user\", \"color\", \"application\", \"hardware\", \"graphic\", \"screen\", \"video\", \"mode\", \"server\", \"package\", \"monitor\", \"character\", \"format\", \"print\", \"controller\", \"family\", \"library\", \"motif\", \"fax\", \"email\", \"program\", \"available\", \"computer\", \"copy\", \"use\", \"driver\", \"system\", \"key\", \"bit\", \"mail\", \"run\", \"thank\", \"set\", \"include\", \"information\", \"need\", \"send\", \"info\", \"datum\", \"problem\", \"work\", \"also\", \"gun\", \"faith\", \"death\", \"christian\", \"physical\", \"religion\", \"god\", \"die\", \"truth\", \"belief\", \"atheist\", \"church\", \"slave\", \"fire\", \"bible\", \"weapon\", \"revelation\", \"judge\", \"firearm\", \"shoot\", \"tv\", \"christianity\", \"peace\", \"trial\", \"mother\", \"atheism\", \"son\", \"laugh\", \"beat\", \"wife\", \"existence\", \"religious\", \"child\", \"evidence\", \"man\", \"life\", \"believe\", \"hell\", \"say\", \"claim\", \"love\", \"people\", \"word\", \"law\", \"kill\", \"come\", \"book\", \"then\", \"reason\", \"live\", \"other\", \"see\", \"even\", \"only\", \"car\", \"buy\", \"price\", \"sale\", \"sell\", \"cheap\", \"bike\", \"disk\", \"season\", \"nhl\", \"trade\", \"engine\", \"mount\", \"ride\", \"pen\", \"seller\", \"upgrade\", \"owner\", \"dealer\", \"edge\", \"convert\", \"blue\", \"insurance\", \"expensive\", \"motorcycle\", \"club\", \"rider\", \"dog\", \"stat\", \"fun\", \"drive\", \"cost\", \"model\", \"about\", \"item\", \"new\", \"pay\", \"road\", \"high\", \"power\", \"low\", \"speed\", \"old\", \"light\", \"less\", \"fast\", \"ax\", \"max\", \"choose\", \"brain\", \"encrypt\", \"notice\", \"clipper_chip\", \"rsa\", \"keyboard\", \"announcement\", \"crypto\", \"implement\", \"law_enforcement\", \"shot\", \"traffic\", \"once_tappe\", \"database\", \"export\", \"patent\", \"pem\", \"advertising\", \"storage\", \"ei\", \"ranger\", \"bind\", \"rlk\", \"rent\", \"purdue_university\", \"consulting\", \"signature\", \"secure\", \"patient\", \"pin\", \"hockey\", \"wire\", \"mac\", \"dn\", \"replace\", \"scsi\", \"disease\", \"internal\", \"headache\", \"pain\", \"material\", \"connection\", \"treatment\", \"gateway\", \"processor\", \"diagnosis\", \"cable\", \"univ\", \"circuit\", \"directory\", \"warranty\", \"tumor\", \"catch\", \"medical\", \"translation\", \"hook\", \"socket\", \"migraine\", \"review\", \"_\", \"report\", \"connect\", \"ground\", \"cause\", \"lead\", \"remove\", \"use\", \"information\", \"current\", \"reference\", \"high\", \"effect\", \"low\", \"case\", \"also\", \"team\", \"game\", \"win\", \"play\", \"player\", \"fan\", \"score\", \"wing\", \"playoff\", \"food\", \"baseball\", \"natural\", \"syndrome\", \"ball\", \"left\", \"league\", \"winner\", \"thi\", \"schedule\", \"devil\", \"cross\", \"pitch\", \"pm\", \"prediction\", \"opportunity\", \"predict\", \"talent\", \"offense\", \"gang\", \"sector\", \"division\", \"rocket\", \"year\", \"final\", \"period\", \"star\", \"hit\", \"eat\", \"lose\", \"last\", \"first\", \"run\", \"next\", \"good\", \"second\", \"point\", \"well\", \"pick\", \"war\", \"armenian\", \"israeli\", \"soldier\", \"greek\", \"village\", \"arab\", \"turk\", \"turkish\", \"muslim\", \"boy\", \"withdraw\", \"occupy\", \"civilian\", \"northern\", \"helmet\", \"zone\", \"border\", \"slightly\", \"lebanese_resistance\", \"patrol\", \"russian\", \"inhabitant\", \"trap\", \"invasion\", \"serdar_argic\", \"islamic\", \"palestinian\", \"british\", \"troop\", \"military\", \"terrorism\", \"attack\", \"land\", \"jewish\", \"force\", \"kill\", \"town\", \"center\", \"murder\", \"government\", \"country\", \"city\", \"people\", \"state\", \"year\", \"first\", \"space\", \"science\", \"sphere\", \"self\", \"launch\", \"moon\", \"theory\", \"mission\", \"orbit\", \"satellite\", \"rational\", \"flight\", \"planet\", \"circle\", \"specify\", \"ignorant\", \"energy\", \"shuttle\", \"comet\", \"mar\", \"extend\", \"spacecraft\", \"experiment\", \"radiation\", \"researcher\", \"marry\", \"youth\", \"velocity\", \"astronomy\", \"reflect\", \"scientific\", \"surface\", \"earth\", \"object\", \"project\", \"research\", \"distribution\", \"plane\", \"point\", \"study\", \"field\", \"datum\", \"book\", \"design\", \"image\", \"program\"], \"Freq\": [42547.0, 10818.0, 9481.0, 10831.0, 8527.0, 8115.0, 2892.0, 6854.0, 3846.0, 2908.0, 8031.0, 6092.0, 5369.0, 1888.0, 1876.0, 6734.0, 1527.0, 4062.0, 5872.0, 5814.0, 4230.0, 2925.0, 1541.0, 1725.0, 2720.0, 2360.0, 5307.0, 2083.0, 2197.0, 4840.0, 4229.76490945566, 1136.6497579434172, 944.5481443696602, 813.4176893128301, 777.3593206921788, 755.5305837361873, 720.0274465397506, 708.8382740738784, 650.3291766464079, 5360.0934306911595, 626.7225167668424, 625.3338614423609, 593.0046562342761, 589.889554168296, 582.2009062745309, 544.2087442742177, 2073.2847009901284, 486.43968305161485, 464.23018576471713, 460.8966343546359, 416.4868680039576, 369.76908460075254, 357.10517479163434, 356.7209058133971, 345.3517829967408, 342.15574172383737, 341.920229779702, 337.15031986053634, 333.3734051997048, 329.31245832787977, 8415.76573979687, 7983.994098554864, 10559.804188699365, 10464.10366988164, 7733.416311162154, 3242.0516553282464, 2315.7485732070922, 5565.342570641767, 3507.669908364712, 909.0071810711756, 2319.5307989025823, 1515.8818566505156, 5476.740477947608, 3769.574955124417, 4493.923180693135, 1875.304517036104, 6122.285830244682, 2862.10206227379, 1626.8926705108458, 1553.4869619801916, 4419.06075869251, 2912.835564642814, 4519.755284253793, 2777.041684710131, 3900.9852368218094, 2781.8853483187404, 2671.338733306667, 4074.26319778308, 2920.063378144667, 4303.738730471964, 1900.5688926204102, 3127.3285003370734, 3631.7683612789556, 2609.2716271672557, 3092.3210436875484, 2868.2615166951855, 2717.7119002528416, 1317.521287637518, 778.7304184327832, 645.5028498589459, 626.1839957369064, 610.5883068677963, 540.3121631512884, 510.9356583725952, 480.0024613564238, 477.37210708812455, 464.829542343078, 433.6378488050201, 433.5968809533173, 377.77188136602035, 358.4888561710482, 356.6166798954746, 340.8773308091811, 335.6580207604281, 330.113322042299, 328.6215697351304, 324.3139164003386, 316.27973885070475, 298.84738683325054, 297.98605712982544, 296.8395314636703, 293.0828914279199, 290.5511241272082, 290.0323798297884, 289.62123714987536, 281.6885461845228, 281.63109932309516, 1514.8424429552613, 576.4409852283678, 576.7407654017951, 685.1213175633411, 2505.927983790443, 1890.3583076972382, 1174.0276979321434, 586.5900455835651, 960.7762781715379, 827.5721362038599, 672.6878185986862, 906.480180435981, 1327.5521240170237, 1689.6564864053423, 550.482353386551, 1844.9852205097166, 558.3562768729719, 3450.806611029654, 1257.9044793961555, 931.1347886197424, 2985.0849915625668, 1826.7330234039114, 2676.759619029727, 1292.5037393127427, 1100.4300289384048, 1616.896318581803, 1311.8448142597424, 993.9014418628046, 2306.2430379766924, 1355.722847596335, 2335.151469977416, 1822.3259505383228, 1253.3359466861546, 1341.847636244286, 1028.5770679220195, 1297.2080085349028, 1217.2894048213948, 1081.2809602928687, 990.5458102030773, 2082.4206609737275, 2001.06604920778, 1631.7653671241565, 1352.0319132559634, 1260.4830395644026, 1179.6870745553604, 950.851493182872, 939.7679631250293, 901.3082735037942, 845.6712374956304, 811.4649617833978, 793.2708351005886, 782.2106012759115, 775.7299286245554, 761.1623003310899, 735.8619739944745, 732.6582019552883, 731.4228844787514, 708.5651141916591, 691.1380661267268, 645.7042788361098, 570.956193378504, 528.3855671418323, 519.7817359688413, 487.31106819736937, 486.0607470209957, 485.66741095175246, 457.41351566294634, 428.650150268371, 424.55063034998244, 664.5664751458421, 1047.3685585864573, 1982.7993339309016, 1156.5070911360403, 1382.9421576744865, 812.2536395578522, 5170.2437992618725, 1053.8487683987437, 2597.1168369565, 1718.9188895920636, 1408.494577024298, 1483.0147528100897, 1441.7750203178098, 1363.3278093068689, 1078.0407494435594, 1123.2180853197424, 1090.5616262317824, 1327.4636440476318, 968.2922721401999, 854.1896362903733, 865.583654224016, 1069.6229410065912, 1022.3129969777706, 1043.5728925172057, 1179.386990786009, 1138.7449808411975, 952.319621267313, 894.0630632082798, 868.4341669670702, 845.9794903403658, 831.355824128132, 764.4082714725133, 736.9077436150932, 735.5857380758176, 646.3549766470736, 621.9183561281541, 589.194380726661, 546.8962029094139, 472.2914300566091, 398.97373052234514, 392.4945938248053, 389.8054579292569, 387.5975028914383, 380.9235134280085, 336.57952671664884, 333.6001276129821, 318.3692278018998, 317.9552019613166, 306.94523043977574, 304.2070668660031, 297.60287733393994, 295.8723615678814, 289.10812247045726, 287.24307088474524, 520.3307489939154, 477.6444461424101, 1053.071629038343, 1940.525309651274, 1437.7953681196568, 1102.6106788484876, 1836.015072303944, 503.0926495853222, 3058.940834696582, 1076.9674613644283, 656.8231600691851, 2144.771778688951, 692.081414864151, 813.6078046109552, 619.7582998417586, 1095.132538697026, 719.7939874298911, 1006.0693100055823, 842.306285079723, 651.8383999059407, 750.879857787768, 722.7139727287624, 657.9867287956729, 659.7280500039716, 1724.4810698306812, 1363.6065381171793, 1109.5177281712593, 1105.822948795921, 1045.53296110848, 730.5556348651298, 697.5153622251885, 669.36616684063, 609.4137057537332, 472.78069358200594, 464.79952465184806, 459.4525903229142, 430.643697278149, 418.7940288700357, 343.1078756139805, 342.10605312807525, 313.5676327491506, 307.7352903675779, 301.110408022947, 300.5185447301539, 293.52181783852916, 285.12360254254423, 279.9125267834208, 272.89034091124, 268.8855188224036, 241.67332782329578, 240.0508293126674, 239.88181289908397, 235.2041523506321, 234.8285111039695, 2758.6551492415506, 826.3763192473975, 615.1526704162328, 435.3684369024923, 396.4863090390306, 1278.3068460011993, 587.107715530355, 384.23427483714244, 673.5774661131139, 591.2513491776331, 461.7986554192865, 419.3999821371547, 560.972880247783, 392.1693771446539, 419.5337525221474, 388.804826269386, 42546.544903517315, 2891.1163461431797, 1257.8624435356887, 998.5999798925759, 932.2215227469653, 925.5741951974265, 742.6786076959985, 651.0631095275697, 605.8051813337537, 598.7141496918157, 470.16779043769475, 461.93827398382064, 453.58931151688904, 453.7187267489652, 424.1722138825613, 382.97648397763373, 377.2086261607117, 352.2530494215216, 349.5194526435593, 338.0842784296705, 304.28131519564704, 297.17514511001394, 285.01016867940587, 267.61120457184404, 263.3337819212518, 242.63421247328048, 240.1470769432806, 238.20173154391395, 235.45630093374612, 230.09018418176117, 270.7625485497235, 739.4887711414958, 654.3639970286966, 631.5022867952179, 518.7918754223236, 507.32298612801577, 463.8157608410463, 449.3576082297828, 429.5663948036221, 387.7752856952767, 381.2835911377828, 353.1430246619138, 349.34591658729715, 345.55142042765243, 330.9885857859978, 317.21481359209383, 284.0144689105236, 283.3020911124539, 283.22793033566717, 271.1602081761697, 280.46021023357633, 262.63345033988605, 261.99717024431266, 256.6310349555576, 253.06277758825527, 250.2948520546498, 245.83841153378071, 239.18140330171624, 221.66867482551973, 217.5485550414834, 217.24316642128431, 397.4439199320338, 328.13690288913574, 670.2666266615054, 415.79582147187466, 326.6508700069138, 501.6428634428058, 426.8974285653569, 327.3733139492011, 971.3816844088092, 475.92703448164843, 366.6548129799272, 359.9986851686398, 409.41230128052086, 324.6295706396052, 342.0160614500525, 343.76372603985425, 334.72796760499926, 1887.051737252072, 1875.5763752741857, 1540.173025551032, 1276.8675900972833, 878.2253047122274, 537.8891253593655, 451.6910714898512, 441.4687614553826, 373.4016095273286, 368.9420845412121, 317.64339501691086, 272.99835674951976, 261.3398689213364, 232.3964885769807, 210.96547833674975, 210.31828151988495, 208.9843562063963, 206.33631076735404, 201.17900048101816, 195.01064190860856, 190.6559532583627, 179.67738671320166, 177.8366715608909, 177.31544098570023, 172.59924863355693, 169.67609470647682, 167.2985146849234, 166.06264472574085, 164.33472733253024, 161.38417404280358, 496.5183174862445, 216.46540525834303, 1910.4200752368847, 321.016913671226, 291.69789055702984, 258.14719393009943, 343.16567179183335, 267.4499661395689, 433.9526795180223, 536.4324603447537, 566.7394344364451, 531.4883509391357, 399.65534042196003, 400.8388774673275, 284.9200830689985, 315.72861370813047, 311.4163816097692, 232.63931854349, 686.0362401371523, 612.48717220212, 608.4407496509634, 560.4439014863818, 532.6036449578406, 481.8955360497683, 437.4216215361174, 381.4152833318099, 322.6906863801899, 308.89511303035846, 302.01715005227584, 296.0783526246393, 284.13299894055245, 248.7872280673152, 230.3865860591878, 224.69491609074626, 212.3154712139592, 191.96723458588426, 184.8114293605014, 183.42318542486984, 177.8682631386184, 174.97108955639436, 170.32976502846878, 165.69586841586258, 161.5950620602615, 160.66593972007843, 159.00343613295985, 148.76840174811184, 146.19165553542103, 143.0836223056177, 427.0496722812747, 269.54376119823525, 562.5475539799526, 321.5429421014989, 312.7620475312734, 413.9648381728393, 372.9963503585787, 211.52295325213368, 305.6437162580967, 240.28527440710593, 357.17379206557905, 253.94812452404412, 234.93908609491797, 362.11636513345115, 291.8105734201707, 270.5964472680158, 248.98047328547958, 1526.0623774510814, 836.9587061032875, 521.7910363284124, 453.17525882069566, 397.3257523387302, 341.74383315020316, 341.24615989833455, 339.4706277983036, 337.00610731007737, 283.7636812861082, 252.5726235247523, 223.68662837929864, 207.5143406317533, 207.241435216699, 195.40936945133225, 192.90304166511206, 185.37678448849934, 164.2386063282721, 149.14262061964385, 139.1150792947306, 134.61956816136566, 133.60593418136193, 128.2992207940205, 125.26424598632643, 124.39682604029981, 121.78438457261002, 119.18640496466945, 118.36685669080207, 115.29759715391603, 112.87772315441737, 312.6333961173246, 198.7940107552763, 575.8781859277697, 305.4237387291722, 271.10017009416225, 576.6041953045045, 270.1726382186441, 177.21907756852985, 553.5225181773369, 260.47794268596647, 214.65108828807382, 267.82010707851157, 268.24238309005057, 204.00805158465172, 208.97299845962755, 213.31943063543514], \"Total\": [42547.0, 10818.0, 9481.0, 10831.0, 8527.0, 8115.0, 2892.0, 6854.0, 3846.0, 2908.0, 8031.0, 6092.0, 5369.0, 1888.0, 1876.0, 6734.0, 1527.0, 4062.0, 5872.0, 5814.0, 4230.0, 2925.0, 1541.0, 1725.0, 2720.0, 2360.0, 5307.0, 2083.0, 2197.0, 4840.0, 4230.862167966162, 1137.7470368030774, 945.6453757184507, 814.5149480545841, 778.4565954231347, 756.6278744360731, 721.1246684528894, 709.9355150734243, 651.4264219920111, 5369.453426943165, 627.8198888748038, 626.4310772562793, 594.1019660524516, 590.9868096063731, 583.2981962755866, 545.3060423089887, 2077.686009895184, 487.5393679363515, 465.3275648838618, 461.9939780279703, 417.5842382013327, 370.8669611914995, 358.2024849596269, 357.81881983940974, 346.4493099755592, 343.25328871520395, 343.0175747261466, 338.2475410628806, 334.4707181322476, 330.4098973236453, 8527.047559534474, 8115.985192748654, 10818.322759531991, 10831.88275052968, 8031.385121982277, 3332.4696184561444, 2376.3988965877097, 5814.681291281822, 3648.5234499082626, 923.769891606112, 2410.5399072516134, 1561.623472888709, 5872.288500817524, 4030.2809906332172, 4840.630952326238, 1958.1479203907124, 6734.355383245114, 3115.53380083503, 1734.168700664865, 1652.5336745231198, 5147.371315391471, 3307.454322366222, 5528.040852544185, 3237.705289909321, 4763.93500460565, 3311.0525952287226, 3171.9942125346415, 5307.150026693047, 3652.6935155076526, 5991.010422782792, 2169.1360959507233, 4705.31739206072, 6402.51376299209, 3834.248572856845, 6854.095885029509, 5846.484469154573, 5758.341116243512, 1318.6209543530995, 779.8301494809955, 646.6024571017965, 627.28376661895, 611.6879157169391, 541.4118705722195, 512.0353206930046, 481.1022493551722, 478.4718061907945, 465.9292502477956, 434.7374588560146, 434.6965146320791, 378.8714177932209, 359.5884885153929, 357.7163973617445, 341.97691487469353, 336.7576974690309, 331.2131588229989, 329.7214549321372, 325.41356335877316, 317.3795613723418, 299.94699252176594, 299.085716078151, 297.93934133454223, 294.1825077955491, 291.65110192716054, 291.13221661196366, 290.7209506340078, 282.788331304535, 282.73066686361085, 1535.2448156679984, 579.0428494716526, 591.4767620888723, 719.9635031798424, 2868.3936228094394, 2253.1959787582073, 1337.6037845924711, 625.8821222464311, 1089.5526514411424, 928.2120511427228, 745.7384699885068, 1068.765842794422, 1685.7136373450583, 2345.1799990271497, 607.840142140507, 2759.3546920914428, 627.1356511759494, 6550.646150550398, 1796.0929035108031, 1218.7623200240505, 6092.64276414575, 3210.3528428871314, 5846.484469154573, 2167.3628897091517, 1697.8455186616463, 3119.876186203394, 2294.2577493602917, 1519.7720179559606, 6402.51376299209, 3095.091509517592, 9481.740209317883, 5758.341116243512, 2778.6960263130213, 3295.417991461836, 1934.275829067776, 4062.8485917489375, 4705.31739206072, 5991.010422782792, 4575.421697756985, 2083.5107660089297, 2002.1561134367755, 1632.8556969061792, 1353.1221319853994, 1261.5731512997097, 1180.7773045198812, 951.9418039326397, 940.858124129912, 902.3985998683843, 846.7614908715354, 812.5555875530054, 794.3609022378819, 783.3007705777546, 776.8200582975459, 762.2524837961362, 736.9521602003329, 733.7482821340104, 732.5130865563667, 709.6552081096291, 692.2281950838103, 646.7943115404794, 572.0463750200267, 529.4756868333442, 520.8721441074927, 488.40116843975903, 487.15095752189734, 486.7574961122861, 458.5043242267964, 429.7403973705467, 425.640709898867, 671.963810667227, 1110.0356880103202, 2197.105402906274, 1260.8783628930505, 1603.773319656054, 880.3686999936496, 9481.740209317883, 1275.1437348118764, 4062.8485917489375, 2393.620967915502, 1852.979106145296, 1993.0076728655483, 2569.756389455, 2608.321255097479, 1627.1717426668074, 1876.6732909902717, 1779.2192457009132, 3798.5111909644306, 1695.782035136494, 1074.1954393632982, 1134.390414088682, 3243.123521453554, 3834.248572856845, 4575.421697756985, 1180.4929429781766, 1139.8509340752182, 953.4259136244202, 895.1689982582615, 869.5405779278459, 847.0854483267274, 832.4617733861955, 765.5144117499711, 738.0137885519783, 736.6917454828765, 647.460922939425, 623.0243041301911, 590.3017060904232, 548.0022417747199, 473.397356771527, 400.0797192076012, 393.60053097740547, 390.9116350166957, 388.7034696281455, 382.02961741090706, 337.6859230877245, 334.70606485615167, 319.47520889944735, 319.06129486344105, 308.0512904300328, 305.3130463788622, 298.7088824297265, 296.9787648922074, 290.2142763583056, 288.3491415430992, 543.0907684835246, 498.2995746785456, 1196.8778529966567, 2360.0714185894562, 1699.3770235404984, 1307.3026452021397, 2720.389866922974, 564.0228732488954, 6854.095885029509, 1659.9533730441672, 863.5288824867105, 6092.64276414575, 1094.389581202382, 1505.810384687761, 993.7487843233848, 3642.349567853466, 1481.9691457722743, 4182.497214485883, 2759.3546920914428, 1275.6295966042217, 6550.646150550398, 4763.93500460565, 3151.2831262525233, 5758.341116243512, 1725.5797337986123, 1364.7052753088417, 1110.616504780428, 1106.9216198336187, 1046.631756454663, 731.6546739598502, 698.6139794732543, 670.4649316436739, 610.5125282205737, 473.87946639219047, 465.898252042606, 460.55137269223025, 431.7428667827632, 419.8927021826017, 344.2068976456153, 343.2058927562348, 314.66635118249224, 308.8340240405595, 302.20906795517453, 301.6173760411776, 294.62078326364497, 286.2223412308288, 281.0112263428307, 273.9891002433743, 269.9841816051605, 242.7721454398454, 241.1494912943537, 240.98053154495716, 236.30296668174364, 235.9273801928321, 2908.7231739024955, 974.4148436319812, 764.9429437641285, 517.0149550714592, 464.1418955628766, 3196.906823418574, 1016.2673340270977, 496.053100617053, 1636.4274806207475, 1425.8339445012423, 888.3662879241454, 723.6031371018287, 1620.4310152561934, 688.9727871160998, 1204.6908335130893, 842.9170101415903, 42547.52370706218, 2892.0951540928495, 1258.8434387198104, 999.5810998595016, 933.2005914611109, 926.5545055578908, 743.65764875342, 652.0422764477369, 606.7847064477764, 599.6941513947705, 471.1467913576385, 462.9190438983413, 454.56905622248723, 454.69903367856784, 425.1515860796601, 383.9559944728116, 378.1882903702207, 353.232324244974, 350.4985157461545, 339.0640642020065, 305.2632278836531, 298.155271917935, 285.98903455419236, 268.5913134818524, 264.31481734239185, 243.6143451181526, 241.12863181666026, 239.1813869135435, 236.43895899172753, 231.07046183578117, 520.465530305623, 740.5934263788467, 655.4687442633887, 632.6073349913511, 519.8964753802554, 508.4278227582534, 464.92197069041515, 450.46248397187514, 430.671044273923, 388.8799445064638, 382.3883444273154, 354.2478577912515, 350.4506190799495, 346.65626669060043, 332.09331203441604, 318.3195587416625, 285.11920870071447, 284.4068263937321, 284.3327866874588, 272.2648324005118, 281.6315199043082, 263.73801453908203, 263.1034673900654, 257.7362666352793, 254.16848740402241, 251.39977859919674, 246.9430562786068, 240.28620457248059, 222.77337744776662, 218.6535541003018, 218.34780538626552, 436.9289114752627, 364.62522374741786, 1063.8701502901945, 570.7573300763934, 413.38302706904096, 1135.3043018524168, 925.4537748413757, 477.82788128826644, 9481.740209317883, 1779.2192457009132, 778.7098328923569, 736.8407509571567, 1636.4274806207475, 619.4680614733087, 888.3662879241454, 2345.1799990271497, 4575.421697756985, 1888.150813470379, 1876.6754450014555, 1541.272265558894, 1277.9669812337577, 879.3243413965446, 538.988341061721, 452.7901049713898, 442.56789502212706, 374.5006423117351, 370.04129186511847, 318.74243279288504, 274.09797188562334, 262.43985259218795, 233.49573751346568, 212.06471864530866, 211.41734887250288, 210.0836774969021, 207.436217293192, 202.27818581643302, 196.1097918522014, 191.75531005947138, 180.7764643524246, 178.93649821968597, 178.41466799156134, 173.69877523828976, 170.77533210698397, 168.397641007342, 167.16177682710878, 165.4344501917098, 162.48432030201792, 565.8946949687911, 233.69945861139877, 3846.097152439566, 391.91862994175267, 358.29904171032535, 324.92985542609756, 535.0048752426027, 389.1884124733736, 991.6238812411142, 1756.8753105233611, 3034.9104125503713, 2569.756389455, 1408.8850007926785, 5307.150026693047, 1099.2982557514308, 2925.699896674986, 4705.31739206072, 559.0039242334491, 687.1328125075445, 613.5836084871264, 609.5372080094463, 561.5404162893597, 533.7001637950552, 482.99200294397286, 438.51807364796093, 382.51172745827233, 323.7871243681278, 309.99164443485466, 303.1140009954851, 297.1749777890497, 285.22954993119964, 249.88379329762546, 231.48321538424906, 225.79156771210432, 213.41321979392393, 193.06378249833614, 185.90864871940056, 184.51975231438777, 178.9649097630334, 176.06764140003986, 171.42622619346199, 166.7926062898681, 162.69159943442332, 161.76237030961698, 160.09995086681892, 149.86484886903193, 147.28825559310252, 144.1801388023963, 461.9797179515914, 300.6598895729137, 765.0814086892673, 437.8332418713399, 471.92020659328534, 849.1441055124925, 993.7487843233848, 291.05410517158913, 869.4617455656845, 462.7707371966692, 1685.7136373450583, 736.3616416734707, 541.5163108108148, 6092.64276414575, 2253.1959787582073, 3846.097152439566, 3034.9104125503713, 1527.1672501643313, 838.0636594068261, 522.8963317763021, 454.2805033292069, 398.4306191634569, 342.84867888663433, 342.3511689870379, 340.5754901432672, 338.11088606637406, 284.86850068164034, 253.67821873984246, 224.79146629654576, 208.61936376265243, 208.34662749860044, 196.51458240084665, 194.00827028453912, 186.48173565873057, 165.3434112567716, 150.24743293281486, 140.21991034200323, 135.7247381751677, 134.71070194202653, 129.4041216496386, 126.3711752830544, 125.50170564903796, 122.88944208268616, 120.29172686947351, 119.47190864843695, 116.40249502748591, 113.98295906756233, 350.4853210025777, 219.47902094144712, 783.989765248238, 382.96218576070066, 359.6124045384599, 1006.965758001528, 501.8137713978899, 252.71425589300827, 2925.699896674986, 678.9312510412694, 517.5139160415888, 1134.390414088682, 1481.9691457722743, 735.7582702057442, 926.9454365690729, 2197.105402906274], \"Category\": [\"Default\", \"Default\", \"Default\", \"Default\", \"Default\", \"Default\", \"Default\", \"Default\", \"Default\", \"Default\", \"Default\", \"Default\", \"Default\", \"Default\", \"Default\", \"Default\", \"Default\", \"Default\", \"Default\", \"Default\", \"Default\", \"Default\", \"Default\", \"Default\", \"Default\", \"Default\", \"Default\", \"Default\", \"Default\", \"Default\", \"Topic1\", \"Topic1\", \"Topic1\", \"Topic1\", \"Topic1\", \"Topic1\", \"Topic1\", \"Topic1\", \"Topic1\", \"Topic1\", \"Topic1\", \"Topic1\", \"Topic1\", \"Topic1\", \"Topic1\", \"Topic1\", \"Topic1\", \"Topic1\", \"Topic1\", \"Topic1\", \"Topic1\", \"Topic1\", \"Topic1\", \"Topic1\", \"Topic1\", \"Topic1\", \"Topic1\", \"Topic1\", \"Topic1\", \"Topic1\", \"Topic1\", \"Topic1\", \"Topic1\", \"Topic1\", \"Topic1\", \"Topic1\", \"Topic1\", \"Topic1\", \"Topic1\", \"Topic1\", \"Topic1\", \"Topic1\", \"Topic1\", \"Topic1\", \"Topic1\", \"Topic1\", \"Topic1\", \"Topic1\", \"Topic1\", \"Topic1\", \"Topic1\", \"Topic1\", \"Topic1\", \"Topic1\", \"Topic1\", \"Topic1\", \"Topic1\", \"Topic1\", \"Topic1\", \"Topic1\", \"Topic1\", \"Topic1\", \"Topic1\", \"Topic1\", \"Topic1\", \"Topic1\", \"Topic1\", \"Topic2\", \"Topic2\", \"Topic2\", \"Topic2\", \"Topic2\", \"Topic2\", \"Topic2\", \"Topic2\", \"Topic2\", \"Topic2\", \"Topic2\", \"Topic2\", \"Topic2\", \"Topic2\", \"Topic2\", \"Topic2\", \"Topic2\", \"Topic2\", \"Topic2\", \"Topic2\", \"Topic2\", \"Topic2\", \"Topic2\", \"Topic2\", \"Topic2\", \"Topic2\", \"Topic2\", \"Topic2\", \"Topic2\", \"Topic2\", \"Topic2\", \"Topic2\", \"Topic2\", \"Topic2\", \"Topic2\", \"Topic2\", \"Topic2\", \"Topic2\", \"Topic2\", \"Topic2\", \"Topic2\", \"Topic2\", \"Topic2\", \"Topic2\", \"Topic2\", \"Topic2\", \"Topic2\", \"Topic2\", \"Topic2\", \"Topic2\", \"Topic2\", \"Topic2\", \"Topic2\", \"Topic2\", \"Topic2\", \"Topic2\", \"Topic2\", \"Topic2\", \"Topic2\", \"Topic2\", \"Topic2\", \"Topic2\", \"Topic2\", \"Topic2\", \"Topic2\", \"Topic2\", \"Topic2\", \"Topic2\", \"Topic2\", \"Topic3\", \"Topic3\", \"Topic3\", \"Topic3\", \"Topic3\", \"Topic3\", \"Topic3\", \"Topic3\", \"Topic3\", \"Topic3\", \"Topic3\", \"Topic3\", \"Topic3\", \"Topic3\", \"Topic3\", \"Topic3\", \"Topic3\", \"Topic3\", \"Topic3\", \"Topic3\", \"Topic3\", \"Topic3\", \"Topic3\", \"Topic3\", \"Topic3\", \"Topic3\", \"Topic3\", \"Topic3\", \"Topic3\", \"Topic3\", \"Topic3\", \"Topic3\", \"Topic3\", \"Topic3\", \"Topic3\", \"Topic3\", \"Topic3\", \"Topic3\", \"Topic3\", \"Topic3\", \"Topic3\", \"Topic3\", \"Topic3\", \"Topic3\", \"Topic3\", \"Topic3\", \"Topic3\", \"Topic3\", \"Topic3\", \"Topic3\", \"Topic3\", \"Topic3\", \"Topic3\", \"Topic3\", \"Topic4\", \"Topic4\", \"Topic4\", \"Topic4\", \"Topic4\", \"Topic4\", \"Topic4\", \"Topic4\", \"Topic4\", \"Topic4\", \"Topic4\", \"Topic4\", \"Topic4\", \"Topic4\", \"Topic4\", \"Topic4\", \"Topic4\", \"Topic4\", \"Topic4\", \"Topic4\", \"Topic4\", \"Topic4\", \"Topic4\", \"Topic4\", \"Topic4\", \"Topic4\", \"Topic4\", \"Topic4\", \"Topic4\", \"Topic4\", \"Topic4\", \"Topic4\", \"Topic4\", \"Topic4\", \"Topic4\", \"Topic4\", \"Topic4\", \"Topic4\", \"Topic4\", \"Topic4\", \"Topic4\", \"Topic4\", \"Topic4\", \"Topic4\", \"Topic4\", \"Topic4\", \"Topic4\", \"Topic4\", \"Topic4\", \"Topic4\", \"Topic4\", \"Topic4\", \"Topic4\", \"Topic4\", \"Topic5\", \"Topic5\", \"Topic5\", \"Topic5\", \"Topic5\", \"Topic5\", \"Topic5\", \"Topic5\", \"Topic5\", \"Topic5\", \"Topic5\", \"Topic5\", \"Topic5\", \"Topic5\", \"Topic5\", \"Topic5\", \"Topic5\", \"Topic5\", \"Topic5\", \"Topic5\", \"Topic5\", \"Topic5\", \"Topic5\", \"Topic5\", \"Topic5\", \"Topic5\", \"Topic5\", \"Topic5\", \"Topic5\", \"Topic5\", \"Topic5\", \"Topic5\", \"Topic5\", \"Topic5\", \"Topic5\", \"Topic5\", \"Topic5\", \"Topic5\", \"Topic5\", \"Topic5\", \"Topic5\", \"Topic5\", \"Topic5\", \"Topic5\", \"Topic5\", \"Topic5\", \"Topic6\", \"Topic6\", \"Topic6\", \"Topic6\", \"Topic6\", \"Topic6\", \"Topic6\", \"Topic6\", \"Topic6\", \"Topic6\", \"Topic6\", \"Topic6\", \"Topic6\", \"Topic6\", \"Topic6\", \"Topic6\", \"Topic6\", \"Topic6\", \"Topic6\", \"Topic6\", \"Topic6\", \"Topic6\", \"Topic6\", \"Topic6\", \"Topic6\", \"Topic6\", \"Topic6\", \"Topic6\", \"Topic6\", \"Topic6\", \"Topic6\", \"Topic7\", \"Topic7\", \"Topic7\", \"Topic7\", \"Topic7\", \"Topic7\", \"Topic7\", \"Topic7\", \"Topic7\", \"Topic7\", \"Topic7\", \"Topic7\", \"Topic7\", \"Topic7\", \"Topic7\", \"Topic7\", \"Topic7\", \"Topic7\", \"Topic7\", \"Topic7\", \"Topic7\", \"Topic7\", \"Topic7\", \"Topic7\", \"Topic7\", \"Topic7\", \"Topic7\", \"Topic7\", \"Topic7\", \"Topic7\", \"Topic7\", \"Topic7\", \"Topic7\", \"Topic7\", \"Topic7\", \"Topic7\", \"Topic7\", \"Topic7\", \"Topic7\", \"Topic7\", \"Topic7\", \"Topic7\", \"Topic7\", \"Topic7\", \"Topic7\", \"Topic7\", \"Topic7\", \"Topic8\", \"Topic8\", \"Topic8\", \"Topic8\", \"Topic8\", \"Topic8\", \"Topic8\", \"Topic8\", \"Topic8\", \"Topic8\", \"Topic8\", \"Topic8\", \"Topic8\", \"Topic8\", \"Topic8\", \"Topic8\", \"Topic8\", \"Topic8\", \"Topic8\", \"Topic8\", \"Topic8\", \"Topic8\", \"Topic8\", \"Topic8\", \"Topic8\", \"Topic8\", \"Topic8\", \"Topic8\", \"Topic8\", \"Topic8\", \"Topic8\", \"Topic8\", \"Topic8\", \"Topic8\", \"Topic8\", \"Topic8\", \"Topic8\", \"Topic8\", \"Topic8\", \"Topic8\", \"Topic8\", \"Topic8\", \"Topic8\", \"Topic8\", \"Topic8\", \"Topic8\", \"Topic8\", \"Topic8\", \"Topic9\", \"Topic9\", \"Topic9\", \"Topic9\", \"Topic9\", \"Topic9\", \"Topic9\", \"Topic9\", \"Topic9\", \"Topic9\", \"Topic9\", \"Topic9\", \"Topic9\", \"Topic9\", \"Topic9\", \"Topic9\", \"Topic9\", \"Topic9\", \"Topic9\", \"Topic9\", \"Topic9\", \"Topic9\", \"Topic9\", \"Topic9\", \"Topic9\", \"Topic9\", \"Topic9\", \"Topic9\", \"Topic9\", \"Topic9\", \"Topic9\", \"Topic9\", \"Topic9\", \"Topic9\", \"Topic9\", \"Topic9\", \"Topic9\", \"Topic9\", \"Topic9\", \"Topic9\", \"Topic9\", \"Topic9\", \"Topic9\", \"Topic9\", \"Topic9\", \"Topic9\", \"Topic9\", \"Topic10\", \"Topic10\", \"Topic10\", \"Topic10\", \"Topic10\", \"Topic10\", \"Topic10\", \"Topic10\", \"Topic10\", \"Topic10\", \"Topic10\", \"Topic10\", \"Topic10\", \"Topic10\", \"Topic10\", \"Topic10\", \"Topic10\", \"Topic10\", \"Topic10\", \"Topic10\", \"Topic10\", \"Topic10\", \"Topic10\", \"Topic10\", \"Topic10\", \"Topic10\", \"Topic10\", \"Topic10\", \"Topic10\", \"Topic10\", \"Topic10\", \"Topic10\", \"Topic10\", \"Topic10\", \"Topic10\", \"Topic10\", \"Topic10\", \"Topic10\", \"Topic10\", \"Topic10\", \"Topic10\", \"Topic10\", \"Topic10\", \"Topic10\", \"Topic10\", \"Topic10\"], \"logprob\": [30.0, 29.0, 28.0, 27.0, 26.0, 25.0, 24.0, 23.0, 22.0, 21.0, 20.0, 19.0, 18.0, 17.0, 16.0, 15.0, 14.0, 13.0, 12.0, 11.0, 10.0, 9.0, 8.0, 7.0, 6.0, 5.0, 4.0, 3.0, 2.0, 1.0, -4.581, -5.895, -6.0802, -6.2296, -6.275, -6.3035, -6.3516, -6.3672, -6.4534, -4.3441, -6.4904, -6.4926, -6.5457, -6.5509, -6.5641, -6.6315, -5.294, -6.7438, -6.7905, -6.7977, -6.899, -7.018, -7.0528, -7.0539, -7.0863, -7.0956, -7.0963, -7.1103, -7.1216, -7.1339, -3.893, -3.9457, -3.6661, -3.6752, -3.9776, -4.8469, -5.1834, -4.3066, -4.7682, -6.1185, -5.1818, -5.6071, -4.3226, -4.6962, -4.5204, -5.3943, -4.2112, -4.9716, -5.5364, -5.5826, -4.5372, -4.954, -4.5147, -5.0017, -4.6619, -5.0, -5.0405, -4.6184, -4.9515, -4.5636, -5.381, -4.8829, -4.7334, -5.064, -4.8942, -4.9694, -5.0233, -5.2321, -5.7579, -5.9455, -5.9759, -6.0011, -6.1234, -6.1793, -6.2418, -6.2473, -6.2739, -6.3433, -6.3434, -6.4813, -6.5337, -6.5389, -6.584, -6.5995, -6.6161, -6.6207, -6.6338, -6.6589, -6.7156, -6.7185, -6.7224, -6.7351, -6.7438, -6.7456, -6.747, -6.7748, -6.775, -5.0925, -6.0587, -6.0582, -5.886, -4.5891, -4.871, -5.3474, -6.0412, -5.5478, -5.6971, -5.9043, -5.606, -5.2245, -4.9833, -6.1048, -4.8953, -6.0906, -4.2692, -5.2784, -5.5792, -4.4142, -4.9053, -4.5232, -5.2512, -5.4121, -5.0273, -5.2364, -5.5139, -4.6722, -5.2035, -4.6597, -4.9077, -5.282, -5.2138, -5.4796, -5.2476, -5.3112, -5.4297, -5.5173, -4.3764, -4.4162, -4.6203, -4.8083, -4.8784, -4.9447, -5.1603, -5.172, -5.2138, -5.2775, -5.3188, -5.3415, -5.3555, -5.3639, -5.3828, -5.4166, -5.421, -5.4227, -5.4544, -5.4793, -5.5473, -5.6704, -5.7478, -5.7643, -5.8288, -5.8313, -5.8321, -5.8921, -5.957, -5.9666, -5.5185, -5.0636, -4.4254, -4.9645, -4.7857, -5.3179, -3.467, -5.0575, -4.1555, -4.5682, -4.7674, -4.7158, -4.744, -4.8, -5.0348, -4.9937, -5.0232, -4.8266, -5.1421, -5.2675, -5.2543, -5.0426, -5.0878, -5.0673, -4.7661, -4.8012, -4.98, -5.0431, -5.0722, -5.0984, -5.1158, -5.1998, -5.2364, -5.2382, -5.3675, -5.4061, -5.4601, -5.5346, -5.6813, -5.85, -5.8664, -5.8732, -5.8789, -5.8963, -6.02, -6.0289, -6.0757, -6.077, -6.1122, -6.1212, -6.1431, -6.1489, -6.1721, -6.1785, -5.5844, -5.67, -4.8794, -4.2682, -4.568, -4.8334, -4.3235, -5.6181, -3.813, -4.857, -5.3515, -4.1681, -5.2992, -5.1374, -5.4095, -4.8402, -5.2599, -4.9251, -5.1027, -5.3591, -5.2176, -5.2559, -5.3497, -5.347, -3.9614, -4.1962, -4.4024, -4.4058, -4.4618, -4.8203, -4.8666, -4.9078, -5.0016, -5.2555, -5.2725, -5.2841, -5.3488, -5.3768, -5.5761, -5.579, -5.6661, -5.6849, -5.7067, -5.7086, -5.7322, -5.7612, -5.7797, -5.8051, -5.8198, -5.9265, -5.9333, -5.934, -5.9537, -5.9553, -3.4916, -4.6971, -4.9923, -5.3379, -5.4315, -4.2608, -5.0389, -5.4629, -4.9015, -5.0319, -5.279, -5.3753, -5.0845, -5.4424, -5.375, -5.4511, -0.6225, -3.3115, -4.1437, -4.3745, -4.4433, -4.4505, -4.6706, -4.8023, -4.8743, -4.8861, -5.1278, -5.1455, -5.1637, -5.1634, -5.2307, -5.3329, -5.3481, -5.4165, -5.4243, -5.4576, -5.5629, -5.5866, -5.6284, -5.6914, -5.7075, -5.7893, -5.7996, -5.8078, -5.8194, -5.8424, -5.6796, -4.4453, -4.5676, -4.6032, -4.7998, -4.8221, -4.9118, -4.9434, -4.9885, -5.0908, -5.1077, -5.1844, -5.1952, -5.2061, -5.2492, -5.2917, -5.4022, -5.4047, -5.405, -5.4485, -5.4148, -5.4805, -5.4829, -5.5036, -5.5176, -5.5286, -5.5466, -5.574, -5.6501, -5.6688, -5.6702, -5.0662, -5.2578, -4.5436, -5.0211, -5.2624, -4.8334, -4.9947, -5.2602, -4.1725, -4.886, -5.1468, -5.1652, -5.0365, -5.2686, -5.2164, -5.2113, -5.2379, -3.3963, -3.4024, -3.5994, -3.7869, -4.1611, -4.6514, -4.826, -4.8489, -5.0164, -5.0284, -5.1781, -5.3296, -5.3732, -5.4906, -5.5873, -5.5904, -5.5968, -5.6095, -5.6348, -5.666, -5.6886, -5.7479, -5.7582, -5.7611, -5.7881, -5.8051, -5.8193, -5.8267, -5.8371, -5.8552, -4.7314, -5.5616, -3.384, -5.1675, -5.2633, -5.3855, -5.1008, -5.3501, -4.8661, -4.6541, -4.5991, -4.6634, -4.9484, -4.9455, -5.2868, -5.1842, -5.1979, -5.4895, -4.3143, -4.4277, -4.4344, -4.5165, -4.5675, -4.6675, -4.7644, -4.9014, -5.0686, -5.1123, -5.1348, -5.1546, -5.1958, -5.3287, -5.4055, -5.4305, -5.4872, -5.5879, -5.6259, -5.6335, -5.6642, -5.6806, -5.7075, -5.7351, -5.7602, -5.7659, -5.7763, -5.8429, -5.8603, -5.8818, -4.7884, -5.2485, -4.5128, -5.0721, -5.0998, -4.8195, -4.9237, -5.4909, -5.1228, -5.3634, -4.967, -5.3081, -5.3859, -4.9533, -5.1692, -5.2446, -5.3279, -3.1839, -3.7846, -4.2571, -4.3981, -4.5296, -4.6803, -4.6818, -4.687, -4.6943, -4.8662, -4.9827, -5.1041, -5.1792, -5.1805, -5.2393, -5.2522, -5.292, -5.413, -5.5095, -5.5791, -5.6119, -5.6195, -5.66, -5.6839, -5.6909, -5.7121, -5.7337, -5.7406, -5.7668, -5.7881, -4.7693, -5.2221, -4.1585, -4.7927, -4.9119, -4.1572, -4.9153, -5.337, -4.1981, -4.9518, -5.1453, -4.924, -4.9225, -5.1962, -5.1722, -5.1516], \"loglift\": [30.0, 29.0, 28.0, 27.0, 26.0, 25.0, 24.0, 23.0, 22.0, 21.0, 20.0, 19.0, 18.0, 17.0, 16.0, 15.0, 14.0, 13.0, 12.0, 11.0, 10.0, 9.0, 8.0, 7.0, 6.0, 5.0, 4.0, 3.0, 2.0, 1.0, 1.1778, 1.1771, 1.1769, 1.1767, 1.1767, 1.1766, 1.1766, 1.1765, 1.1764, 1.1763, 1.1763, 1.1763, 1.1762, 1.1762, 1.1762, 1.1761, 1.176, 1.1758, 1.1757, 1.1757, 1.1754, 1.1751, 1.175, 1.175, 1.1749, 1.1749, 1.1749, 1.1748, 1.1748, 1.1748, 1.1649, 1.1617, 1.1539, 1.1435, 1.1403, 1.1506, 1.1522, 1.1343, 1.1387, 1.162, 1.1396, 1.1484, 1.1083, 1.1112, 1.1038, 1.1349, 1.0828, 1.0932, 1.1142, 1.1163, 1.0255, 1.051, 0.9767, 1.0246, 0.9782, 1.0039, 1.0063, 0.9137, 0.9542, 0.8473, 1.0459, 0.7696, 0.6111, 0.7932, 0.3822, 0.4659, 0.4272, 1.6926, 1.692, 1.6917, 1.6916, 1.6916, 1.6914, 1.6912, 1.6911, 1.6911, 1.691, 1.6909, 1.6909, 1.6905, 1.6903, 1.6903, 1.6902, 1.6901, 1.6901, 1.6901, 1.69, 1.6899, 1.6897, 1.6897, 1.6897, 1.6896, 1.6896, 1.6896, 1.6896, 1.6895, 1.6895, 1.68, 1.6889, 1.6682, 1.6438, 1.5583, 1.5178, 1.563, 1.6286, 1.5676, 1.5786, 1.5903, 1.5287, 1.4545, 1.3656, 1.5943, 1.2909, 1.5772, 1.0524, 1.3372, 1.4242, 0.9799, 1.1295, 0.9122, 1.1765, 1.2597, 1.0361, 1.1344, 1.2687, 0.6723, 0.8679, 0.2921, 0.5429, 0.8972, 0.7949, 1.0618, 0.5517, 0.3413, -0.0187, 0.1632, 2.0908, 2.0907, 2.0906, 2.0905, 2.0904, 2.0904, 2.0901, 2.0901, 2.0901, 2.09, 2.0899, 2.0899, 2.0899, 2.0899, 2.0898, 2.0898, 2.0898, 2.0898, 2.0897, 2.0897, 2.0896, 2.0894, 2.0892, 2.0892, 2.089, 2.089, 2.089, 2.0889, 2.0887, 2.0887, 2.0802, 2.0332, 1.9886, 2.0049, 1.9431, 2.0108, 1.4848, 1.9007, 1.6438, 1.7602, 1.817, 1.7957, 1.5133, 1.4425, 1.6796, 1.578, 1.6018, 1.0399, 1.5309, 1.8621, 1.8208, 0.982, 0.7694, 0.6132, 2.2691, 2.2691, 2.2689, 2.2688, 2.2688, 2.2688, 2.2687, 2.2686, 2.2686, 2.2686, 2.2684, 2.2683, 2.2682, 2.2681, 2.2677, 2.2673, 2.2673, 2.2672, 2.2672, 2.2672, 2.2668, 2.2668, 2.2666, 2.2666, 2.2665, 2.2664, 2.2664, 2.2663, 2.2663, 2.2662, 2.2273, 2.2277, 2.1421, 2.0743, 2.1029, 2.0998, 1.8769, 2.1558, 1.4633, 1.8374, 1.9965, 1.226, 1.8118, 1.6545, 1.7979, 1.0683, 1.5479, 0.8452, 1.0835, 1.5987, 0.104, 0.3843, 0.7037, 0.1035, 2.6942, 2.694, 2.6938, 2.6938, 2.6938, 2.6933, 2.6932, 2.6932, 2.693, 2.6925, 2.6925, 2.6924, 2.6923, 2.6922, 2.6916, 2.6916, 2.6913, 2.6913, 2.6912, 2.6912, 2.6911, 2.691, 2.6909, 2.6908, 2.6907, 2.6903, 2.6903, 2.6903, 2.6902, 2.6902, 2.6419, 2.53, 2.4769, 2.5229, 2.5373, 1.7782, 2.1461, 2.4394, 1.8072, 1.8146, 2.0406, 2.1494, 1.634, 2.1313, 1.64, 1.921, 2.828, 2.8277, 2.8273, 2.8271, 2.827, 2.827, 2.8267, 2.8266, 2.8264, 2.8264, 2.826, 2.8259, 2.8259, 2.8259, 2.8258, 2.8255, 2.8255, 2.8253, 2.8253, 2.8252, 2.8248, 2.8248, 2.8246, 2.8244, 2.8243, 2.824, 2.824, 2.824, 2.8239, 2.8238, 2.1746, 3.0562, 3.056, 3.0559, 3.0556, 3.0555, 3.0553, 3.0552, 3.0551, 3.0549, 3.0548, 3.0546, 3.0545, 3.0545, 3.0544, 3.0542, 3.0538, 3.0538, 3.0538, 3.0536, 3.0535, 3.0535, 3.0535, 3.0534, 3.0533, 3.0533, 3.0532, 3.0531, 3.0527, 3.0526, 3.0526, 2.963, 2.9523, 2.5957, 2.7409, 2.8222, 2.2409, 2.284, 2.6795, 0.7793, 1.739, 2.3045, 2.3414, 1.6721, 2.4115, 2.1032, 1.1375, 0.4426, 3.1693, 3.1693, 3.1692, 3.1691, 3.1687, 3.1679, 3.1675, 3.1674, 3.167, 3.1669, 3.1665, 3.1659, 3.1657, 3.1652, 3.1647, 3.1647, 3.1647, 3.1646, 3.1645, 3.1643, 3.1642, 3.1638, 3.1638, 3.1637, 3.1636, 3.1635, 3.1634, 3.1633, 3.1632, 3.1631, 3.0391, 3.0933, 2.4702, 2.9704, 2.9643, 2.9398, 2.7259, 2.7948, 2.3435, 1.9836, 1.4919, 1.594, 1.91, 0.5867, 1.8197, 0.9435, 0.4546, 2.2933, 3.2621, 3.2619, 3.2619, 3.2617, 3.2616, 3.2614, 3.2612, 3.2608, 3.2603, 3.2601, 3.2601, 3.26, 3.2598, 3.2593, 3.2589, 3.2588, 3.2585, 3.258, 3.2578, 3.2577, 3.2575, 3.2574, 3.2573, 3.2571, 3.2569, 3.2569, 3.2568, 3.2563, 3.2562, 3.2561, 3.1851, 3.1544, 2.9562, 2.955, 2.8523, 2.5452, 2.2838, 2.9445, 2.2182, 2.6083, 1.712, 2.1991, 2.4286, 0.4408, 1.2197, 0.6095, 0.7631, 3.5939, 3.5933, 3.5925, 3.5922, 3.5918, 3.5914, 3.5914, 3.5913, 3.5913, 3.5907, 3.5902, 3.5897, 3.5893, 3.5893, 3.589, 3.5889, 3.5887, 3.5879, 3.5872, 3.5867, 3.5864, 3.5864, 3.586, 3.5858, 3.5858, 3.5856, 3.5854, 3.5853, 3.5851, 3.5849, 3.4803, 3.4956, 3.2861, 3.3684, 3.3121, 3.0371, 2.9754, 3.2397, 1.9296, 2.6366, 2.7146, 2.1511, 1.8854, 2.3119, 2.1049, 1.2625]}, \"token.table\": {\"Topic\": [6, 7, 2, 4, 5, 1, 6, 2, 2, 4, 1, 1, 2, 3, 4, 5, 7, 8, 9, 10, 2, 2, 6, 3, 2, 3, 7, 9, 9, 1, 2, 1, 2, 3, 4, 8, 10, 4, 4, 2, 4, 9, 3, 5, 7, 10, 6, 1, 5, 1, 2, 8, 8, 8, 2, 4, 4, 2, 4, 4, 5, 6, 1, 2, 3, 5, 1, 3, 4, 7, 10, 9, 9, 6, 9, 5, 7, 5, 3, 1, 2, 3, 5, 7, 7, 1, 2, 4, 7, 1, 8, 9, 2, 4, 3, 5, 4, 9, 3, 6, 4, 4, 4, 10, 7, 1, 4, 5, 8, 9, 9, 2, 4, 2, 6, 5, 3, 1, 4, 8, 10, 2, 1, 3, 5, 2, 3, 7, 7, 2, 5, 2, 6, 3, 5, 2, 1, 3, 2, 5, 10, 2, 4, 9, 3, 8, 6, 1, 2, 3, 7, 6, 3, 10, 5, 4, 2, 2, 3, 5, 7, 10, 8, 7, 4, 7, 2, 7, 5, 1, 1, 10, 1, 5, 8, 7, 1, 3, 4, 5, 3, 5, 3, 5, 4, 10, 2, 5, 8, 5, 2, 7, 6, 1, 3, 5, 6, 2, 10, 5, 1, 3, 1, 2, 4, 8, 2, 4, 2, 2, 3, 2, 4, 5, 10, 6, 10, 1, 2, 4, 9, 4, 3, 8, 3, 5, 3, 6, 2, 8, 9, 10, 3, 2, 8, 4, 4, 1, 2, 3, 4, 8, 9, 10, 10, 8, 2, 9, 3, 2, 1, 5, 2, 8, 8, 7, 1, 3, 5, 1, 4, 8, 4, 1, 2, 4, 5, 8, 2, 9, 3, 9, 2, 5, 7, 9, 1, 2, 3, 9, 1, 4, 3, 7, 1, 4, 4, 5, 9, 1, 2, 4, 2, 3, 5, 7, 8, 10, 1, 8, 7, 7, 1, 3, 1, 2, 3, 4, 7, 10, 1, 3, 10, 6, 2, 3, 4, 5, 7, 8, 9, 10, 2, 1, 3, 3, 7, 9, 10, 9, 2, 5, 7, 1, 9, 9, 9, 2, 3, 5, 10, 4, 9, 4, 1, 2, 4, 2, 3, 6, 4, 9, 1, 2, 4, 1, 4, 9, 1, 4, 5, 8, 9, 4, 10, 2, 4, 6, 2, 4, 7, 8, 8, 1, 9, 8, 2, 2, 5, 7, 3, 2, 4, 1, 4, 5, 1, 3, 1, 2, 1, 2, 4, 9, 1, 3, 5, 1, 4, 8, 1, 5, 8, 1, 4, 5, 5, 7, 10, 1, 7, 3, 1, 3, 1, 2, 4, 5, 8, 1, 4, 9, 10, 1, 2, 3, 4, 8, 9, 10, 10, 7, 6, 1, 1, 2, 4, 7, 3, 7, 4, 9, 10, 3, 5, 10, 3, 10, 2, 1, 2, 3, 5, 7, 8, 10, 1, 2, 3, 4, 5, 7, 8, 4, 3, 5, 5, 4, 9, 9, 8, 1, 2, 3, 7, 1, 2, 3, 5, 10, 1, 4, 1, 3, 5, 8, 5, 1, 5, 9, 6, 1, 2, 4, 9, 3, 10, 9, 8, 1, 3, 4, 5, 7, 1, 6, 1, 2, 3, 4, 5, 7, 8, 10, 1, 5, 6, 1, 1, 2, 3, 4, 5, 7, 1, 5, 3, 7, 9, 1, 2, 3, 4, 5, 6, 7, 9, 10, 6, 7, 9, 1, 2, 5, 3, 4, 6, 5, 1, 2, 4, 9, 8, 9, 2, 4, 1, 5, 8, 7, 8, 9, 10, 10, 8, 8, 8, 8, 1, 2, 4, 8, 10, 1, 2, 5, 7, 9, 10, 8, 8, 2, 1, 2, 5, 3, 2, 1, 2, 3, 7, 7, 3, 10, 1, 10, 1, 2, 4, 2, 3, 7, 10, 2, 1, 6, 2, 7, 10, 1, 2, 3, 4, 7, 10, 6, 1, 2, 4, 5, 10, 1, 2, 4, 1, 2, 4, 3, 4, 7, 10, 10, 4, 4, 9, 1, 7, 6, 7, 1, 3, 9, 3, 7, 8, 9, 1, 7, 10, 10, 4, 5, 7, 5, 5, 1, 2, 4, 5, 3, 6, 5, 9, 8, 9, 1, 6, 2, 8, 1, 3, 5, 8, 9, 1, 2, 4, 8, 5, 10, 1, 2, 4, 8, 10, 7, 10, 8, 3, 7, 5, 1, 3, 4, 5, 8, 9, 1, 8, 1, 6, 9, 2, 1, 2, 4, 10, 5, 5, 1, 3, 9, 9, 1, 3, 1, 2, 3, 4, 5, 4, 6, 10, 6, 2, 2, 4, 9, 4, 9, 1, 2, 4, 2, 7, 3, 9, 4, 1, 1, 10, 10, 10, 3, 5, 10, 8, 10, 5, 1, 2, 4, 9, 6, 2, 4, 7, 10, 1, 3, 1, 2, 3, 4, 7, 9, 5, 10, 8, 2, 3, 10, 1, 2, 4, 9, 8, 1, 8, 1, 2, 9, 2, 1, 3, 1, 2, 3, 4, 10, 1, 4, 9, 8, 1, 2, 4, 8, 1, 2, 3, 4, 8, 2, 1, 2, 1, 9, 5, 6, 7, 9, 7, 4, 9, 1, 4, 1, 2, 3, 4, 7, 9, 9, 4, 7, 5, 1, 2, 3, 5, 7, 3, 2, 3, 10, 3, 3, 9, 1, 2, 3, 9, 7, 4, 1, 2, 5, 8, 4, 2, 8, 3, 8, 8, 7, 9, 1, 2, 3, 4, 1, 2, 3, 7, 9, 1, 2, 4, 1, 2, 4, 5, 8, 9, 10, 9], \"Freq\": [0.09873151294913655, 0.8995537846476886, 0.11991916170283831, 0.034815240494372415, 0.8413683119473333, 0.9971470315020063, 0.9958618406402537, 0.9956561019025053, 0.8477067321230529, 0.15064104180111645, 0.9970334618365866, 0.3470718340078877, 0.21659205762079137, 0.22817568936034935, 0.07824415401437267, 0.028849799804182102, 0.07321729495758336, 0.004371181788512439, 0.010709395381855476, 0.012676427186686075, 0.9983976990644413, 0.9977675314001619, 0.9988424909711792, 0.998356864919746, 0.8897596539978035, 0.007972756756252721, 0.10045673512878428, 0.9965381731354142, 0.997419082802699, 0.9837376252403001, 0.01614098558447887, 0.5762546678206397, 0.4072321033255916, 0.006069032836446968, 0.0021241614927564392, 0.00788974268738106, 0.9879513319095545, 0.9956993440194073, 0.9977436121815776, 0.23657613156499002, 0.027448059463341383, 0.7358694037076762, 0.9176142870318558, 0.007137881230152724, 0.011103370802459793, 0.06424093107137452, 0.9999876912446001, 0.9624399882452712, 0.03733603402675621, 0.9382016867080017, 0.023642451846974843, 0.038058581021959505, 0.9935941549537733, 0.9976707437840023, 0.9975201283827824, 0.9958159316848824, 0.9990610109491276, 0.32458582894177557, 0.6749032638019252, 0.9970482370644047, 0.9991211463107034, 0.9950255632445735, 0.20993221062768835, 0.0296819320938891, 0.7598574616035609, 0.995729399649334, 0.0796237899666316, 0.12888257528497146, 0.48584007437266735, 0.12415913011745942, 0.18084047212760396, 0.9944899945263151, 0.9963248118139494, 0.9994186566156731, 0.9912535077021929, 0.9994832032076068, 0.995354404058137, 0.9990845199629607, 0.9994759506870077, 0.07632676386215749, 0.7206269884192523, 0.052447999748856826, 0.0034112520161858097, 0.14668383669598983, 0.994432061129901, 0.0008808211140998517, 0.3074065688208482, 0.24927237529025803, 0.4421721992781255, 0.5175615859985001, 0.12996546492851224, 0.35194187847898006, 0.9378762855425964, 0.06071430809304712, 0.9983256080837514, 0.9991052145456721, 0.8797890255581005, 0.11947752198937167, 0.9991707090151922, 0.9993299891838272, 0.9986941032804577, 0.9978904927926684, 0.9983559162565557, 0.9935366004491266, 0.9972017134489626, 0.06278665909267192, 0.26037996859019824, 0.03323999599023807, 0.2068266417170369, 0.43396661431699707, 0.9964631828020443, 0.3506122578206385, 0.6488134049361299, 0.9977089083315458, 0.9991156565732601, 0.996819464447017, 0.9989443394402777, 0.692684750049093, 0.3006301233863483, 0.006314605331402751, 0.9916974759004856, 0.9979534515521269, 0.11410590122502243, 0.8623413190940219, 0.023070592050960816, 0.9973922430427554, 0.26981694651102905, 0.728856167198624, 0.996707816764757, 0.8776889042353327, 0.12185970305822763, 0.9978119260322756, 0.9939140360037794, 0.9984437915834143, 0.9978929413710456, 0.9956532759501695, 0.07610447759044965, 0.9223408328872407, 0.05849664583058001, 0.847688236071212, 0.09236312499565263, 0.5785200856359975, 0.07469156035206541, 0.3449392059895384, 0.9990106496754855, 0.9960610735669477, 0.9975659574071725, 0.2311515694253239, 0.0821872246845596, 0.21445728941127273, 0.4712923665505215, 0.9968579398133732, 0.7634056046706859, 0.23625023331610137, 0.9959992333672997, 0.9985044316458741, 0.9974156787740209, 0.05844310793540339, 0.26503269877682933, 0.3506586476124203, 0.04621082953031896, 0.27726497718191373, 0.9943409666507739, 0.9953125817708677, 0.9980217070681802, 0.9958059564892413, 0.9989354739855236, 0.997737233511539, 0.9978150510570589, 0.9986940699246192, 0.4603301327432867, 0.5380482071025429, 0.9977155072469468, 0.12016369936768921, 0.8782552733197285, 0.9980169345642108, 0.9354186491616499, 0.050616818150922165, 0.01389481282574334, 0.9959310756820443, 0.051225225328023836, 0.9485261522148843, 0.8265734844044841, 0.17252956979979742, 0.2640340590855248, 0.7347034687597213, 0.19013926835517675, 0.12076412990126091, 0.6860430358220566, 0.9979531151378583, 0.47460073938399117, 0.5246436744891059, 0.9965417046295705, 0.04053923714890654, 0.9432129176645587, 0.015314822922920248, 0.9987134690310996, 0.9990682727923788, 0.9920542585390657, 0.9966314882894357, 0.9976049370304819, 0.9984501307198523, 0.543905428782679, 0.24180626413792383, 0.2088038343868161, 0.005077296884785802, 0.17753700023638425, 0.8224327385652073, 0.995980359932308, 0.8820133645940773, 0.11747940756299885, 0.04050888226553864, 0.9574826717309133, 0.9963900014909508, 0.989149328230516, 0.996511292539243, 0.9946602352311608, 0.9963487932777133, 0.7004092035222683, 0.2750414519395871, 0.024497619201096825, 0.9992534689846014, 0.9967190620735513, 0.9981663034495808, 0.5374194547621084, 0.4614926443762917, 0.9896366284066515, 0.010417227667438436, 0.17970531248965732, 0.24733634407178642, 0.15651753023292736, 0.41544776543307876, 0.9992748940713065, 0.17860850353146893, 0.8190475661943075, 0.9981710991336932, 0.9981902152074472, 0.514347966761965, 0.0840222495351064, 0.020099440084868588, 0.073478280965995, 0.18682594308394246, 0.08204525542839801, 0.03921038311638299, 0.9964791087954307, 0.9971860117019102, 0.5111028825172891, 0.4875497542906859, 0.9971311116141773, 0.9968428004101517, 0.9984403966441721, 0.9960692133652562, 0.9963698832147928, 0.9996400842760241, 0.9913291929821901, 0.9960745938310691, 0.9628476137739201, 0.03237299619568333, 0.004606926381693397, 0.9326857832746989, 0.03371768944465773, 0.033547398083826126, 0.9982440354224922, 0.7676436466859335, 0.08026907056657037, 0.009232827365638376, 0.0672677422353653, 0.07555844435961201, 0.7877969131765197, 0.21177974247290476, 0.9989801923190414, 0.9986880952217131, 0.09918162409980225, 0.07982911208032864, 0.7910339287959838, 0.026609704026776215, 0.2832935836058333, 0.5965775302969747, 0.09827611287954803, 0.02214672966299674, 0.999170167453134, 0.9987353224031902, 0.9987079755623839, 0.9964774443548313, 0.9397690491530573, 0.05930287625048268, 0.8918078040037805, 0.1063786644934927, 0.9964942547672391, 0.8420570218713254, 0.12988674392024935, 0.0274275405851012, 0.17049334804263166, 0.06599742504876065, 0.41187281928578406, 0.24993469300873244, 0.0409428470209904, 0.06049763962803059, 0.3570060925396042, 0.6411156530946819, 0.9990399494951171, 0.9965284117131638, 0.9283913696912467, 0.07147828524992687, 0.11602940187119519, 0.6478799089254554, 0.12191921922506296, 0.09777096807420509, 0.015902506855442994, 0.9948029520439496, 0.9993175288168037, 0.7735083120467702, 0.2254717394948047, 0.9980146768415449, 0.17850736279367477, 0.5983993087083486, 0.021847169774748255, 0.06127864692917193, 0.03516861475935085, 0.03197146796304623, 0.03943147715442368, 0.03250432576243033, 0.9969239437480929, 0.20387351498141404, 0.7950136154982994, 0.6131903095338915, 0.2675330773035127, 0.024729948322173446, 0.0944234390482986, 0.9916802333859206, 0.9972122919609223, 0.99640147350698, 0.9963692815234871, 0.9981288675159301, 0.9957490157031612, 0.9931295989732444, 0.9974780735462133, 0.9868132981389097, 0.012375876346296557, 0.8531873631441109, 0.14435240740064503, 0.33480236233276833, 0.6632477177858005, 0.9976679255999715, 0.9570601931947363, 0.03387975886062229, 0.008942880511433295, 0.28158175794514223, 0.7181588158867945, 0.9987067794566376, 0.6239001343001795, 0.3753463711193016, 0.9090699334388207, 0.005791200164017316, 0.0849376024055873, 0.2055577132867565, 0.05938333939395188, 0.7354398186481732, 0.5794378200333095, 0.019921732515879993, 0.027321233164635417, 0.30508710367176217, 0.0671646981963954, 0.9967042596713518, 0.9964093644046217, 0.4588891184618063, 0.5405727097364839, 0.9987481413116499, 0.06807471287347475, 0.26473499450795734, 0.46139527614243997, 0.20530468961841591, 0.9932959670525543, 0.9968425771587076, 0.9917637418470062, 0.9949792749491279, 0.9955824822926029, 0.6067946892799675, 0.3486371675753575, 0.04399469019403321, 0.9982771054918808, 0.1560464982983774, 0.8437219981525015, 0.30189871630582943, 0.1277263799755432, 0.5689629653456015, 0.9575374671520618, 0.04187630523011684, 0.09212948622115708, 0.904843168243507, 0.3410080803690882, 0.0015678532430762676, 0.5111201572428633, 0.1458103516060929, 0.8577062305994428, 0.0954379637217241, 0.046637969326797216, 0.49010517918520025, 0.0715997278233523, 0.43766594190612534, 0.9707845881668811, 0.010245747632368138, 0.01857041758366725, 0.1644415176839037, 0.7608315290022868, 0.07411448684344955, 0.520055754343808, 0.38497633763113065, 0.09455559169887419, 0.9997962193208065, 0.9971916903553638, 0.9993417009990743, 0.25539289533600207, 0.744101500556564, 0.5672771874374942, 0.3601710336538716, 0.04295187955542701, 0.027645391568402112, 0.0017180751822170803, 0.053549035169611583, 0.846192445867049, 0.03471860521985806, 0.06531805388820754, 0.2990503290245554, 0.5182897985345188, 0.0400656925274056, 0.1253254862257247, 0.009615766206577343, 0.007692612965261875, 0.9913000205247043, 0.9927622579481832, 0.9981068662140005, 0.9996213284714026, 0.9993434069446786, 0.2815725478883636, 0.5718625121200201, 0.1460167237501576, 0.9961810779666433, 0.9991007020515875, 0.9938272547146457, 0.07359630451041294, 0.9242830007631271, 0.9953740354521564, 0.9982257366970416, 0.8039815322352151, 0.19478576959845048, 0.9972129280530899, 0.997524625472117, 0.9976999642826144, 0.49055120476779873, 0.45788199970829746, 0.005473374669654658, 0.03266920505950124, 0.0005131288752801242, 0.0049602457943745334, 0.007696933129201862, 0.25075125364601614, 0.5690963234922627, 0.029903255093189498, 0.04173996023424368, 0.04111697575313556, 0.04360891367756802, 0.023361918041554297, 0.9965872876930163, 0.9984947165908561, 0.9963546693761496, 0.9982793768237589, 0.47755828585608906, 0.5186153330563863, 0.996801060761936, 0.9959942356447588, 0.5741723244591128, 0.06923765306407458, 0.34934739777957025, 0.006844786994927525, 0.15014513294032067, 0.22865852537369669, 0.19362466102095519, 0.39976141645360375, 0.02783941006601779, 0.9840112870744983, 0.015155289349882261, 0.6700333948256095, 0.03619883806790899, 0.00922715480162386, 0.2839124554345803, 0.9981441137365876, 0.9982394061012376, 0.0014899095613451307, 0.9935925575347353, 0.9994015402714415, 0.8807377868535395, 0.07951734910486814, 0.027815954819953876, 0.011791546064980448, 0.20106423783604196, 0.7964232797401662, 0.9956892617490151, 0.9930499851750776, 0.5899664910134138, 0.025919029939919853, 0.03579294610750837, 0.3462041856260723, 0.002468479041897129, 0.9957328841082982, 0.9975101457287463, 0.47201093945839445, 0.3164105708952151, 0.07918947328661806, 0.11461634291484192, 0.016845129185969192, 0.0008683056281427418, 0.9959770859792699, 0.9967144327137814, 0.9869770212070288, 0.012196484102368227, 0.0008209171991978614, 0.996206182953273, 0.23005364133023412, 0.5268182589453471, 0.11785096954674236, 0.11464517892435688, 0.009159401778244225, 0.0013739102667366338, 0.99814006107782, 0.9972994424977931, 0.9981708213429548, 0.9958607033317337, 0.994229141285908, 0.18870111207247608, 0.5319820392399395, 0.07703141287342175, 0.04239312654778915, 0.06979356199940896, 0.009822797614731633, 0.0346382863256326, 0.017577637836888184, 0.028434414147907358, 0.9985776951291984, 0.9978484464996701, 0.9946083857203569, 0.07675145838931413, 0.34439756969564034, 0.5776039240324026, 0.9982867960469254, 0.9953823994527485, 0.996861760610017, 0.9964936854726895, 0.09847943219827464, 0.4899351751864163, 0.35206397010883184, 0.05941592409295903, 0.8149617107714001, 0.18420367435243976, 0.9968472061113692, 0.9982282851807592, 0.547402239473742, 0.033989027941180056, 0.41681281633131334, 0.9977592459194385, 0.9957048371578344, 0.29677787560885677, 0.7003957864369019, 0.997031130037588, 0.9992433441176828, 0.998493910228345, 0.9959929513005056, 0.9947663096740822, 0.2775404274795326, 0.3199234484246829, 0.1052739552508572, 0.1080083436989314, 0.18935640002913923, 0.07013439425092385, 0.27983623306118616, 0.41449427002295997, 0.18655748870745745, 0.03717122895298964, 0.011922847022657054, 0.9954599291512533, 0.9920708986122808, 0.9971433309319973, 0.9986822534532203, 0.9977500218265966, 0.9994448985966135, 0.9976373698868372, 0.9979780287586346, 0.5442284231002508, 0.03237619514194126, 0.32992884573216336, 0.09312010412253582, 0.9950534717764317, 0.9025511463295931, 0.09694573583873088, 0.24470791020944485, 0.7535891325768131, 0.995816675242732, 0.9947450357526579, 0.003453975818585618, 0.6540454675148545, 0.2625393778052585, 0.013817861989750446, 0.06908930994875223, 0.9995290880589683, 0.9963117512725727, 0.9950607071528917, 0.9514371172630001, 0.011111674362195621, 0.03611294167713577, 0.4404943860030971, 0.4509309359982685, 0.07449537410346495, 0.023392267230556627, 0.010436549995171417, 0.989149619919391, 0.9977984638662101, 0.1919980591419846, 0.7638897139366994, 0.040204721786142074, 0.0032820181049911896, 0.9973264604930941, 0.9745838559871253, 0.007153681153618796, 0.01809460527091813, 0.0257306536935945, 0.6686345924603079, 0.3051438085916418, 0.11535735488242871, 0.15200027937449428, 0.4885723265608745, 0.24292901792887928, 0.9913762629466419, 0.998718608224387, 0.9592623078363234, 0.04013649823582943, 0.31182776442070054, 0.6843468386950944, 0.9953193786728802, 0.9967533723142048, 0.918622676869345, 0.07382362532492989, 0.007382362532492989, 0.0009399643365567005, 0.6297761054929893, 0.1701335449167628, 0.19833247501346382, 0.19861648562601522, 0.2284089584699175, 0.5730085610310539, 0.9880343805586401, 0.9959336158072984, 0.08697066960319796, 0.9086146271702523, 0.9978739754752549, 0.9952332833538902, 0.3586323688933537, 0.43811305605350237, 0.1754390777559379, 0.027785931283629207, 0.9980855616811523, 0.9974782063106561, 0.7741106738821563, 0.2237663666690608, 0.9242640153444691, 0.06846400113662734, 0.9977116356267196, 0.9984015201385176, 0.8920375457102161, 0.10773400310509856, 0.2206434829101644, 0.561142684932023, 0.011285116409867315, 0.2066343728841222, 0.9939361861637364, 0.9728520800444516, 0.004501166317293885, 0.022205753831983165, 0.00030007775448625894, 0.999167402806933, 0.9969512224778725, 0.4511171206042572, 0.1024205105640972, 0.4463024812187654, 0.9936810496333353, 0.998730813113196, 0.10556790194282596, 0.8930473867055277, 0.9982550303932995, 0.997934389727452, 0.9984418634991951, 0.9975225271380062, 0.41481008235412775, 0.1555537808827979, 0.1027928493552992, 0.025470794530516615, 0.25925630147132983, 0.04093520549547313, 0.9966430021841909, 0.9908648397626372, 0.45920428171229055, 0.520687700184229, 0.019213568272480774, 0.9988753812209404, 0.8188608778727278, 0.029177560119023113, 0.15176529471981087, 0.9971812496468092, 0.9993963908979764, 0.9964863867967113, 0.34733237397021444, 0.5708280781038498, 0.0813783830354662, 0.995287097313437, 0.9978485043631671, 0.9987719255931804, 0.10017381430976409, 0.020895151451116437, 0.6624992136559859, 0.2009621918975022, 0.014749518671376307, 0.9973048754233115, 0.998462645339462, 0.9918750239482762, 0.995367379165313, 0.9980055979586999, 0.9024611537210521, 0.017432384841565642, 0.0791162081271056, 0.9977948461320832, 0.995112391351023, 0.8176495291129674, 0.10636679715009399, 0.075795387765118, 0.998303668476245, 0.9970110062789009, 0.9987530241127207, 0.9972568024586036, 0.9976268451612139, 0.9977743866106981, 0.9983302341264937, 0.9992356762730437, 0.994724235478096, 0.9922927734810172, 0.4187378197579048, 0.5790466880480597, 0.9982858327323559, 0.7940175262186082, 0.2031207625210393, 0.9944860333323766, 0.001331442106360129, 0.8388085270068812, 0.029735540375376214, 0.12959369835238588, 0.996125267514126, 0.12666967364972925, 0.16791096274498993, 0.3210928936702439, 0.38295482731313496, 0.9660370446207341, 0.03388145980273408, 0.0020917631221489463, 0.8736597306842099, 0.0686795558438904, 0.029284683710085246, 0.013596460293968151, 0.012201951545868853, 0.09112488252503925, 0.9066925811241406, 0.9945135901504053, 0.3192341458734202, 0.6392066899254218, 0.041350298000566374, 0.7994100757709417, 0.057218049943879044, 0.1286721697302543, 0.01450984041639038, 0.9917003528138434, 0.9981451566979761, 0.9993905076532187, 0.997662339107495, 0.09978051958515283, 0.8980246762663754, 0.9963372263731611, 0.47693511585999354, 0.5225583303192695, 0.627854572360496, 0.09659301113238401, 0.03490737531021798, 0.24052616138410474, 0.9960532660337168, 0.8763857664573138, 0.04564028978394217, 0.0774501887242655, 0.9930763426371103, 0.7184096999118247, 0.18043700873714744, 0.0979801333290523, 0.0030045015330884862, 0.8584964497871906, 0.08217786790223618, 0.0017484652745156633, 0.0524539582354699, 0.004856847984765732, 0.9961109882474026, 0.9977446015072219, 0.0014439140398078464, 0.27142719719904324, 0.7283869089392047, 0.9980719995435317, 0.9972913517969463, 0.9946471976001743, 0.9952479530867775, 0.9958546099181628, 0.9966736959934445, 0.9918148310010041, 0.9956028493601461, 0.9986263284403297, 0.8402161910713544, 0.07580670882778934, 0.06735018354022718, 0.016611031814854238, 0.995402705441745, 0.9960478925226227, 0.9975690065821367, 0.9979687542748226, 0.9942068987701995, 0.9978823564070701, 0.1050440085904497, 0.24626281130391572, 0.5452585586472138, 0.0009491928487088829, 0.10240736178848059, 0.9983393727842305, 0.9755243772591405, 0.02366956894562906, 0.9876798766748738, 0.9990879346121334, 0.9990767233127557, 0.9979461296710374, 0.9614848439820783, 0.03453451834143155, 0.003837168704603505, 0.9983513922098837, 0.9971433332030016, 0.9973012398385509, 0.6645672840850622, 0.2586435512412922, 0.010413750214316612, 0.0660954350337238, 0.9953211529055391, 0.9979973035426161, 0.9991745354877759, 0.9994225657884435, 0.9964572779911008, 0.9948416863708125, 0.998275665593617, 0.9960461752271628, 0.997810309892483, 0.25402288615957713, 0.11239142085477694, 0.6323159612317532, 0.6804462335774101, 0.009910677223434873, 0.2665450558513274, 0.016952474197980703, 0.02581992224000138, 0.9761217366800797, 0.015251902135626246, 0.008596526658262067, 0.2108631081993302, 0.12298181279689666, 0.004160061320825257, 0.09490139888132618, 0.49660732017351505, 0.07046103862147779, 0.9892617148070778, 0.9933780119371772], \"Term\": [\"_\", \"_\", \"about\", \"about\", \"about\", \"advance\", \"advertising\", \"agency\", \"agree\", \"agree\", \"air\", \"also\", \"also\", \"also\", \"also\", \"also\", \"also\", \"also\", \"also\", \"also\", \"american\", \"animal\", \"announcement\", \"application\", \"apply\", \"apply\", \"apply\", \"arab\", \"armenian\", \"article\", \"article\", \"as\", \"as\", \"as\", \"as\", \"as\", \"astronomy\", \"atheism\", \"atheist\", \"attack\", \"attack\", \"attack\", \"available\", \"available\", \"available\", \"available\", \"ax\", \"back\", \"back\", \"bad\", \"bad\", \"bad\", \"ball\", \"baseball\", \"basic\", \"beat\", \"belief\", \"believe\", \"believe\", \"bible\", \"bike\", \"bind\", \"bit\", \"bit\", \"bit\", \"blue\", \"book\", \"book\", \"book\", \"book\", \"book\", \"border\", \"boy\", \"brain\", \"british\", \"buy\", \"cable\", \"car\", \"card\", \"case\", \"case\", \"case\", \"case\", \"case\", \"catch\", \"cause\", \"cause\", \"cause\", \"cause\", \"center\", \"center\", \"center\", \"certainly\", \"certainly\", \"character\", \"cheap\", \"child\", \"child\", \"chip\", \"choose\", \"christian\", \"christianity\", \"church\", \"circle\", \"circuit\", \"city\", \"city\", \"city\", \"city\", \"city\", \"civilian\", \"claim\", \"claim\", \"clipper\", \"clipper_chip\", \"club\", \"color\", \"come\", \"come\", \"come\", \"comet\", \"compare\", \"computer\", \"computer\", \"computer\", \"concern\", \"connect\", \"connect\", \"connection\", \"consider\", \"consider\", \"consistent\", \"consulting\", \"controller\", \"convert\", \"convince\", \"copy\", \"copy\", \"cost\", \"cost\", \"cost\", \"country\", \"country\", \"country\", \"cpu\", \"cross\", \"crypto\", \"current\", \"current\", \"current\", \"current\", \"database\", \"datum\", \"datum\", \"dealer\", \"death\", \"decision\", \"design\", \"design\", \"design\", \"design\", \"design\", \"devil\", \"diagnosis\", \"die\", \"directory\", \"discussion\", \"disease\", \"disk\", \"display\", \"distribution\", \"distribution\", \"distribution_na\", \"division\", \"division\", \"dn\", \"do\", \"do\", \"do\", \"dog\", \"drive\", \"drive\", \"driver\", \"driver\", \"earth\", \"earth\", \"eat\", \"eat\", \"eat\", \"edge\", \"effect\", \"effect\", \"ei\", \"email\", \"email\", \"email\", \"encrypt\", \"encryption\", \"energy\", \"engine\", \"engineering\", \"entry\", \"even\", \"even\", \"even\", \"even\", \"evidence\", \"evidence\", \"evil\", \"example\", \"example\", \"existence\", \"existence\", \"expensive\", \"experiment\", \"export\", \"extend\", \"external\", \"fact\", \"fact\", \"fact\", \"faith\", \"family\", \"fan\", \"fast\", \"fast\", \"fax\", \"fax\", \"field\", \"field\", \"field\", \"field\", \"file\", \"final\", \"final\", \"fire\", \"firearm\", \"first\", \"first\", \"first\", \"first\", \"first\", \"first\", \"first\", \"flight\", \"food\", \"force\", \"force\", \"format\", \"freedom\", \"friend\", \"fun\", \"fund\", \"game\", \"gang\", \"gateway\", \"get\", \"get\", \"get\", \"go\", \"go\", \"go\", \"god\", \"good\", \"good\", \"good\", \"good\", \"good\", \"government\", \"government\", \"graphic\", \"greek\", \"ground\", \"ground\", \"ground\", \"ground\", \"group\", \"group\", \"group\", \"group\", \"guess\", \"gun\", \"hardware\", \"headache\", \"hear\", \"hear\", \"hell\", \"hell\", \"helmet\", \"here\", \"here\", \"here\", \"high\", \"high\", \"high\", \"high\", \"high\", \"high\", \"hit\", \"hit\", \"hockey\", \"hook\", \"host\", \"host\", \"however\", \"however\", \"however\", \"however\", \"however\", \"ignorant\", \"ill\", \"image\", \"image\", \"implement\", \"include\", \"include\", \"include\", \"include\", \"include\", \"include\", \"include\", \"include\", \"individual\", \"info\", \"info\", \"information\", \"information\", \"information\", \"information\", \"inhabitant\", \"insist\", \"insurance\", \"internal\", \"internet\", \"invasion\", \"islamic\", \"israeli\", \"issue\", \"issue\", \"item\", \"item\", \"jewish\", \"jewish\", \"judge\", \"just\", \"just\", \"just\", \"key\", \"key\", \"keyboard\", \"kill\", \"kill\", \"know\", \"know\", \"know\", \"land\", \"land\", \"land\", \"last\", \"last\", \"last\", \"last\", \"last\", \"laugh\", \"launch\", \"law\", \"law\", \"law_enforcement\", \"lead\", \"lead\", \"lead\", \"lead\", \"league\", \"lebanese\", \"lebanese_resistance\", \"left\", \"legal\", \"less\", \"less\", \"less\", \"library\", \"life\", \"life\", \"light\", \"light\", \"light\", \"like\", \"like\", \"likely\", \"likely\", \"live\", \"live\", \"live\", \"live\", \"look\", \"look\", \"look\", \"lose\", \"lose\", \"lose\", \"lot\", \"lot\", \"lot\", \"love\", \"love\", \"love\", \"low\", \"low\", \"low\", \"m\", \"mac\", \"machine\", \"mail\", \"mail\", \"make\", \"make\", \"make\", \"make\", \"make\", \"man\", \"man\", \"man\", \"man\", \"many\", \"many\", \"many\", \"many\", \"many\", \"many\", \"mar\", \"marry\", \"material\", \"max\", \"maybe\", \"mean\", \"mean\", \"mean\", \"medical\", \"memory\", \"migraine\", \"military\", \"military\", \"mission\", \"mode\", \"model\", \"model\", \"monitor\", \"moon\", \"moral\", \"more\", \"more\", \"more\", \"more\", \"more\", \"more\", \"more\", \"most\", \"most\", \"most\", \"most\", \"most\", \"most\", \"most\", \"mother\", \"motif\", \"motorcycle\", \"mount\", \"murder\", \"murder\", \"muslim\", \"natural\", \"need\", \"need\", \"need\", \"need\", \"new\", \"new\", \"new\", \"new\", \"new\", \"news\", \"news\", \"next\", \"next\", \"next\", \"next\", \"nhl\", \"nntp_poste\", \"nntp_poste\", \"northern\", \"notice\", \"now\", \"now\", \"now\", \"now\", \"object\", \"object\", \"occupy\", \"offense\", \"old\", \"old\", \"old\", \"old\", \"old\", \"on\", \"once_tappe\", \"only\", \"only\", \"only\", \"only\", \"only\", \"only\", \"opportunity\", \"orbit\", \"organization\", \"organization\", \"organization\", \"originator\", \"other\", \"other\", \"other\", \"other\", \"other\", \"other\", \"out\", \"owner\", \"package\", \"pain\", \"palestinian\", \"part\", \"part\", \"part\", \"part\", \"part\", \"part\", \"part\", \"part\", \"part\", \"patent\", \"patient\", \"patrol\", \"pay\", \"pay\", \"pay\", \"pc\", \"peace\", \"pem\", \"pen\", \"people\", \"people\", \"people\", \"people\", \"period\", \"period\", \"pgp\", \"physical\", \"pick\", \"pick\", \"pick\", \"pin\", \"pitch\", \"plane\", \"plane\", \"planet\", \"play\", \"player\", \"playoff\", \"pm\", \"point\", \"point\", \"point\", \"point\", \"point\", \"power\", \"power\", \"power\", \"power\", \"power\", \"power\", \"predict\", \"prediction\", \"president\", \"pretty\", \"prevent\", \"price\", \"print\", \"private\", \"problem\", \"problem\", \"problem\", \"problem\", \"processor\", \"program\", \"program\", \"project\", \"project\", \"proof\", \"protect\", \"protect\", \"provide\", \"provide\", \"provide\", \"provide\", \"public\", \"pull\", \"purdue_university\", \"purpose\", \"purpose\", \"purpose\", \"question\", \"question\", \"question\", \"question\", \"question\", \"radiation\", \"ranger\", \"rather\", \"rather\", \"rather\", \"rather\", \"rational\", \"really\", \"really\", \"really\", \"reason\", \"reason\", \"reason\", \"reference\", \"reference\", \"reference\", \"reference\", \"reflect\", \"religion\", \"religious\", \"religious\", \"remove\", \"remove\", \"rent\", \"replace\", \"reply\", \"reply\", \"reply\", \"report\", \"report\", \"report\", \"report\", \"research\", \"research\", \"research\", \"researcher\", \"revelation\", \"review\", \"review\", \"ride\", \"rider\", \"right\", \"right\", \"right\", \"right\", \"ripem\", \"rlk\", \"road\", \"road\", \"rocket\", \"rocket\", \"route\", \"rsa\", \"rule\", \"rule\", \"run\", \"run\", \"run\", \"run\", \"russian\", \"s\", \"s\", \"s\", \"s\", \"sale\", \"satellite\", \"say\", \"say\", \"say\", \"schedule\", \"science\", \"scientific\", \"scientific\", \"score\", \"screen\", \"scsi\", \"season\", \"second\", \"second\", \"second\", \"second\", \"second\", \"second\", \"secret\", \"sector\", \"secure\", \"secure\", \"secure\", \"security\", \"see\", \"see\", \"see\", \"self\", \"sell\", \"seller\", \"send\", \"send\", \"send\", \"serdar_argic\", \"serious\", \"server\", \"set\", \"set\", \"set\", \"set\", \"set\", \"shoot\", \"shot\", \"shuttle\", \"signature\", \"sin\", \"situation\", \"situation\", \"situation\", \"slave\", \"slightly\", \"so\", \"so\", \"so\", \"society\", \"socket\", \"software\", \"soldier\", \"son\", \"soon\", \"sorry\", \"space\", \"spacecraft\", \"specify\", \"speed\", \"speed\", \"sphere\", \"star\", \"star\", \"stat\", \"state\", \"state\", \"state\", \"state\", \"storage\", \"study\", \"study\", \"study\", \"study\", \"subject\", \"subject\", \"such\", \"such\", \"such\", \"such\", \"such\", \"such\", \"surface\", \"surface\", \"syndrome\", \"system\", \"system\", \"system\", \"take\", \"take\", \"take\", \"take\", \"talent\", \"tape\", \"team\", \"telnet\", \"terrorism\", \"terrorism\", \"terrorist\", \"thank\", \"thank\", \"then\", \"then\", \"then\", \"then\", \"theory\", \"there\", \"there\", \"there\", \"thi\", \"think\", \"think\", \"think\", \"think\", \"time\", \"time\", \"time\", \"time\", \"time\", \"together\", \"too\", \"too\", \"town\", \"town\", \"trade\", \"traffic\", \"translation\", \"trap\", \"treatment\", \"trial\", \"troop\", \"trust\", \"truth\", \"try\", \"try\", \"try\", \"try\", \"tumor\", \"turk\", \"turkish\", \"tv\", \"univ\", \"upgrade\", \"use\", \"use\", \"use\", \"use\", \"use\", \"user\", \"valid\", \"valid\", \"velocity\", \"version\", \"video\", \"village\", \"want\", \"want\", \"want\", \"war\", \"warranty\", \"weapon\", \"well\", \"well\", \"well\", \"well\", \"wife\", \"willing\", \"win\", \"window\", \"wing\", \"winner\", \"wire\", \"withdraw\", \"wonder\", \"word\", \"word\", \"word\", \"work\", \"work\", \"work\", \"work\", \"work\", \"write\", \"write\", \"write\", \"year\", \"year\", \"year\", \"year\", \"year\", \"year\", \"youth\", \"zone\"]}, \"R\": 30, \"lambda.step\": 0.01, \"plot.opts\": {\"xlab\": \"PC1\", \"ylab\": \"PC2\"}, \"topic.order\": [2, 7, 10, 4, 3, 1, 8, 6, 9, 5]};\n",
       "\n",
       "function LDAvis_load_lib(url, callback){\n",
       "  var s = document.createElement('script');\n",
       "  s.src = url;\n",
       "  s.async = true;\n",
       "  s.onreadystatechange = s.onload = callback;\n",
       "  s.onerror = function(){console.warn(\"failed to load library \" + url);};\n",
       "  document.getElementsByTagName(\"head\")[0].appendChild(s);\n",
       "}\n",
       "\n",
       "if(typeof(LDAvis) !== \"undefined\"){\n",
       "   // already loaded: just create the visualization\n",
       "   !function(LDAvis){\n",
       "       new LDAvis(\"#\" + \"ldavis_el131002022538938400561504697\", ldavis_el131002022538938400561504697_data);\n",
       "   }(LDAvis);\n",
       "}else if(typeof define === \"function\" && define.amd){\n",
       "   // require.js is available: use it to load d3/LDAvis\n",
       "   require.config({paths: {d3: \"https://d3js.org/d3.v5\"}});\n",
       "   require([\"d3\"], function(d3){\n",
       "      window.d3 = d3;\n",
       "      LDAvis_load_lib(\"https://cdn.jsdelivr.net/gh/bmabey/pyLDAvis@3.4.0/pyLDAvis/js/ldavis.v3.0.0.js\", function(){\n",
       "        new LDAvis(\"#\" + \"ldavis_el131002022538938400561504697\", ldavis_el131002022538938400561504697_data);\n",
       "      });\n",
       "    });\n",
       "}else{\n",
       "    // require.js not available: dynamically load d3 & LDAvis\n",
       "    LDAvis_load_lib(\"https://d3js.org/d3.v5.js\", function(){\n",
       "         LDAvis_load_lib(\"https://cdn.jsdelivr.net/gh/bmabey/pyLDAvis@3.4.0/pyLDAvis/js/ldavis.v3.0.0.js\", function(){\n",
       "                 new LDAvis(\"#\" + \"ldavis_el131002022538938400561504697\", ldavis_el131002022538938400561504697_data);\n",
       "            })\n",
       "         });\n",
       "}\n",
       "</script>"
      ],
      "text/plain": [
       "<IPython.core.display.HTML object>"
      ]
     },
     "execution_count": 37,
     "metadata": {},
     "output_type": "execute_result"
    }
   ],
   "source": [
    "import pyLDAvis\n",
    "import pyLDAvis.gensim_models as gensimvis\n",
    "\n",
    "# Create the pyLDAvis visualization\n",
    "lda_visualization = gensimvis.prepare(lda_model, corpus, id2word)\n",
    "\n",
    "# Display the visualization in the notebook\n",
    "pyLDAvis.display(lda_visualization)\n"
   ]
  },
  {
   "cell_type": "code",
   "execution_count": null,
   "metadata": {},
   "outputs": [],
   "source": []
  }
 ],
 "metadata": {
  "kernelspec": {
   "display_name": "Python 3",
   "language": "python",
   "name": "python3"
  },
  "language_info": {
   "codemirror_mode": {
    "name": "ipython",
    "version": 3
   },
   "file_extension": ".py",
   "mimetype": "text/x-python",
   "name": "python",
   "nbconvert_exporter": "python",
   "pygments_lexer": "ipython3",
   "version": "3.11.5"
  }
 },
 "nbformat": 4,
 "nbformat_minor": 4
}
