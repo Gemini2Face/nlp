{
 "metadata": {
  "kernelspec": {
   "language": "python",
   "display_name": "Python 3",
   "name": "python3"
  },
  "language_info": {
   "name": "python",
   "version": "3.10.12",
   "mimetype": "text/x-python",
   "codemirror_mode": {
    "name": "ipython",
    "version": 3
   },
   "pygments_lexer": "ipython3",
   "nbconvert_exporter": "python",
   "file_extension": ".py"
  },
  "kaggle": {
   "accelerator": "none",
   "dataSources": [
    {
     "sourceId": 6998326,
     "sourceType": "datasetVersion",
     "datasetId": 4023033
    },
    {
     "sourceId": 6998507,
     "sourceType": "datasetVersion",
     "datasetId": 4023142
    }
   ],
   "dockerImageVersionId": 30587,
   "isInternetEnabled": false,
   "language": "python",
   "sourceType": "notebook",
   "isGpuEnabled": false
  }
 },
 "nbformat_minor": 4,
 "nbformat": 4,
 "cells": [
  {
   "cell_type": "code",
   "source": [
    "import pandas as pd\n",
    "import numpy as np\n",
    "from sklearn.feature_extraction.text import TfidfVectorizer\n",
    "from sklearn.decomposition import TruncatedSVD\n",
    "from surprise import Dataset, Reader, SVD\n",
    "from surprise.model_selection import train_test_split\n",
    "from surprise.accuracy import rmse\n",
    "from sklearn.metrics.pairwise import cosine_similarity\n",
    "from sklearn.preprocessing import normalize"
   ],
   "metadata": {
    "execution": {
     "iopub.status.busy": "2023-11-18T21:47:50.270728Z",
     "iopub.execute_input": "2023-11-18T21:47:50.271168Z",
     "iopub.status.idle": "2023-11-18T21:47:50.281895Z",
     "shell.execute_reply.started": "2023-11-18T21:47:50.271133Z",
     "shell.execute_reply": "2023-11-18T21:47:50.279993Z"
    },
    "trusted": true
   },
   "execution_count": 9,
   "outputs": []
  },
  {
   "cell_type": "code",
   "source": [
    "movies = pd.read_csv(\"/kaggle/input/ml-10m/ml-10M100K/movies.dat\", sep=\"::\", engine='python', header=None, names=['movieId', 'title', 'genres'])\n",
    "ratings = pd.read_csv(\"/kaggle/input/ml-10m/ml-10M100K/ratings.dat\", sep=\"::\", engine='python', header=None, names=['userId', 'movieId', 'rating', 'timestamp'])\n",
    "tags = pd.read_csv(\"/kaggle/input/ml-10m/ml-10M100K/tags.dat\", sep=\"::\", engine='python', header=None, names=['userId', 'movieId', 'tag', 'timestamp'])"
   ],
   "metadata": {
    "execution": {
     "iopub.status.busy": "2023-11-18T21:47:50.284125Z",
     "iopub.execute_input": "2023-11-18T21:47:50.284840Z",
     "iopub.status.idle": "2023-11-18T21:49:33.056249Z",
     "shell.execute_reply.started": "2023-11-18T21:47:50.284805Z",
     "shell.execute_reply": "2023-11-18T21:49:33.055104Z"
    },
    "trusted": true
   },
   "execution_count": 10,
   "outputs": []
  },
  {
   "cell_type": "code",
   "source": [
    "movies.head()"
   ],
   "metadata": {
    "execution": {
     "iopub.status.busy": "2023-11-18T21:49:33.058128Z",
     "iopub.execute_input": "2023-11-18T21:49:33.058543Z",
     "iopub.status.idle": "2023-11-18T21:49:33.074194Z",
     "shell.execute_reply.started": "2023-11-18T21:49:33.058514Z",
     "shell.execute_reply": "2023-11-18T21:49:33.073137Z"
    },
    "trusted": true
   },
   "execution_count": 11,
   "outputs": [
    {
     "execution_count": 11,
     "output_type": "execute_result",
     "data": {
      "text/plain": "   movieId                               title  \\\n0        1                    Toy Story (1995)   \n1        2                      Jumanji (1995)   \n2        3             Grumpier Old Men (1995)   \n3        4            Waiting to Exhale (1995)   \n4        5  Father of the Bride Part II (1995)   \n\n                                        genres  \n0  Adventure|Animation|Children|Comedy|Fantasy  \n1                   Adventure|Children|Fantasy  \n2                               Comedy|Romance  \n3                         Comedy|Drama|Romance  \n4                                       Comedy  ",
      "text/html": "<div>\n<style scoped>\n    .dataframe tbody tr th:only-of-type {\n        vertical-align: middle;\n    }\n\n    .dataframe tbody tr th {\n        vertical-align: top;\n    }\n\n    .dataframe thead th {\n        text-align: right;\n    }\n</style>\n<table border=\"1\" class=\"dataframe\">\n  <thead>\n    <tr style=\"text-align: right;\">\n      <th></th>\n      <th>movieId</th>\n      <th>title</th>\n      <th>genres</th>\n    </tr>\n  </thead>\n  <tbody>\n    <tr>\n      <th>0</th>\n      <td>1</td>\n      <td>Toy Story (1995)</td>\n      <td>Adventure|Animation|Children|Comedy|Fantasy</td>\n    </tr>\n    <tr>\n      <th>1</th>\n      <td>2</td>\n      <td>Jumanji (1995)</td>\n      <td>Adventure|Children|Fantasy</td>\n    </tr>\n    <tr>\n      <th>2</th>\n      <td>3</td>\n      <td>Grumpier Old Men (1995)</td>\n      <td>Comedy|Romance</td>\n    </tr>\n    <tr>\n      <th>3</th>\n      <td>4</td>\n      <td>Waiting to Exhale (1995)</td>\n      <td>Comedy|Drama|Romance</td>\n    </tr>\n    <tr>\n      <th>4</th>\n      <td>5</td>\n      <td>Father of the Bride Part II (1995)</td>\n      <td>Comedy</td>\n    </tr>\n  </tbody>\n</table>\n</div>"
     },
     "metadata": {}
    }
   ]
  },
  {
   "cell_type": "code",
   "source": [
    "ratings.head()"
   ],
   "metadata": {
    "execution": {
     "iopub.status.busy": "2023-11-18T21:49:33.075622Z",
     "iopub.execute_input": "2023-11-18T21:49:33.075924Z",
     "iopub.status.idle": "2023-11-18T21:49:33.089487Z",
     "shell.execute_reply.started": "2023-11-18T21:49:33.075897Z",
     "shell.execute_reply": "2023-11-18T21:49:33.088369Z"
    },
    "trusted": true
   },
   "execution_count": 12,
   "outputs": [
    {
     "execution_count": 12,
     "output_type": "execute_result",
     "data": {
      "text/plain": "   userId  movieId  rating  timestamp\n0       1      122     5.0  838985046\n1       1      185     5.0  838983525\n2       1      231     5.0  838983392\n3       1      292     5.0  838983421\n4       1      316     5.0  838983392",
      "text/html": "<div>\n<style scoped>\n    .dataframe tbody tr th:only-of-type {\n        vertical-align: middle;\n    }\n\n    .dataframe tbody tr th {\n        vertical-align: top;\n    }\n\n    .dataframe thead th {\n        text-align: right;\n    }\n</style>\n<table border=\"1\" class=\"dataframe\">\n  <thead>\n    <tr style=\"text-align: right;\">\n      <th></th>\n      <th>userId</th>\n      <th>movieId</th>\n      <th>rating</th>\n      <th>timestamp</th>\n    </tr>\n  </thead>\n  <tbody>\n    <tr>\n      <th>0</th>\n      <td>1</td>\n      <td>122</td>\n      <td>5.0</td>\n      <td>838985046</td>\n    </tr>\n    <tr>\n      <th>1</th>\n      <td>1</td>\n      <td>185</td>\n      <td>5.0</td>\n      <td>838983525</td>\n    </tr>\n    <tr>\n      <th>2</th>\n      <td>1</td>\n      <td>231</td>\n      <td>5.0</td>\n      <td>838983392</td>\n    </tr>\n    <tr>\n      <th>3</th>\n      <td>1</td>\n      <td>292</td>\n      <td>5.0</td>\n      <td>838983421</td>\n    </tr>\n    <tr>\n      <th>4</th>\n      <td>1</td>\n      <td>316</td>\n      <td>5.0</td>\n      <td>838983392</td>\n    </tr>\n  </tbody>\n</table>\n</div>"
     },
     "metadata": {}
    }
   ]
  },
  {
   "cell_type": "code",
   "source": [
    "tags.head()"
   ],
   "metadata": {
    "execution": {
     "iopub.status.busy": "2023-11-18T21:49:33.092626Z",
     "iopub.execute_input": "2023-11-18T21:49:33.093930Z",
     "iopub.status.idle": "2023-11-18T21:49:33.106974Z",
     "shell.execute_reply.started": "2023-11-18T21:49:33.093888Z",
     "shell.execute_reply": "2023-11-18T21:49:33.105620Z"
    },
    "trusted": true
   },
   "execution_count": 13,
   "outputs": [
    {
     "execution_count": 13,
     "output_type": "execute_result",
     "data": {
      "text/plain": "   userId  movieId              tag   timestamp\n0      15     4973       excellent!  1215184630\n1      20     1747         politics  1188263867\n2      20     1747           satire  1188263867\n3      20     2424  chick flick 212  1188263835\n4      20     2424            hanks  1188263835",
      "text/html": "<div>\n<style scoped>\n    .dataframe tbody tr th:only-of-type {\n        vertical-align: middle;\n    }\n\n    .dataframe tbody tr th {\n        vertical-align: top;\n    }\n\n    .dataframe thead th {\n        text-align: right;\n    }\n</style>\n<table border=\"1\" class=\"dataframe\">\n  <thead>\n    <tr style=\"text-align: right;\">\n      <th></th>\n      <th>userId</th>\n      <th>movieId</th>\n      <th>tag</th>\n      <th>timestamp</th>\n    </tr>\n  </thead>\n  <tbody>\n    <tr>\n      <th>0</th>\n      <td>15</td>\n      <td>4973</td>\n      <td>excellent!</td>\n      <td>1215184630</td>\n    </tr>\n    <tr>\n      <th>1</th>\n      <td>20</td>\n      <td>1747</td>\n      <td>politics</td>\n      <td>1188263867</td>\n    </tr>\n    <tr>\n      <th>2</th>\n      <td>20</td>\n      <td>1747</td>\n      <td>satire</td>\n      <td>1188263867</td>\n    </tr>\n    <tr>\n      <th>3</th>\n      <td>20</td>\n      <td>2424</td>\n      <td>chick flick 212</td>\n      <td>1188263835</td>\n    </tr>\n    <tr>\n      <th>4</th>\n      <td>20</td>\n      <td>2424</td>\n      <td>hanks</td>\n      <td>1188263835</td>\n    </tr>\n  </tbody>\n</table>\n</div>"
     },
     "metadata": {}
    }
   ]
  },
  {
   "cell_type": "code",
   "source": [
    "tags['tag'] = tags['tag'].replace(np.nan, '', regex=True)\n",
    "movie_tags = tags.groupby('movieId')['tag'].apply(lambda x: ' '.join(x)).reset_index()\n",
    "movies_with_tags = pd.merge(movies, movie_tags, on='movieId', how='left')\n",
    "movies_with_tags['tag'] = movies_with_tags['tag'].fillna('')"
   ],
   "metadata": {
    "execution": {
     "iopub.status.busy": "2023-11-18T21:49:33.108982Z",
     "iopub.execute_input": "2023-11-18T21:49:33.109592Z",
     "iopub.status.idle": "2023-11-18T21:49:33.456913Z",
     "shell.execute_reply.started": "2023-11-18T21:49:33.109536Z",
     "shell.execute_reply": "2023-11-18T21:49:33.455786Z"
    },
    "trusted": true
   },
   "execution_count": 14,
   "outputs": []
  },
  {
   "cell_type": "code",
   "source": [
    "tfidf_vectorizer = TfidfVectorizer(stop_words='english')\n",
    "tfidf_matrix = tfidf_vectorizer.fit_transform(movies_with_tags['tag'])\n",
    "svd_content = TruncatedSVD(n_components=50, random_state=50)\n",
    "latent_matrix_content = svd_content.fit_transform(tfidf_matrix)"
   ],
   "metadata": {
    "execution": {
     "iopub.status.busy": "2023-11-18T21:49:33.458268Z",
     "iopub.execute_input": "2023-11-18T21:49:33.459163Z",
     "iopub.status.idle": "2023-11-18T21:49:34.428615Z",
     "shell.execute_reply.started": "2023-11-18T21:49:33.459132Z",
     "shell.execute_reply": "2023-11-18T21:49:34.426742Z"
    },
    "trusted": true
   },
   "execution_count": 15,
   "outputs": []
  },
  {
   "cell_type": "code",
   "source": [
    "reader = Reader(rating_scale=(0.5, 5))\n",
    "data = Dataset.load_from_df(ratings[['userId', 'movieId', 'rating']], reader)\n",
    "trainset, testset = train_test_split(data, test_size=0.2, random_state=50)"
   ],
   "metadata": {
    "execution": {
     "iopub.status.busy": "2023-11-18T21:49:34.430326Z",
     "iopub.execute_input": "2023-11-18T21:49:34.432239Z",
     "iopub.status.idle": "2023-11-18T21:50:16.976753Z",
     "shell.execute_reply.started": "2023-11-18T21:49:34.432196Z",
     "shell.execute_reply": "2023-11-18T21:50:16.975767Z"
    },
    "trusted": true
   },
   "execution_count": 16,
   "outputs": []
  },
  {
   "cell_type": "code",
   "source": [
    "model_collaborative = SVD(n_factors=50, biased=True, random_state=50)\n",
    "model_collaborative.fit(trainset)\n",
    "predictions = model_collaborative.test(testset)\n",
    "print('Collaborative Filter RMSE:', rmse(predictions))"
   ],
   "metadata": {
    "execution": {
     "iopub.status.busy": "2023-11-18T21:50:16.978291Z",
     "iopub.execute_input": "2023-11-18T21:50:16.979033Z",
     "iopub.status.idle": "2023-11-18T21:52:52.757939Z",
     "shell.execute_reply.started": "2023-11-18T21:50:16.978993Z",
     "shell.execute_reply": "2023-11-18T21:52:52.756597Z"
    },
    "trusted": true
   },
   "execution_count": 17,
   "outputs": [
    {
     "name": "stdout",
     "text": "RMSE: 0.7977\nCollaborative Filter RMSE: 0.7976651425446813\n",
     "output_type": "stream"
    }
   ]
  },
  {
   "cell_type": "code",
   "source": [
    "movie_factors = model_collaborative.qi\n",
    "user_factors = model_collaborative.pu\n",
    "latent_matrix_collaborative = np.dot(user_factors, movie_factors.T)"
   ],
   "metadata": {
    "execution": {
     "iopub.status.busy": "2023-11-18T21:52:52.759274Z",
     "iopub.execute_input": "2023-11-18T21:52:52.759610Z",
     "iopub.status.idle": "2023-11-18T21:52:56.010399Z",
     "shell.execute_reply.started": "2023-11-18T21:52:52.759570Z",
     "shell.execute_reply": "2023-11-18T21:52:56.008854Z"
    },
    "trusted": true
   },
   "execution_count": 18,
   "outputs": []
  },
  {
   "cell_type": "code",
   "source": [
    "min_rows = min(latent_matrix_content.shape[0], latent_matrix_collaborative.shape[0])\n",
    "latent_matrix_content = latent_matrix_content[:min_rows, :]\n",
    "latent_matrix_collaborative = latent_matrix_collaborative[:min_rows, :]"
   ],
   "metadata": {
    "execution": {
     "iopub.status.busy": "2023-11-18T21:52:56.015649Z",
     "iopub.execute_input": "2023-11-18T21:52:56.016966Z",
     "iopub.status.idle": "2023-11-18T21:52:56.025030Z",
     "shell.execute_reply.started": "2023-11-18T21:52:56.016907Z",
     "shell.execute_reply": "2023-11-18T21:52:56.023604Z"
    },
    "trusted": true
   },
   "execution_count": 19,
   "outputs": []
  },
  {
   "cell_type": "code",
   "source": [
    "hybrid_matrix = np.concatenate([latent_matrix_content, latent_matrix_collaborative], axis=1)\n",
    "movie_titles = movies['title'].tolist()"
   ],
   "metadata": {
    "execution": {
     "iopub.status.busy": "2023-11-18T21:54:37.224120Z",
     "iopub.execute_input": "2023-11-18T21:54:37.224736Z",
     "iopub.status.idle": "2023-11-18T21:54:37.684309Z",
     "shell.execute_reply.started": "2023-11-18T21:54:37.224698Z",
     "shell.execute_reply": "2023-11-18T21:54:37.683409Z"
    },
    "trusted": true
   },
   "execution_count": 21,
   "outputs": []
  },
  {
   "cell_type": "code",
   "source": [
    "def hybrid_recommender(user_id, movie_title):\n",
    "    movie_idx = movie_titles.index(movie_title)\n",
    "    \n",
    "    weight_content = 0.7\n",
    "    weight_collaborative = 0.3\n",
    "    hybrid_score = (\n",
    "        weight_content * latent_matrix_content[user_id, movie_idx] +\n",
    "        weight_collaborative * latent_matrix_collaborative[user_id, movie_idx]\n",
    "    )\n",
    "    \n",
    "    return hybrid_score"
   ],
   "metadata": {
    "execution": {
     "iopub.status.busy": "2023-11-18T21:54:43.439250Z",
     "iopub.execute_input": "2023-11-18T21:54:43.440108Z",
     "iopub.status.idle": "2023-11-18T21:54:43.446955Z",
     "shell.execute_reply.started": "2023-11-18T21:54:43.440057Z",
     "shell.execute_reply": "2023-11-18T21:54:43.445839Z"
    },
    "trusted": true
   },
   "execution_count": 23,
   "outputs": []
  },
  {
   "cell_type": "code",
   "source": [
    "user_id = 1\n",
    "movie_title = 'Toy Story (1995)'\n",
    "score = hybrid_recommender(user_id, movie_title)\n",
    "print(f'Hybrid Score for User {user_id} and Movie \"{movie_title}\": {score}')"
   ],
   "metadata": {
    "execution": {
     "iopub.status.busy": "2023-11-18T21:54:46.581061Z",
     "iopub.execute_input": "2023-11-18T21:54:46.581491Z",
     "iopub.status.idle": "2023-11-18T21:54:46.587900Z",
     "shell.execute_reply.started": "2023-11-18T21:54:46.581457Z",
     "shell.execute_reply": "2023-11-18T21:54:46.586730Z"
    },
    "trusted": true
   },
   "execution_count": 24,
   "outputs": [
    {
     "name": "stdout",
     "text": "Hybrid Score for User 1 and Movie \"Toy Story (1995)\": 0.0317605655288499\n",
     "output_type": "stream"
    }
   ]
  }
 ]
}
